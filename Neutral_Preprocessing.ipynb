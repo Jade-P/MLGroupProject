{
  "nbformat": 4,
  "nbformat_minor": 0,
  "metadata": {
    "colab": {
      "provenance": [],
      "include_colab_link": true
    },
    "kernelspec": {
      "name": "python3",
      "display_name": "Python 3"
    },
    "language_info": {
      "name": "python"
    }
  },
  "cells": [
    {
      "cell_type": "markdown",
      "metadata": {
        "id": "view-in-github",
        "colab_type": "text"
      },
      "source": [
        "<a href=\"https://colab.research.google.com/github/Jade-P/MLGroupProject/blob/Neutral--Jade/Neutral_Preprocessing.ipynb\" target=\"_parent\"><img src=\"https://colab.research.google.com/assets/colab-badge.svg\" alt=\"Open In Colab\"/></a>"
      ]
    },
    {
      "cell_type": "markdown",
      "source": [
        "##Data exploration"
      ],
      "metadata": {
        "id": "bf-EFWyMR_gb"
      }
    },
    {
      "cell_type": "markdown",
      "source": [
        "I manually removed images that did not contain a face, expressed the wrong emotion, or contained more than one face. Below are some examples of images that I removed."
      ],
      "metadata": {
        "id": "vYcjKqgzWdz_"
      }
    },
    {
      "cell_type": "markdown",
      "source": [
        "![Neutral-1158.jpg](data:image/jpeg;base64,/9j/4AAQSkZJRgABAQAAAQABAAD/2wBDAAIBAQEBAQIBAQECAgICAgQDAgICAgUEBAMEBgUGBgYFBgYGBwkIBgcJBwYGCAsICQoKCgoKBggLDAsKDAkKCgr/wAALCAAwADABAREA/8QAHwAAAQUBAQEBAQEAAAAAAAAAAAECAwQFBgcICQoL/8QAtRAAAgEDAwIEAwUFBAQAAAF9AQIDAAQRBRIhMUEGE1FhByJxFDKBkaEII0KxwRVS0fAkM2JyggkKFhcYGRolJicoKSo0NTY3ODk6Q0RFRkdISUpTVFVWV1hZWmNkZWZnaGlqc3R1dnd4eXqDhIWGh4iJipKTlJWWl5iZmqKjpKWmp6ipqrKztLW2t7i5usLDxMXGx8jJytLT1NXW19jZ2uHi4+Tl5ufo6erx8vP09fb3+Pn6/9oACAEBAAA/APofxF4lvIdTtrS2BC3DZ3A/dQEZ59a6Ox1aK002GSazVIgO/PFYfhrwnqXx0+LOhfCbRgyTa3qSRTSKMmKHrLJ/wGMO34V+sXh3QdK8LaBZeGtCtFgstPtI7a0gXpHEihVX8ABVygkKCzEADqTX5FS6Ursl9KpMipyvBG08jHvzVXW9eaGxws/3Dt8rzOdwHevpv/gk38FJ9U1fWv2jPENsWVd+maDJKvLMcG4lX2ACpn3cdq+5KK8Y/bU+NTfDj4YXPhPw3e41/X4Gt7QRt89vARiWf2wuVX/aOexr4Ju9PmhkDon+jbdq8ZII715r490+6uNZZ9OZjLO4VIhyGcnAA+pxX68/AX4aWPwd+Dfhv4aWECoNI0iGCbaPvzbd0r/VpC7fjXXVifEHx3oPw78LXvibXr6KGO1sbi4VJHwZfKiaRlHqdqmvz00r4r3Xxx1i98ceJdSiubq+cO7hxhEblAo6bQMACvPJdUh0/RodKhIidEOEJzv9wT/I81Z/Zb8ASfFr9qvwf4XFr5trbasuo6iCOPJtv3zZ9iVVfqw9a/WAdOlFcF+0r4GsPHfwg1W1vL67tJNPjGoW17YY8+3eHLl0zwTt3jB4IYg8Gvhjxp+zNFpmjXfxI+E0iadbwakbO9RbZ7a0uLgIkjjycE2pO9ThQYic7Qo5r598QeIrnVZVSB8iSQbhvwU9TwOwr7c/4JN/CK1sdI8R/Gu63Nc31yNLs2c7sQxgPJjPQF2T6+WK+yqKju7aC9tpLO6iDxyoUkRujKRgj8jXzv4h8F33jP8AZRvPCU1wW1DTbtYW8uIlt9rdPZ/Iq87vLhAwPSvzM8GW8kOqvpGqJ5UqTiKWCVvnjXrk+uT09q/V79hPRrfw3+yz4VhXaDeW8t2SFxkSTOy59flxXrxnjAzmj7RHjJJ/Knbg6nae1eHvrB0f4jN8Obo+Wms+MLxbcQqSW2vbXrbuyqVuXOepPHQ8f//Z)\n",
        "\n",
        "![Neutral-2156.jpg](data:image/jpeg;base64,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)\n",
        "\n",
        "![Neutral-1058.jpg](data:image/jpeg;base64,/9j/4AAQSkZJRgABAQAAAQABAAD/2wBDAAIBAQEBAQIBAQECAgICAgQDAgICAgUEBAMEBgUGBgYFBgYGBwkIBgcJBwYGCAsICQoKCgoKBggLDAsKDAkKCgr/wAALCAAwADABAREA/8QAHwAAAQUBAQEBAQEAAAAAAAAAAAECAwQFBgcICQoL/8QAtRAAAgEDAwIEAwUFBAQAAAF9AQIDAAQRBRIhMUEGE1FhByJxFDKBkaEII0KxwRVS0fAkM2JyggkKFhcYGRolJicoKSo0NTY3ODk6Q0RFRkdISUpTVFVWV1hZWmNkZWZnaGlqc3R1dnd4eXqDhIWGh4iJipKTlJWWl5iZmqKjpKWmp6ipqrKztLW2t7i5usLDxMXGx8jJytLT1NXW19jZ2uHi4+Tl5ufo6erx8vP09fb3+Pn6/9oACAEBAAA/AP0woooooo609ENO8g/3aPspPOKPsh9BR9kPoKfHb7sDbyatQaex6pVuLSGPVc/hUy6McDEY/Kl/sc/88x+VH9jn/nmPyqlZW6sVaQhQOSxPA963LLTYkiM13LEoBBbMmNnoCOuD60p8S/D6yOdQ8b6VDjr5l+i4/M1VuPip8EbNitz8V/DyleoOrxcf+PVA3xt/Z8U4f4w+HAfT+2Iv/iqRfjV+z/Owih+MnhvcemdahH82qTTY4kcvOSI413Ow64HJr8/f2h/jr4u+N/jG8uNY1iddHtLtk0rTElPkQoDgOE6Fj64zXAG1tT0gX6460qwwp0jH0xSlIz/yyUfRaNigHYAD6gV+m/iS9Ok+Ade1NVBe30W5lX6rEx/pX5jxO86cDaSWPH4/pzThw/ltnP0/WmrLE7mJJUZ8/dVgTStIiKzyNtCnBLcY+vpQjeZGZEK9flG8fNg4OPXmv//Z)"
      ],
      "metadata": {
        "id": "K0CHuVxHW05Z"
      }
    },
    {
      "cell_type": "code",
      "source": [
        "from google.colab import drive\n",
        "drive.mount('/content/drive')"
      ],
      "metadata": {
        "id": "9lNd7ehvYWIP",
        "colab": {
          "base_uri": "https://localhost:8080/"
        },
        "outputId": "1cc0b0ab-0be9-46b5-d7ab-92a67f9efc54"
      },
      "execution_count": 1,
      "outputs": [
        {
          "output_type": "stream",
          "name": "stdout",
          "text": [
            "Mounted at /content/drive\n"
          ]
        }
      ]
    },
    {
      "cell_type": "code",
      "source": [
        "pwd"
      ],
      "metadata": {
        "colab": {
          "base_uri": "https://localhost:8080/",
          "height": 35
        },
        "id": "Zu3XwJ__ZHZq",
        "outputId": "1303330d-9f3b-4a25-fd62-26a037ec8247"
      },
      "execution_count": 2,
      "outputs": [
        {
          "output_type": "execute_result",
          "data": {
            "text/plain": [
              "'/content'"
            ],
            "application/vnd.google.colaboratory.intrinsic+json": {
              "type": "string"
            }
          },
          "metadata": {},
          "execution_count": 2
        }
      ]
    },
    {
      "cell_type": "code",
      "source": [
        "cd '/content/drive/MyDrive/ECS171/emotionDataSet'"
      ],
      "metadata": {
        "id": "fBdfI23YYYTB",
        "colab": {
          "base_uri": "https://localhost:8080/"
        },
        "outputId": "ccf0a385-9451-4bc5-f5c7-96b3ab8fd227"
      },
      "execution_count": 3,
      "outputs": [
        {
          "output_type": "stream",
          "name": "stdout",
          "text": [
            "/content/drive/.shortcut-targets-by-id/1Z5iKjOa4METq6Gspzm97KWYkNG2sG5Wo/ECS171/emotionDataSet\n"
          ]
        }
      ]
    },
    {
      "cell_type": "code",
      "source": [
        "pwd"
      ],
      "metadata": {
        "colab": {
          "base_uri": "https://localhost:8080/",
          "height": 35
        },
        "id": "L_baVqm7ZuIl",
        "outputId": "1060a376-7b40-45b7-d193-e818b3071c5d"
      },
      "execution_count": 4,
      "outputs": [
        {
          "output_type": "execute_result",
          "data": {
            "text/plain": [
              "'/content/drive/.shortcut-targets-by-id/1Z5iKjOa4METq6Gspzm97KWYkNG2sG5Wo/ECS171/emotionDataSet'"
            ],
            "application/vnd.google.colaboratory.intrinsic+json": {
              "type": "string"
            }
          },
          "metadata": {},
          "execution_count": 4
        }
      ]
    },
    {
      "cell_type": "markdown",
      "source": [
        "##**Loading Data** "
      ],
      "metadata": {
        "id": "a545lJ1vWtwu"
      }
    },
    {
      "cell_type": "code",
      "source": [
        "import numpy as np \n",
        "from tqdm import tqdm # for progress bar\n",
        "import pandas as pd\n",
        "import cv2\n",
        "import os\n",
        "import tensorflow as tf\n",
        "import tensorflow_hub as hub\n",
        "import matplotlib.pyplot as plt\n",
        "from sklearn.preprocessing import LabelBinarizer\n",
        "from sklearn.model_selection import train_test_split\n",
        "from sklearn.metrics import accuracy_score, confusion_matrix\n",
        "import itertools\n",
        "import plotly.graph_objs as go\n",
        "from plotly.offline import init_notebook_mode, iplot\n",
        "from plotly import tools\n",
        "from keras.layers import Dense, Dropout, Flatten, Conv2D, MaxPool2D\n",
        "from keras.preprocessing.image import ImageDataGenerator\n",
        "from keras.applications.vgg16 import VGG16, preprocess_input\n",
        "from keras import layers\n",
        "from keras.models import Model, Sequential\n",
        "from keras.optimizers import Adam, RMSprop\n",
        "from keras.callbacks import EarlyStopping\n",
        "from keras.preprocessing.image import ImageDataGenerator\n",
        "init_notebook_mode(connected=True)\n",
        "RANDOM_SEED = 123"
      ],
      "metadata": {
        "id": "_fpZUgEIWyAS",
        "colab": {
          "base_uri": "https://localhost:8080/",
          "height": 17
        },
        "outputId": "e28680cb-a707-4baf-8b01-508062fa5070"
      },
      "execution_count": 14,
      "outputs": [
        {
          "output_type": "display_data",
          "data": {
            "text/html": [
              "        <script type=\"text/javascript\">\n",
              "        window.PlotlyConfig = {MathJaxConfig: 'local'};\n",
              "        if (window.MathJax) {MathJax.Hub.Config({SVG: {font: \"STIX-Web\"}});}\n",
              "        if (typeof require !== 'undefined') {\n",
              "        require.undef(\"plotly\");\n",
              "        requirejs.config({\n",
              "            paths: {\n",
              "                'plotly': ['https://cdn.plot.ly/plotly-2.8.3.min']\n",
              "            }\n",
              "        });\n",
              "        require(['plotly'], function(Plotly) {\n",
              "            window._Plotly = Plotly;\n",
              "        });\n",
              "        }\n",
              "        </script>\n",
              "        "
            ]
          },
          "metadata": {}
        }
      ]
    },
    {
      "cell_type": "code",
      "source": [
        "TRAIN_DIR = ('Training/Training/')\n",
        "TEST_DIR = ('Testing/Testing/')"
      ],
      "metadata": {
        "id": "luN0xrLkW1od"
      },
      "execution_count": 6,
      "outputs": []
    },
    {
      "cell_type": "code",
      "source": [
        "emotions = ['Angry', 'Fear', 'Happy', 'Neutral', 'Sad', 'Suprise']"
      ],
      "metadata": {
        "id": "fH6G2CoNY82j"
      },
      "execution_count": 7,
      "outputs": []
    },
    {
      "cell_type": "code",
      "source": [
        "def load_data(dir_path, IMG_SIZE):\n",
        "   \n",
        "    X = []\n",
        "    y = []\n",
        "    i = 0\n",
        "    labels = dict()\n",
        "    for path in tqdm(sorted(emotions)):\n",
        "        if not path.startswith('.'):\n",
        "            labels[i] = path\n",
        "            for file in os.listdir(dir_path + path):\n",
        "                if not file.startswith('.'):\n",
        "                    img = cv2.imread(dir_path + path + '/' + file)\n",
        "                    #print(img.shape)\n",
        "                    img = img.astype('float32') / 255\n",
        "                    resized = cv2.resize(img, IMG_SIZE, interpolation = cv2.INTER_AREA)\n",
        "                    X.append(resized)\n",
        "                    y.append(i)\n",
        "            i += 1\n",
        "    X = np.array(X)\n",
        "    y = np.array(y)\n",
        "    print(f'{len(X)} images loaded from {dir_path} directory.')\n",
        "    return X, y, labels"
      ],
      "metadata": {
        "id": "env5U2mSW3Vb"
      },
      "execution_count": 8,
      "outputs": []
    },
    {
      "cell_type": "code",
      "source": [
        "IMG_SIZE= (48, 48)"
      ],
      "metadata": {
        "id": "Rtmwl1isW9TA"
      },
      "execution_count": 9,
      "outputs": []
    },
    {
      "cell_type": "code",
      "source": [
        "X_train, y_train, train_labels = load_data(TRAIN_DIR, IMG_SIZE)"
      ],
      "metadata": {
        "colab": {
          "base_uri": "https://localhost:8080/"
        },
        "id": "kFnlMDdHW-TF",
        "outputId": "8b0ef01a-88d7-440e-f941-15dc6cee2726"
      },
      "execution_count": 10,
      "outputs": [
        {
          "output_type": "stream",
          "name": "stderr",
          "text": [
            "100%|██████████| 6/6 [10:45<00:00, 107.62s/it]\n"
          ]
        },
        {
          "output_type": "stream",
          "name": "stdout",
          "text": [
            "28572 images loaded from Training/Training/ directory.\n"
          ]
        }
      ]
    },
    {
      "cell_type": "code",
      "source": [
        "train_labels"
      ],
      "metadata": {
        "colab": {
          "base_uri": "https://localhost:8080/"
        },
        "id": "YxPK-msoW_m7",
        "outputId": "a4c60a65-3554-46ba-af4c-eafdef3d589a"
      },
      "execution_count": 11,
      "outputs": [
        {
          "output_type": "execute_result",
          "data": {
            "text/plain": [
              "{0: 'Angry', 1: 'Fear', 2: 'Happy', 3: 'Neutral', 4: 'Sad', 5: 'Suprise'}"
            ]
          },
          "metadata": {},
          "execution_count": 11
        }
      ]
    },
    {
      "cell_type": "code",
      "source": [
        "X_test, y_test, test_labels = load_data(TEST_DIR,IMG_SIZE)"
      ],
      "metadata": {
        "colab": {
          "base_uri": "https://localhost:8080/"
        },
        "id": "4U-rYJc2XAxh",
        "outputId": "60c7e7ce-08b8-40f6-93df-1930ac12a584"
      },
      "execution_count": 12,
      "outputs": [
        {
          "output_type": "stream",
          "name": "stderr",
          "text": [
            "100%|██████████| 6/6 [02:52<00:00, 28.81s/it]"
          ]
        },
        {
          "output_type": "stream",
          "name": "stdout",
          "text": [
            "7129 images loaded from Testing/Testing/ directory.\n"
          ]
        },
        {
          "output_type": "stream",
          "name": "stderr",
          "text": [
            "\n"
          ]
        }
      ]
    },
    {
      "cell_type": "markdown",
      "source": [
        "Size of Images (Or the structures)"
      ],
      "metadata": {
        "id": "cDdbwNsSSKLw"
      }
    },
    {
      "cell_type": "markdown",
      "source": [
        "Standardization check"
      ],
      "metadata": {
        "id": "rW5-vl22STLG"
      }
    },
    {
      "cell_type": "markdown",
      "source": [
        "##Data preprocessing"
      ],
      "metadata": {
        "id": "skbt37DtS5Hl"
      }
    },
    {
      "cell_type": "markdown",
      "source": [
        "Removing Duplicates _Sohyun"
      ],
      "metadata": {
        "id": "mNnr8QeGS8PQ"
      }
    },
    {
      "cell_type": "code",
      "source": [
        "import cv2  \n",
        "from skimage.metrics import structural_similarity\n",
        "\n",
        "image_list = []\n",
        "\n",
        "path = TRAIN_DIR + '/Neutral' #QUESTION - IS THIS ALL I HAVE TO CHANGE?\n",
        "\n",
        "for f in os.listdir(path):\n",
        "  image_list.append(f)\n",
        "\n",
        "img_size = list(map(lambda x: os.path.getsize(path + '/' + x), image_list))\n",
        "\n",
        "# Find Same Photos\n",
        "img_data = pd.DataFrame({'filename':image_list, 'size':img_size})\n",
        "\n",
        "print('number of images :', len(img_data))"
      ],
      "metadata": {
        "colab": {
          "base_uri": "https://localhost:8080/"
        },
        "id": "pWog5UcSPdPd",
        "outputId": "2255d13c-6781-4899-9d67-be6f979176ba"
      },
      "execution_count": 16,
      "outputs": [
        {
          "output_type": "stream",
          "name": "stdout",
          "text": [
            "number of images : 5242\n"
          ]
        }
      ]
    },
    {
      "cell_type": "code",
      "source": [
        "# Photo Value Counts\n",
        "filename_cnts = pd.DataFrame({'filename':img_data['filename'].value_counts().index, 'fn_counts':img_data['filename'].value_counts().values})   \n",
        "imgsize_cnts = pd.DataFrame({'size':img_data['size'].value_counts().index, 'size_counts':img_data['size'].value_counts().values})   \n",
        "\n",
        "img_data = pd.merge(img_data, filename_cnts, how = 'left', on = 'filename')\n",
        "img_data = pd.merge(img_data, imgsize_cnts, how = 'left', on = 'size')\n",
        "\n",
        "img_data.sample(2)"
      ],
      "metadata": {
        "colab": {
          "base_uri": "https://localhost:8080/",
          "height": 112
        },
        "id": "k_UjmwD4a8xj",
        "outputId": "496fdd88-2e5f-45d8-a507-78ed15674d48"
      },
      "execution_count": 17,
      "outputs": [
        {
          "output_type": "execute_result",
          "data": {
            "text/plain": [
              "              filename  size  fn_counts  size_counts\n",
              "1531   Neutral-996.jpg  1910          1            4\n",
              "3313  Neutral-1783.jpg  1643          1           17"
            ],
            "text/html": [
              "\n",
              "  <div id=\"df-5c2163e7-4bf5-403d-bb63-a33124d1576e\">\n",
              "    <div class=\"colab-df-container\">\n",
              "      <div>\n",
              "<style scoped>\n",
              "    .dataframe tbody tr th:only-of-type {\n",
              "        vertical-align: middle;\n",
              "    }\n",
              "\n",
              "    .dataframe tbody tr th {\n",
              "        vertical-align: top;\n",
              "    }\n",
              "\n",
              "    .dataframe thead th {\n",
              "        text-align: right;\n",
              "    }\n",
              "</style>\n",
              "<table border=\"1\" class=\"dataframe\">\n",
              "  <thead>\n",
              "    <tr style=\"text-align: right;\">\n",
              "      <th></th>\n",
              "      <th>filename</th>\n",
              "      <th>size</th>\n",
              "      <th>fn_counts</th>\n",
              "      <th>size_counts</th>\n",
              "    </tr>\n",
              "  </thead>\n",
              "  <tbody>\n",
              "    <tr>\n",
              "      <th>1531</th>\n",
              "      <td>Neutral-996.jpg</td>\n",
              "      <td>1910</td>\n",
              "      <td>1</td>\n",
              "      <td>4</td>\n",
              "    </tr>\n",
              "    <tr>\n",
              "      <th>3313</th>\n",
              "      <td>Neutral-1783.jpg</td>\n",
              "      <td>1643</td>\n",
              "      <td>1</td>\n",
              "      <td>17</td>\n",
              "    </tr>\n",
              "  </tbody>\n",
              "</table>\n",
              "</div>\n",
              "      <button class=\"colab-df-convert\" onclick=\"convertToInteractive('df-5c2163e7-4bf5-403d-bb63-a33124d1576e')\"\n",
              "              title=\"Convert this dataframe to an interactive table.\"\n",
              "              style=\"display:none;\">\n",
              "        \n",
              "  <svg xmlns=\"http://www.w3.org/2000/svg\" height=\"24px\"viewBox=\"0 0 24 24\"\n",
              "       width=\"24px\">\n",
              "    <path d=\"M0 0h24v24H0V0z\" fill=\"none\"/>\n",
              "    <path d=\"M18.56 5.44l.94 2.06.94-2.06 2.06-.94-2.06-.94-.94-2.06-.94 2.06-2.06.94zm-11 1L8.5 8.5l.94-2.06 2.06-.94-2.06-.94L8.5 2.5l-.94 2.06-2.06.94zm10 10l.94 2.06.94-2.06 2.06-.94-2.06-.94-.94-2.06-.94 2.06-2.06.94z\"/><path d=\"M17.41 7.96l-1.37-1.37c-.4-.4-.92-.59-1.43-.59-.52 0-1.04.2-1.43.59L10.3 9.45l-7.72 7.72c-.78.78-.78 2.05 0 2.83L4 21.41c.39.39.9.59 1.41.59.51 0 1.02-.2 1.41-.59l7.78-7.78 2.81-2.81c.8-.78.8-2.07 0-2.86zM5.41 20L4 18.59l7.72-7.72 1.47 1.35L5.41 20z\"/>\n",
              "  </svg>\n",
              "      </button>\n",
              "      \n",
              "  <style>\n",
              "    .colab-df-container {\n",
              "      display:flex;\n",
              "      flex-wrap:wrap;\n",
              "      gap: 12px;\n",
              "    }\n",
              "\n",
              "    .colab-df-convert {\n",
              "      background-color: #E8F0FE;\n",
              "      border: none;\n",
              "      border-radius: 50%;\n",
              "      cursor: pointer;\n",
              "      display: none;\n",
              "      fill: #1967D2;\n",
              "      height: 32px;\n",
              "      padding: 0 0 0 0;\n",
              "      width: 32px;\n",
              "    }\n",
              "\n",
              "    .colab-df-convert:hover {\n",
              "      background-color: #E2EBFA;\n",
              "      box-shadow: 0px 1px 2px rgba(60, 64, 67, 0.3), 0px 1px 3px 1px rgba(60, 64, 67, 0.15);\n",
              "      fill: #174EA6;\n",
              "    }\n",
              "\n",
              "    [theme=dark] .colab-df-convert {\n",
              "      background-color: #3B4455;\n",
              "      fill: #D2E3FC;\n",
              "    }\n",
              "\n",
              "    [theme=dark] .colab-df-convert:hover {\n",
              "      background-color: #434B5C;\n",
              "      box-shadow: 0px 1px 3px 1px rgba(0, 0, 0, 0.15);\n",
              "      filter: drop-shadow(0px 1px 2px rgba(0, 0, 0, 0.3));\n",
              "      fill: #FFFFFF;\n",
              "    }\n",
              "  </style>\n",
              "\n",
              "      <script>\n",
              "        const buttonEl =\n",
              "          document.querySelector('#df-5c2163e7-4bf5-403d-bb63-a33124d1576e button.colab-df-convert');\n",
              "        buttonEl.style.display =\n",
              "          google.colab.kernel.accessAllowed ? 'block' : 'none';\n",
              "\n",
              "        async function convertToInteractive(key) {\n",
              "          const element = document.querySelector('#df-5c2163e7-4bf5-403d-bb63-a33124d1576e');\n",
              "          const dataTable =\n",
              "            await google.colab.kernel.invokeFunction('convertToInteractive',\n",
              "                                                     [key], {});\n",
              "          if (!dataTable) return;\n",
              "\n",
              "          const docLinkHtml = 'Like what you see? Visit the ' +\n",
              "            '<a target=\"_blank\" href=https://colab.research.google.com/notebooks/data_table.ipynb>data table notebook</a>'\n",
              "            + ' to learn more about interactive tables.';\n",
              "          element.innerHTML = '';\n",
              "          dataTable['output_type'] = 'display_data';\n",
              "          await google.colab.output.renderOutput(dataTable, element);\n",
              "          const docLink = document.createElement('div');\n",
              "          docLink.innerHTML = docLinkHtml;\n",
              "          element.appendChild(docLink);\n",
              "        }\n",
              "      </script>\n",
              "    </div>\n",
              "  </div>\n",
              "  "
            ]
          },
          "metadata": {},
          "execution_count": 17
        }
      ]
    },
    {
      "cell_type": "code",
      "source": [
        "SimilarSizeData = imgsize_cnts[imgsize_cnts['size_counts'] > 1]"
      ],
      "metadata": {
        "id": "KtYp0r9TbCLz"
      },
      "execution_count": 18,
      "outputs": []
    },
    {
      "cell_type": "markdown",
      "source": [
        "Use structural similarity to compare similarity of images"
      ],
      "metadata": {
        "id": "4LEQ-H3tK8Td"
      }
    },
    {
      "cell_type": "code",
      "source": [
        "def CompareImage(imageA, imageB):\n",
        "\n",
        "    # Grayscale\n",
        "    grayA = cv2.cvtColor(imageA, cv2.COLOR_BGR2GRAY)\n",
        "    grayB = cv2.cvtColor(imageB, cv2.COLOR_BGR2GRAY)\n",
        "    \n",
        "    # Check Image structure\n",
        "    if len(grayA)==len(grayB):\n",
        "        (score, diff) = structural_similarity(grayA, grayB, full=True)\n",
        "\n",
        "    return score"
      ],
      "metadata": {
        "id": "nUbpZn4qbDgx"
      },
      "execution_count": 19,
      "outputs": []
    },
    {
      "cell_type": "code",
      "source": [
        "delete = dict()"
      ],
      "metadata": {
        "id": "mQEg7Agob0tu"
      },
      "execution_count": 20,
      "outputs": []
    },
    {
      "cell_type": "code",
      "source": [
        "for i in range(len(SimilarSizeData)):\n",
        "\n",
        "    temp = img_data[img_data['size']==SimilarSizeData['size'][i]].reset_index(drop = True).sort_values(['filename'])\n",
        "\n",
        "    candidates = []\n",
        "\n",
        "    for j in range(len(temp) - 1):\n",
        "      filenameA = temp['filename'][j]\n",
        "      compared = False\n",
        "\n",
        "      for key in delete:\n",
        "        if (filenameA in delete[key]):\n",
        "          compared = True\n",
        "          break\n",
        "      \n",
        "      if compared:\n",
        "        continue\n",
        "\n",
        "      for k in range(j+1, len(temp)):\n",
        "        filenameB = temp['filename'][k]\n",
        "        \n",
        "        imageA = cv2.imread(path+'/'+filenameA)\n",
        "        imageB = cv2.imread(path+'/'+filenameB)\n",
        "\n",
        "        score = CompareImage(imageA, imageB)\n",
        "        \n",
        "        if (score == 1 or score > 0.6):\n",
        "          if filenameA not in delete:\n",
        "            delete[filenameA] = [filenameB]\n",
        "          else:\n",
        "            delete[filenameA].append(filenameB)\n",
        "          if (score < 1):\n",
        "            print(filenameA + \", \" + filenameB)\n",
        "            print(\"score: \" + str(score))\n",
        "          "
      ],
      "metadata": {
        "id": "InaA5jowbE-J"
      },
      "execution_count": 21,
      "outputs": []
    },
    {
      "cell_type": "code",
      "source": [
        "total = [len(value) for key, value in delete.items()]\n",
        "print(str(sum(total)) + \" duplicates found\")"
      ],
      "metadata": {
        "colab": {
          "base_uri": "https://localhost:8080/"
        },
        "id": "25oVDdY1ngid",
        "outputId": "8a1a1c1f-3fc1-45ff-d53d-5b69e2bdab4b"
      },
      "execution_count": 23,
      "outputs": [
        {
          "output_type": "stream",
          "name": "stdout",
          "text": [
            "381 duplicates found\n"
          ]
        }
      ]
    },
    {
      "cell_type": "markdown",
      "source": [
        "Plotting some duplicates to confirm they are the same"
      ],
      "metadata": {
        "id": "gdVZC_c5LOVP"
      }
    },
    {
      "cell_type": "code",
      "source": [
        "plt.figure(0, figsize=(8,4))\n",
        "cpt = 0\n",
        "\n",
        "n = 8\n",
        "\n",
        "for key in delete:\n",
        "  if (n == 0):\n",
        "    break\n",
        "\n",
        "  cpt += 1\n",
        "  ax = plt.subplot(4,6,cpt)\n",
        "  ax.set_title(key)\n",
        "  img = cv2.imread(path+\"/\"+ key)\n",
        "  plt.tick_params(labelleft=False,labelbottom=False)\n",
        "  plt.imshow(img,cmap=\"gray\")\n",
        "\n",
        "  for file in delete[key]:\n",
        "    cpt += 1\n",
        "    ax = plt.subplot(4,6,cpt)\n",
        "    ax.set_title(file)\n",
        "\n",
        "    img = cv2.imread(path+\"/\"+ file)\n",
        "    plt.tick_params(labelleft=False,labelbottom=False)\n",
        "    plt.imshow(img,cmap=\"gray\")\n",
        "    pass\n",
        "  \n",
        "  if (cpt % 3 != 0):\n",
        "    cpt +=1\n",
        "  n -= 1\n",
        "\n",
        "plt.tight_layout()\n",
        "plt.show()"
      ],
      "metadata": {
        "colab": {
          "base_uri": "https://localhost:8080/",
          "height": 297
        },
        "id": "uwHZ-_TMfU8b",
        "outputId": "8714607c-44a4-4977-a8cf-cda67b9bef8c"
      },
      "execution_count": 24,
      "outputs": [
        {
          "output_type": "display_data",
          "data": {
            "text/plain": [
              "<Figure size 576x288 with 16 Axes>"
            ],
            "image/png": "[encoded data removed]"
          },
          "metadata": {}
        }
      ]
    },
    {
      "cell_type": "code",
      "source": [
        "orig_list = image_list\n",
        "\n",
        "print(\"original image number: \" + str(len(orig_list)))"
      ],
      "metadata": {
        "colab": {
          "base_uri": "https://localhost:8080/"
        },
        "id": "5ltczonX4dfD",
        "outputId": "7af4ffb5-85ae-479f-a4ed-5a825e6bbbc4"
      },
      "execution_count": 25,
      "outputs": [
        {
          "output_type": "stream",
          "name": "stdout",
          "text": [
            "original image number: 5242\n"
          ]
        }
      ]
    },
    {
      "cell_type": "code",
      "source": [
        "for key in delete:\n",
        "  for val in delete[key]:\n",
        "    image_list.remove(val)\n",
        "\n",
        "print(\"updated images number: \" + str(len(image_list)))"
      ],
      "metadata": {
        "colab": {
          "base_uri": "https://localhost:8080/"
        },
        "id": "3_aZj2Xp3z0d",
        "outputId": "42a7b68a-bf62-41d8-8960-0be395595482"
      },
      "execution_count": 26,
      "outputs": [
        {
          "output_type": "stream",
          "name": "stdout",
          "text": [
            "updated images number: 4861\n"
          ]
        }
      ]
    },
    {
      "cell_type": "code",
      "source": [
        "pwd"
      ],
      "metadata": {
        "colab": {
          "base_uri": "https://localhost:8080/",
          "height": 35
        },
        "id": "Q62_qGgjJ6an",
        "outputId": "9340fe12-b8b5-4d3c-b9bc-86e2d323b14b"
      },
      "execution_count": 27,
      "outputs": [
        {
          "output_type": "execute_result",
          "data": {
            "text/plain": [
              "'/content/drive/.shortcut-targets-by-id/1Z5iKjOa4METq6Gspzm97KWYkNG2sG5Wo/ECS171/emotionDataSet'"
            ],
            "application/vnd.google.colaboratory.intrinsic+json": {
              "type": "string"
            }
          },
          "metadata": {},
          "execution_count": 27
        }
      ]
    },
    {
      "cell_type": "code",
      "source": [
        "os.chdir(os.getcwd() + '/' + TRAIN_DIR + 'Neutral')"
      ],
      "metadata": {
        "id": "0AvuUl_1KFMB"
      },
      "execution_count": 31,
      "outputs": []
    },
    {
      "cell_type": "markdown",
      "source": [
        "Remove images"
      ],
      "metadata": {
        "id": "q0TAgn87NiU4"
      }
    },
    {
      "cell_type": "code",
      "source": [
        "for key in delete:\n",
        "  print(\"Removing duplicates of \" + key)\n",
        "  for val in delete[key]:\n",
        "    print(val + \" removed\")\n",
        "    os.remove(val)"
      ],
      "metadata": {
        "colab": {
          "base_uri": "https://localhost:8080/"
        },
        "id": "acZfCMM72Dnt",
        "outputId": "66393811-5009-430a-8aa9-5ca99615b3a7"
      },
      "execution_count": 32,
      "outputs": [
        {
          "output_type": "stream",
          "name": "stdout",
          "text": [
            "Removing duplicates of Neutral-4328.jpg\n",
            "Neutral-4328 (1).jpg removed\n",
            "Removing duplicates of Neutral-1341 (1).jpg\n",
            "Neutral-1341.jpg removed\n",
            "Removing duplicates of Neutral-4749.jpg\n",
            "Neutral-4749 (1).jpg removed\n",
            "Removing duplicates of Neutral-4177.jpg\n",
            "Neutral-4177 (1).jpg removed\n",
            "Removing duplicates of Neutral-1179.jpg\n",
            "Neutral-1179 (1).jpg removed\n",
            "Removing duplicates of Neutral-1427.jpg\n",
            "Neutral-1427 (1).jpg removed\n",
            "Removing duplicates of Neutral-4082.jpg\n",
            "Neutral-840.jpg removed\n",
            "Removing duplicates of Neutral-1654 (1).jpg\n",
            "Neutral-1654.jpg removed\n",
            "Removing duplicates of Neutral-3916 (1).jpg\n",
            "Neutral-3916.jpg removed\n",
            "Removing duplicates of Neutral-3585.jpg\n",
            "Neutral-3585 (1).jpg removed\n",
            "Removing duplicates of Neutral-2285.jpg\n",
            "Neutral-2933.jpg removed\n",
            "Removing duplicates of Neutral-1545.jpg\n",
            "Neutral-1545 (1).jpg removed\n",
            "Removing duplicates of Neutral-4617.jpg\n",
            "Neutral-4617 (1).jpg removed\n",
            "Removing duplicates of Neutral-2717 (1).jpg\n",
            "Neutral-2717.jpg removed\n",
            "Removing duplicates of Neutral-3586.jpg\n",
            "Neutral-3586 (1).jpg removed\n",
            "Removing duplicates of Neutral-1819.jpg\n",
            "Neutral-1205.jpg removed\n",
            "Removing duplicates of Neutral-991.jpg\n",
            "Neutral-991 (1).jpg removed\n",
            "Removing duplicates of Neutral-4485.jpg\n",
            "Neutral-2489.jpg removed\n",
            "Removing duplicates of Neutral-994.jpg\n",
            "Neutral-994 (1).jpg removed\n",
            "Removing duplicates of Neutral-3900.jpg\n",
            "Neutral-4697.jpg removed\n",
            "Removing duplicates of Neutral-373.jpg\n",
            "Neutral-373 (1).jpg removed\n",
            "Removing duplicates of Neutral-2270.jpg\n",
            "Neutral-2270 (1).jpg removed\n",
            "Removing duplicates of Neutral-4767.jpg\n",
            "Neutral-4767 (1).jpg removed\n",
            "Removing duplicates of Neutral-3008.jpg\n",
            "Neutral-3008 (1).jpg removed\n",
            "Removing duplicates of Neutral-4215 (1).jpg\n",
            "Neutral-4215.jpg removed\n",
            "Removing duplicates of Neutral-2981.jpg\n",
            "Neutral-2981 (1).jpg removed\n",
            "Removing duplicates of Neutral-2064 (1).jpg\n",
            "Neutral-2064.jpg removed\n",
            "Removing duplicates of Neutral-4000.jpg\n",
            "Neutral-4000 (1).jpg removed\n",
            "Removing duplicates of Neutral-4204.jpg\n",
            "Neutral-4204 (1).jpg removed\n",
            "Removing duplicates of Neutral-3192 (1).jpg\n",
            "Neutral-3192.jpg removed\n",
            "Removing duplicates of Neutral-3755 (1).jpg\n",
            "Neutral-3755.jpg removed\n",
            "Removing duplicates of Neutral-4211.jpg\n",
            "Neutral-4211 (1).jpg removed\n",
            "Removing duplicates of Neutral-4248.jpg\n",
            "Neutral-4248 (1).jpg removed\n",
            "Removing duplicates of Neutral-2897 (1).jpg\n",
            "Neutral-2897.jpg removed\n",
            "Removing duplicates of Neutral-3533.jpg\n",
            "Neutral-3533 (1).jpg removed\n",
            "Removing duplicates of Neutral-953 (1).jpg\n",
            "Neutral-953.jpg removed\n",
            "Removing duplicates of Neutral-1582.jpg\n",
            "Neutral-1582 (1).jpg removed\n",
            "Removing duplicates of Neutral-2843.jpg\n",
            "Neutral-2843 (1).jpg removed\n",
            "Removing duplicates of Neutral-1393 (1).jpg\n",
            "Neutral-1393.jpg removed\n",
            "Removing duplicates of Neutral-3150 (1).jpg\n",
            "Neutral-3150.jpg removed\n",
            "Removing duplicates of Neutral-3724 (1).jpg\n",
            "Neutral-3724.jpg removed\n",
            "Removing duplicates of Neutral-49 (1).jpg\n",
            "Neutral-49.jpg removed\n",
            "Removing duplicates of Neutral-2338.jpg\n",
            "Neutral-2338 (1).jpg removed\n",
            "Removing duplicates of Neutral-4773 (1).jpg\n",
            "Neutral-4773.jpg removed\n",
            "Removing duplicates of Neutral-2273.jpg\n",
            "Neutral-2273 (1).jpg removed\n",
            "Removing duplicates of Neutral-2298.jpg\n",
            "Neutral-2298 (1).jpg removed\n",
            "Removing duplicates of Neutral-1785 (1).jpg\n",
            "Neutral-1785.jpg removed\n",
            "Removing duplicates of Neutral-3609.jpg\n",
            "Neutral-3609 (1).jpg removed\n",
            "Removing duplicates of Neutral-4607.jpg\n",
            "Neutral-2161.jpg removed\n",
            "Removing duplicates of Neutral-3178.jpg\n",
            "Neutral-3178 (1).jpg removed\n",
            "Removing duplicates of Neutral-1368.jpg\n",
            "Neutral-1368 (1).jpg removed\n",
            "Removing duplicates of Neutral-2517.jpg\n",
            "Neutral-2517 (1).jpg removed\n",
            "Removing duplicates of Neutral-1720.jpg\n",
            "Neutral-1720 (2).jpg removed\n",
            "Neutral-1720 (1).jpg removed\n",
            "Removing duplicates of Neutral-2248 (1).jpg\n",
            "Neutral-2248.jpg removed\n",
            "Removing duplicates of Neutral-1975.jpg\n",
            "Neutral-1975 (1).jpg removed\n",
            "Removing duplicates of Neutral-214 (1).jpg\n",
            "Neutral-214.jpg removed\n",
            "Removing duplicates of Neutral-3595.jpg\n",
            "Neutral-3595 (1).jpg removed\n",
            "Removing duplicates of Neutral-3434 (1).jpg\n",
            "Neutral-3434.jpg removed\n",
            "Removing duplicates of Neutral-2502.jpg\n",
            "Neutral-2502 (1).jpg removed\n",
            "Removing duplicates of Neutral-2316.jpg\n",
            "Neutral-2316 (1).jpg removed\n",
            "Removing duplicates of Neutral-2302 (1).jpg\n",
            "Neutral-2302.jpg removed\n",
            "Removing duplicates of Neutral-3838 (1).jpg\n",
            "Neutral-3838.jpg removed\n",
            "Removing duplicates of Neutral-3943.jpg\n",
            "Neutral-1228.jpg removed\n",
            "Removing duplicates of Neutral-3469.jpg\n",
            "Neutral-4905.jpg removed\n",
            "Removing duplicates of Neutral-3390.jpg\n",
            "Neutral-3390 (1).jpg removed\n",
            "Neutral-2106.jpg removed\n",
            "Removing duplicates of Neutral-843.jpg\n",
            "Neutral-843 (1).jpg removed\n",
            "Removing duplicates of Neutral-798.jpg\n",
            "Neutral-798 (1).jpg removed\n",
            "Removing duplicates of Neutral-4558.jpg\n",
            "Neutral-4558 (1).jpg removed\n",
            "Removing duplicates of Neutral-3153 (1).jpg\n",
            "Neutral-3153.jpg removed\n",
            "Removing duplicates of Neutral-3033.jpg\n",
            "Neutral-3033 (1).jpg removed\n",
            "Removing duplicates of Neutral-1223.jpg\n",
            "Neutral-1223 (1).jpg removed\n",
            "Removing duplicates of Neutral-1750 (1).jpg\n",
            "Neutral-1750.jpg removed\n",
            "Removing duplicates of Neutral-572.jpg\n",
            "Neutral-572 (1).jpg removed\n",
            "Removing duplicates of Neutral-3421 (1).jpg\n",
            "Neutral-3421.jpg removed\n",
            "Removing duplicates of Neutral-4450.jpg\n",
            "Neutral-2223.jpg removed\n",
            "Removing duplicates of Neutral-2348.jpg\n",
            "Neutral-2348 (1).jpg removed\n",
            "Removing duplicates of Neutral-1999 (1).jpg\n",
            "Neutral-1999.jpg removed\n",
            "Removing duplicates of Neutral-772.jpg\n",
            "Neutral-772 (1).jpg removed\n",
            "Removing duplicates of Neutral-1330 (1).jpg\n",
            "Neutral-1330.jpg removed\n",
            "Removing duplicates of Neutral-2498 (1).jpg\n",
            "Neutral-2498.jpg removed\n",
            "Removing duplicates of Neutral-2258 (1).jpg\n",
            "Neutral-2258.jpg removed\n",
            "Removing duplicates of Neutral-4573.jpg\n",
            "Neutral-4573 (1).jpg removed\n",
            "Removing duplicates of Neutral-4025.jpg\n",
            "Neutral-908.jpg removed\n",
            "Removing duplicates of Neutral-1734.jpg\n",
            "Neutral-1734 (1).jpg removed\n",
            "Removing duplicates of Neutral-4417.jpg\n",
            "Neutral-894.jpg removed\n",
            "Removing duplicates of Neutral-940.jpg\n",
            "Neutral-940 (1).jpg removed\n",
            "Removing duplicates of Neutral-742.jpg\n",
            "Neutral-2153.jpg removed\n",
            "Removing duplicates of Neutral-3268.jpg\n",
            "Neutral-305.jpg removed\n",
            "Removing duplicates of Neutral-1044.jpg\n",
            "Neutral-1900.jpg removed\n",
            "Removing duplicates of Neutral-1593.jpg\n",
            "Neutral-1593 (1).jpg removed\n",
            "Removing duplicates of Neutral-2771 (1).jpg\n",
            "Neutral-2771.jpg removed\n",
            "Removing duplicates of Neutral-3753.jpg\n",
            "Neutral-3753 (1).jpg removed\n",
            "Removing duplicates of Neutral-3589.jpg\n",
            "Neutral-2901.jpg removed\n",
            "Removing duplicates of Neutral-151.jpg\n",
            "Neutral-1306.jpg removed\n",
            "Removing duplicates of Neutral-4576.jpg\n",
            "Neutral-4576 (1).jpg removed\n",
            "Removing duplicates of Neutral-4167.jpg\n",
            "Neutral-4964.jpg removed\n",
            "Neutral-4167 (1).jpg removed\n",
            "Removing duplicates of Neutral-3309.jpg\n",
            "Neutral-3309 (1).jpg removed\n",
            "Removing duplicates of Neutral-3551.jpg\n",
            "Neutral-3551 (1).jpg removed\n",
            "Removing duplicates of Neutral-3895.jpg\n",
            "Neutral-1709.jpg removed\n",
            "Removing duplicates of Neutral-3383.jpg\n",
            "Neutral-3383 (1).jpg removed\n",
            "Removing duplicates of Neutral-3123.jpg\n",
            "Neutral-3123 (1).jpg removed\n",
            "Removing duplicates of Neutral-1769 (1).jpg\n",
            "Neutral-1769.jpg removed\n",
            "Removing duplicates of Neutral-1385.jpg\n",
            "Neutral-1385 (1).jpg removed\n",
            "Removing duplicates of Neutral-3556 (1).jpg\n",
            "Neutral-3556.jpg removed\n",
            "Removing duplicates of Neutral-228.jpg\n",
            "Neutral-2447.jpg removed\n",
            "Removing duplicates of Neutral-4722.jpg\n",
            "Neutral-1380.jpg removed\n",
            "Removing duplicates of Neutral-1433 (1).jpg\n",
            "Neutral-1433.jpg removed\n",
            "Removing duplicates of Neutral-1922.jpg\n",
            "Neutral-2919.jpg removed\n",
            "Removing duplicates of Neutral-2972.jpg\n",
            "Neutral-1092.jpg removed\n",
            "Removing duplicates of Neutral-372 (1).jpg\n",
            "Neutral-372.jpg removed\n",
            "Removing duplicates of Neutral-2716.jpg\n",
            "Neutral-1824.jpg removed\n",
            "Removing duplicates of Neutral-4203.jpg\n",
            "Neutral-4203 (1).jpg removed\n",
            "Removing duplicates of Neutral-681.jpg\n",
            "Neutral-4401.jpg removed\n",
            "Removing duplicates of Neutral-3636.jpg\n",
            "Neutral-3636 (1).jpg removed\n",
            "Removing duplicates of Neutral-103.jpg\n",
            "Neutral-1920.jpg removed\n",
            "Removing duplicates of Neutral-1778.jpg\n",
            "Neutral-1778 (1).jpg removed\n",
            "Removing duplicates of Neutral-956.jpg\n",
            "Neutral-956 (1).jpg removed\n",
            "Removing duplicates of Neutral-4614.jpg\n",
            "Neutral-4614 (1).jpg removed\n",
            "Removing duplicates of Neutral-4366.jpg\n",
            "Neutral-4366 (1).jpg removed\n",
            "Removing duplicates of Neutral-4159 (1).jpg\n",
            "Neutral-4159.jpg removed\n",
            "Removing duplicates of Neutral-3433.jpg\n",
            "Neutral-1367.jpg removed\n",
            "Removing duplicates of Neutral-1683.jpg\n",
            "Neutral-1683 (1).jpg removed\n",
            "Removing duplicates of Neutral-3645 (1).jpg\n",
            "Neutral-3645.jpg removed\n",
            "Neutral-3645 (2).jpg removed\n",
            "Removing duplicates of Neutral-216.jpg\n",
            "Neutral-2105.jpg removed\n",
            "Removing duplicates of Neutral-1387.jpg\n",
            "Neutral-1387 (1).jpg removed\n",
            "Removing duplicates of Neutral-1873.jpg\n",
            "Neutral-1873 (1).jpg removed\n",
            "Removing duplicates of Neutral-1753.jpg\n",
            "Neutral-1753 (1).jpg removed\n",
            "Removing duplicates of Neutral-3154.jpg\n",
            "Neutral-134.jpg removed\n",
            "Removing duplicates of Neutral-3056.jpg\n",
            "Neutral-3056 (1).jpg removed\n",
            "Removing duplicates of Neutral-4442.jpg\n",
            "Neutral-4164.jpg removed\n",
            "Removing duplicates of Neutral-2471 (1).jpg\n",
            "Neutral-2471.jpg removed\n",
            "Removing duplicates of Neutral-4565.jpg\n",
            "Neutral-4565 (1).jpg removed\n",
            "Removing duplicates of Neutral-2116 (1).jpg\n",
            "Neutral-2116.jpg removed\n",
            "Removing duplicates of Neutral-2260.jpg\n",
            "Neutral-2260 (1).jpg removed\n",
            "Removing duplicates of Neutral-764.jpg\n",
            "Neutral-764 (1).jpg removed\n",
            "Removing duplicates of Neutral-3187.jpg\n",
            "Neutral-3187 (1).jpg removed\n",
            "Removing duplicates of Neutral-1142.jpg\n",
            "Neutral-1142 (1).jpg removed\n",
            "Removing duplicates of Neutral-4165.jpg\n",
            "Neutral-4165 (1).jpg removed\n",
            "Removing duplicates of Neutral-2698.jpg\n",
            "Neutral-2698 (1).jpg removed\n",
            "Removing duplicates of Neutral-2464 (1).jpg\n",
            "Neutral-2464.jpg removed\n",
            "Neutral-1885.jpg removed\n",
            "Removing duplicates of Neutral-955.jpg\n",
            "Neutral-955 (1).jpg removed\n",
            "Removing duplicates of Neutral-3584.jpg\n",
            "Neutral-3584 (1).jpg removed\n",
            "Removing duplicates of Neutral-4307.jpg\n",
            "Neutral-1243.jpg removed\n",
            "Removing duplicates of Neutral-981 (1).jpg\n",
            "Neutral-981.jpg removed\n",
            "Removing duplicates of Neutral-3708.jpg\n",
            "Neutral-1166.jpg removed\n",
            "Removing duplicates of Neutral-771.jpg\n",
            "Neutral-771 (1).jpg removed\n",
            "Removing duplicates of Neutral-4014.jpg\n",
            "Neutral-4014 (1).jpg removed\n",
            "Removing duplicates of Neutral-961.jpg\n",
            "Neutral-3003.jpg removed\n",
            "Removing duplicates of Neutral-4173.jpg\n",
            "Neutral-4173 (1).jpg removed\n",
            "Removing duplicates of Neutral-3527.jpg\n",
            "Neutral-3527 (1).jpg removed\n",
            "Removing duplicates of Neutral-995.jpg\n",
            "Neutral-995 (1).jpg removed\n",
            "Removing duplicates of Neutral-2017.jpg\n",
            "Neutral-2017 (1).jpg removed\n",
            "Removing duplicates of Neutral-1391 (1).jpg\n",
            "Neutral-1391.jpg removed\n",
            "Removing duplicates of Neutral-705.jpg\n",
            "Neutral-2990.jpg removed\n",
            "Removing duplicates of Neutral-3902.jpg\n",
            "Neutral-3902 (1).jpg removed\n",
            "Removing duplicates of Neutral-4943.jpg\n",
            "Neutral-4943 (1).jpg removed\n",
            "Removing duplicates of Neutral-4623.jpg\n",
            "Neutral-226.jpg removed\n",
            "Removing duplicates of Neutral-3687.jpg\n",
            "Neutral-4482.jpg removed\n",
            "Removing duplicates of Neutral-589.jpg\n",
            "Neutral-589 (1).jpg removed\n",
            "Removing duplicates of Neutral-4599.jpg\n",
            "Neutral-4599 (1).jpg removed\n",
            "Removing duplicates of Neutral-430.jpg\n",
            "Neutral-4055.jpg removed\n",
            "Removing duplicates of Neutral-3591 (1).jpg\n",
            "Neutral-3591.jpg removed\n",
            "Removing duplicates of Neutral-1144 (1).jpg\n",
            "Neutral-1144.jpg removed\n",
            "Removing duplicates of Neutral-616 (1).jpg\n",
            "Neutral-616.jpg removed\n",
            "Removing duplicates of Neutral-4216.jpg\n",
            "Neutral-4216 (1).jpg removed\n",
            "Removing duplicates of Neutral-1178 (1).jpg\n",
            "Neutral-1178.jpg removed\n",
            "Removing duplicates of Neutral-3352.jpg\n",
            "Neutral-3352 (1).jpg removed\n",
            "Removing duplicates of Neutral-2305.jpg\n",
            "Neutral-2305 (1).jpg removed\n",
            "Removing duplicates of Neutral-4172.jpg\n",
            "Neutral-4172 (1).jpg removed\n",
            "Removing duplicates of Neutral-1035 (1).jpg\n",
            "Neutral-1035.jpg removed\n",
            "Removing duplicates of Neutral-3852.jpg\n",
            "Neutral-4658.jpg removed\n",
            "Neutral-4658 (1).jpg removed\n",
            "Neutral-3607.jpg removed\n",
            "Removing duplicates of Neutral-3026.jpg\n",
            "Neutral-3026 (1).jpg removed\n",
            "Removing duplicates of Neutral-2303.jpg\n",
            "Neutral-2303 (1).jpg removed\n",
            "Removing duplicates of Neutral-2648.jpg\n",
            "Neutral-2648 (1).jpg removed\n",
            "Removing duplicates of Neutral-3618 (1).jpg\n",
            "Neutral-3618.jpg removed\n",
            "Removing duplicates of Neutral-4830 (1).jpg\n",
            "Neutral-4830.jpg removed\n",
            "Removing duplicates of Neutral-3393.jpg\n",
            "Neutral-4225.jpg removed\n",
            "Removing duplicates of Neutral-4831.jpg\n",
            "Neutral-4831 (1).jpg removed\n",
            "Removing duplicates of Neutral-200.jpg\n",
            "Neutral-200 (1).jpg removed\n",
            "Removing duplicates of Neutral-4766.jpg\n",
            "Neutral-4766 (1).jpg removed\n",
            "Removing duplicates of Neutral-4015.jpg\n",
            "Neutral-4015 (1).jpg removed\n",
            "Removing duplicates of Neutral-3144 (1).jpg\n",
            "Neutral-3144.jpg removed\n",
            "Removing duplicates of Neutral-4664 (1).jpg\n",
            "Neutral-4664.jpg removed\n",
            "Removing duplicates of Neutral-2311.jpg\n",
            "Neutral-2311 (1).jpg removed\n",
            "Removing duplicates of Neutral-2111.jpg\n",
            "Neutral-2845.jpg removed\n",
            "Removing duplicates of Neutral-3395.jpg\n",
            "Neutral-3395 (1).jpg removed\n",
            "Removing duplicates of Neutral-2573.jpg\n",
            "Neutral-27.jpg removed\n",
            "Removing duplicates of Neutral-1456.jpg\n",
            "Neutral-1456 (1).jpg removed\n",
            "Removing duplicates of Neutral-1325.jpg\n",
            "Neutral-1125.jpg removed\n",
            "Removing duplicates of Neutral-513.jpg\n",
            "Neutral-1311.jpg removed\n",
            "Removing duplicates of Neutral-765 (1).jpg\n",
            "Neutral-765.jpg removed\n",
            "Removing duplicates of Neutral-3231.jpg\n",
            "Neutral-3231 (1).jpg removed\n",
            "Removing duplicates of Neutral-3042.jpg\n",
            "Neutral-3042 (1).jpg removed\n",
            "Removing duplicates of Neutral-4957.jpg\n",
            "Neutral-4957 (1).jpg removed\n",
            "Removing duplicates of Neutral-2514.jpg\n",
            "Neutral-2514 (1).jpg removed\n",
            "Removing duplicates of Neutral-2102.jpg\n",
            "Neutral-2102 (1).jpg removed\n",
            "Removing duplicates of Neutral-4604.jpg\n",
            "Neutral-1030.jpg removed\n",
            "Removing duplicates of Neutral-2702 (1).jpg\n",
            "Neutral-2702.jpg removed\n",
            "Removing duplicates of Neutral-821.jpg\n",
            "Neutral-4843.jpg removed\n",
            "Removing duplicates of Neutral-4288.jpg\n",
            "Neutral-4834.jpg removed\n",
            "Neutral-2733.jpg removed\n",
            "Removing duplicates of Neutral-4570 (1).jpg\n",
            "Neutral-4570.jpg removed\n",
            "Removing duplicates of Neutral-2265.jpg\n",
            "Neutral-2265 (1).jpg removed\n",
            "Removing duplicates of Neutral-2664 (1).jpg\n",
            "Neutral-2664.jpg removed\n",
            "Removing duplicates of Neutral-3459.jpg\n",
            "Neutral-3295.jpg removed\n",
            "Removing duplicates of Neutral-2259.jpg\n",
            "Neutral-2259 (1).jpg removed\n",
            "Removing duplicates of Neutral-2312.jpg\n",
            "Neutral-187.jpg removed\n",
            "Removing duplicates of Neutral-1949.jpg\n",
            "Neutral-1949 (1).jpg removed\n",
            "Removing duplicates of Neutral-2528.jpg\n",
            "Neutral-2528 (1).jpg removed\n",
            "Neutral-2528 (2).jpg removed\n",
            "Removing duplicates of Neutral-3804 (1).jpg\n",
            "Neutral-3804.jpg removed\n",
            "Removing duplicates of Neutral-4923.jpg\n",
            "Neutral-4923 (1).jpg removed\n",
            "Removing duplicates of Neutral-3241.jpg\n",
            "Neutral-4274.jpg removed\n",
            "Neutral-3241 (1).jpg removed\n",
            "Removing duplicates of Neutral-2675.jpg\n",
            "Neutral-2675 (1).jpg removed\n",
            "Removing duplicates of Neutral-4819 (1).jpg\n",
            "Neutral-4819.jpg removed\n",
            "Removing duplicates of Neutral-3709.jpg\n",
            "Neutral-3046.jpg removed\n",
            "Neutral-1276.jpg removed\n",
            "Removing duplicates of Neutral-566.jpg\n",
            "Neutral-566 (1).jpg removed\n",
            "Removing duplicates of Neutral-2155.jpg\n",
            "Neutral-2494.jpg removed\n",
            "Removing duplicates of Neutral-1185.jpg\n",
            "Neutral-1185 (1).jpg removed\n",
            "Removing duplicates of Neutral-310.jpg\n",
            "Neutral-1656.jpg removed\n",
            "Removing duplicates of Neutral-3848.jpg\n",
            "Neutral-2805.jpg removed\n",
            "Removing duplicates of Neutral-4763.jpg\n",
            "Neutral-2557.jpg removed\n",
            "Removing duplicates of Neutral-2465.jpg\n",
            "Neutral-2465 (1).jpg removed\n",
            "Removing duplicates of Neutral-3839.jpg\n",
            "Neutral-3839 (1).jpg removed\n",
            "Removing duplicates of Neutral-2856 (1).jpg\n",
            "Neutral-2856.jpg removed\n",
            "Removing duplicates of Neutral-2512.jpg\n",
            "Neutral-2512 (1).jpg removed\n",
            "Removing duplicates of Neutral-2853 (1).jpg\n",
            "Neutral-2853.jpg removed\n",
            "Removing duplicates of Neutral-2923 (1).jpg\n",
            "Neutral-2923.jpg removed\n",
            "Removing duplicates of Neutral-2842 (1).jpg\n",
            "Neutral-2842.jpg removed\n",
            "Removing duplicates of Neutral-2854.jpg\n",
            "Neutral-2854 (1).jpg removed\n",
            "Removing duplicates of Neutral-175.jpg\n",
            "Neutral-175 (1).jpg removed\n",
            "Removing duplicates of Neutral-4593.jpg\n",
            "Neutral-3037.jpg removed\n",
            "Removing duplicates of Neutral-428 (1).jpg\n",
            "Neutral-428.jpg removed\n",
            "Removing duplicates of Neutral-1250 (1).jpg\n",
            "Neutral-1250.jpg removed\n",
            "Removing duplicates of Neutral-3592.jpg\n",
            "Neutral-3592 (1).jpg removed\n",
            "Removing duplicates of Neutral-942.jpg\n",
            "Neutral-942 (1).jpg removed\n",
            "Removing duplicates of Neutral-3792.jpg\n",
            "Neutral-3792 (1).jpg removed\n",
            "Removing duplicates of Neutral-2935 (1).jpg\n",
            "Neutral-2935.jpg removed\n",
            "Removing duplicates of Neutral-177.jpg\n",
            "Neutral-177 (1).jpg removed\n",
            "Removing duplicates of Neutral-4739 (1).jpg\n",
            "Neutral-4739.jpg removed\n",
            "Removing duplicates of Neutral-3994.jpg\n",
            "Neutral-98.jpg removed\n",
            "Removing duplicates of Neutral-3518.jpg\n",
            "Neutral-2006.jpg removed\n",
            "Removing duplicates of Neutral-4639.jpg\n",
            "Neutral-4639 (1).jpg removed\n",
            "Removing duplicates of Neutral-3409.jpg\n",
            "Neutral-3409 (1).jpg removed\n",
            "Removing duplicates of Neutral-4428 (1).jpg\n",
            "Neutral-4428.jpg removed\n",
            "Removing duplicates of Neutral-4466.jpg\n",
            "Neutral-4466 (1).jpg removed\n",
            "Removing duplicates of Neutral-1046 (2).jpg\n",
            "Neutral-1046 (1).jpg removed\n",
            "Neutral-1046.jpg removed\n",
            "Removing duplicates of Neutral-2890.jpg\n",
            "Neutral-2890 (1).jpg removed\n",
            "Removing duplicates of Neutral-1071.jpg\n",
            "Neutral-1838.jpg removed\n",
            "Removing duplicates of Neutral-1036.jpg\n",
            "Neutral-1036 (1).jpg removed\n",
            "Removing duplicates of Neutral-170.jpg\n",
            "Neutral-170 (1).jpg removed\n",
            "Removing duplicates of Neutral-202.jpg\n",
            "Neutral-2778.jpg removed\n",
            "Removing duplicates of Neutral-2840 (1).jpg\n",
            "Neutral-2840.jpg removed\n",
            "Removing duplicates of Neutral-1641 (1).jpg\n",
            "Neutral-1641.jpg removed\n",
            "Removing duplicates of Neutral-2639.jpg\n",
            "Neutral-2639 (1).jpg removed\n",
            "Removing duplicates of Neutral-3224 (1).jpg\n",
            "Neutral-3224.jpg removed\n",
            "Removing duplicates of Neutral-1422 (1).jpg\n",
            "Neutral-1422.jpg removed\n",
            "Removing duplicates of Neutral-3775.jpg\n",
            "Neutral-1568.jpg removed\n",
            "Neutral-2345.jpg removed\n",
            "Removing duplicates of Neutral-1791 (1).jpg\n",
            "Neutral-1791.jpg removed\n",
            "Removing duplicates of Neutral-1022.jpg\n",
            "Neutral-1022 (1).jpg removed\n",
            "Removing duplicates of Neutral-3810 (1).jpg\n",
            "Neutral-3810.jpg removed\n",
            "Removing duplicates of Neutral-1618.jpg\n",
            "Neutral-1618 (1).jpg removed\n",
            "Removing duplicates of Neutral-2461.jpg\n",
            "Neutral-1779.jpg removed\n",
            "Neutral-1779 (1).jpg removed\n",
            "Removing duplicates of Neutral-3219 (1).jpg\n",
            "Neutral-3219.jpg removed\n",
            "Removing duplicates of Neutral-2924 (1).jpg\n",
            "Neutral-2924.jpg removed\n",
            "Removing duplicates of Neutral-4598.jpg\n",
            "Neutral-4598 (1).jpg removed\n",
            "Removing duplicates of Neutral-248 (1).jpg\n",
            "Neutral-248.jpg removed\n",
            "Removing duplicates of Neutral-1392.jpg\n",
            "Neutral-1392 (1).jpg removed\n",
            "Removing duplicates of Neutral-3384 (1).jpg\n",
            "Neutral-3384.jpg removed\n",
            "Removing duplicates of Neutral-3608 (1).jpg\n",
            "Neutral-3608.jpg removed\n",
            "Neutral-718.jpg removed\n",
            "Neutral-2467.jpg removed\n",
            "Neutral-1516.jpg removed\n",
            "Removing duplicates of Neutral-4265.jpg\n",
            "Neutral-1925.jpg removed\n",
            "Removing duplicates of Neutral-2516.jpg\n",
            "Neutral-2516 (1).jpg removed\n",
            "Removing duplicates of Neutral-602.jpg\n",
            "Neutral-602 (1).jpg removed\n",
            "Removing duplicates of Neutral-1744.jpg\n",
            "Neutral-1744 (1).jpg removed\n",
            "Removing duplicates of Neutral-1021 (1).jpg\n",
            "Neutral-1021.jpg removed\n",
            "Removing duplicates of Neutral-1191 (1).jpg\n",
            "Neutral-1191.jpg removed\n",
            "Removing duplicates of Neutral-1747.jpg\n",
            "Neutral-1747 (1).jpg removed\n",
            "Removing duplicates of Neutral-2995.jpg\n",
            "Neutral-149.jpg removed\n",
            "Removing duplicates of Neutral-4210.jpg\n",
            "Neutral-4210 (1).jpg removed\n",
            "Removing duplicates of Neutral-1426.jpg\n",
            "Neutral-1426 (1).jpg removed\n",
            "Removing duplicates of Neutral-1324.jpg\n",
            "Neutral-1324 (1).jpg removed\n",
            "Removing duplicates of Neutral-749.jpg\n",
            "Neutral-749 (1).jpg removed\n",
            "Removing duplicates of Neutral-1752.jpg\n",
            "Neutral-1752 (1).jpg removed\n",
            "Removing duplicates of Neutral-2272.jpg\n",
            "Neutral-2272 (1).jpg removed\n",
            "Removing duplicates of Neutral-4062.jpg\n",
            "Neutral-2304.jpg removed\n",
            "Removing duplicates of Neutral-3156 (1).jpg\n",
            "Neutral-3156.jpg removed\n",
            "Removing duplicates of Neutral-3579 (1).jpg\n",
            "Neutral-3579.jpg removed\n",
            "Removing duplicates of Neutral-4760.jpg\n",
            "Neutral-4760 (1).jpg removed\n",
            "Removing duplicates of Neutral-4529.jpg\n",
            "Neutral-2899.jpg removed\n",
            "Removing duplicates of Neutral-448.jpg\n",
            "Neutral-3221.jpg removed\n",
            "Neutral-2454.jpg removed\n",
            "Removing duplicates of Neutral-759.jpg\n",
            "Neutral-759 (1).jpg removed\n",
            "Removing duplicates of Neutral-3752 (1).jpg\n",
            "Neutral-3752.jpg removed\n",
            "Removing duplicates of Neutral-2101 (1).jpg\n",
            "Neutral-2101.jpg removed\n",
            "Removing duplicates of Neutral-79.jpg\n",
            "Neutral-1839.jpg removed\n",
            "Removing duplicates of Neutral-3255.jpg\n",
            "Neutral-3255 (1).jpg removed\n",
            "Removing duplicates of Neutral-4601 (1).jpg\n",
            "Neutral-4601.jpg removed\n",
            "Removing duplicates of Neutral-3420 (1).jpg\n",
            "Neutral-3420.jpg removed\n",
            "Removing duplicates of Neutral-415.jpg\n",
            "Neutral-415 (1).jpg removed\n",
            "Removing duplicates of Neutral-985.jpg\n",
            "Neutral-985 (1).jpg removed\n",
            "Removing duplicates of Neutral-4166.jpg\n",
            "Neutral-4166 (1).jpg removed\n",
            "Removing duplicates of Neutral-2463 (1).jpg\n",
            "Neutral-2463.jpg removed\n",
            "Removing duplicates of Neutral-1382.jpg\n",
            "Neutral-1382 (1).jpg removed\n",
            "Removing duplicates of Neutral-1536.jpg\n",
            "Neutral-1536 (1).jpg removed\n",
            "Removing duplicates of Neutral-4669.jpg\n",
            "Neutral-1804.jpg removed\n",
            "Removing duplicates of Neutral-714.jpg\n",
            "Neutral-1902.jpg removed\n",
            "Removing duplicates of Neutral-1988.jpg\n",
            "Neutral-1988 (1).jpg removed\n",
            "Removing duplicates of Neutral-607.jpg\n",
            "Neutral-607 (1).jpg removed\n",
            "Removing duplicates of Neutral-1890.jpg\n",
            "Neutral-1233.jpg removed\n",
            "Removing duplicates of Neutral-3321.jpg\n",
            "Neutral-3321 (1).jpg removed\n",
            "Removing duplicates of Neutral-3889 (1).jpg\n",
            "Neutral-3889.jpg removed\n",
            "Neutral-3889 (2).jpg removed\n",
            "Removing duplicates of Neutral-4880.jpg\n",
            "Neutral-4880 (1).jpg removed\n",
            "Removing duplicates of Neutral-1346.jpg\n",
            "Neutral-1346 (1).jpg removed\n",
            "Removing duplicates of Neutral-3651.jpg\n",
            "Neutral-3651 (2).jpg removed\n",
            "Neutral-3651 (1).jpg removed\n",
            "Removing duplicates of Neutral-1622.jpg\n",
            "Neutral-1622 (1).jpg removed\n",
            "Removing duplicates of Neutral-1655.jpg\n",
            "Neutral-1655 (1).jpg removed\n",
            "Removing duplicates of Neutral-4415 (1).jpg\n",
            "Neutral-4415.jpg removed\n",
            "Neutral-253.jpg removed\n",
            "Removing duplicates of Neutral-1133.jpg\n",
            "Neutral-1133 (1).jpg removed\n",
            "Removing duplicates of Neutral-1132.jpg\n",
            "Neutral-1132 (1).jpg removed\n",
            "Removing duplicates of Neutral-1052 (1).jpg\n",
            "Neutral-1052.jpg removed\n",
            "Removing duplicates of Neutral-1172.jpg\n",
            "Neutral-191.jpg removed\n",
            "Removing duplicates of Neutral-3140.jpg\n",
            "Neutral-1089.jpg removed\n",
            "Removing duplicates of Neutral-3009.jpg\n",
            "Neutral-3009 (1).jpg removed\n",
            "Removing duplicates of Neutral-3730.jpg\n",
            "Neutral-3730 (1).jpg removed\n",
            "Removing duplicates of Neutral-3832.jpg\n",
            "Neutral-2085.jpg removed\n",
            "Removing duplicates of Neutral-1369.jpg\n",
            "Neutral-1369 (1).jpg removed\n",
            "Removing duplicates of Neutral-3325.jpg\n",
            "Neutral-3886.jpg removed\n",
            "Removing duplicates of Neutral-3137.jpg\n",
            "Neutral-3137 (1).jpg removed\n",
            "Removing duplicates of Neutral-1236.jpg\n",
            "Neutral-1236 (1).jpg removed\n",
            "Removing duplicates of Neutral-2114.jpg\n",
            "Neutral-2114 (1).jpg removed\n",
            "Removing duplicates of Neutral-1442 (1).jpg\n",
            "Neutral-1442.jpg removed\n",
            "Removing duplicates of Neutral-4575.jpg\n",
            "Neutral-2129.jpg removed\n",
            "Neutral-2129 (1).jpg removed\n",
            "Removing duplicates of Neutral-996.jpg\n",
            "Neutral-1562.jpg removed\n",
            "Removing duplicates of Neutral-3146.jpg\n",
            "Neutral-3146 (1).jpg removed\n",
            "Removing duplicates of Neutral-583.jpg\n",
            "Neutral-21.jpg removed\n",
            "Removing duplicates of Neutral-3186.jpg\n",
            "Neutral-3186 (1).jpg removed\n",
            "Removing duplicates of Neutral-4602 (1).jpg\n",
            "Neutral-4602.jpg removed\n",
            "Removing duplicates of Neutral-357.jpg\n",
            "Neutral-123.jpg removed\n",
            "Removing duplicates of Neutral-4012.jpg\n",
            "Neutral-4012 (1).jpg removed\n",
            "Removing duplicates of Neutral-4628.jpg\n",
            "Neutral-4628 (1).jpg removed\n",
            "Removing duplicates of Neutral-3035.jpg\n",
            "Neutral-3035 (1).jpg removed\n",
            "Removing duplicates of Neutral-2506.jpg\n",
            "Neutral-2506 (1).jpg removed\n",
            "Removing duplicates of Neutral-3684.jpg\n",
            "Neutral-1530.jpg removed\n",
            "Removing duplicates of Neutral-4600.jpg\n",
            "Neutral-4600 (1).jpg removed\n",
            "Removing duplicates of Neutral-2229 (1).jpg\n",
            "Neutral-2229.jpg removed\n",
            "Removing duplicates of Neutral-69.jpg\n",
            "Neutral-4200.jpg removed\n",
            "Removing duplicates of Neutral-72.jpg\n",
            "Neutral-4551.jpg removed\n",
            "Removing duplicates of Neutral-2470.jpg\n",
            "Neutral-2470 (1).jpg removed\n",
            "Removing duplicates of Neutral-3590.jpg\n",
            "Neutral-3590 (1).jpg removed\n",
            "Removing duplicates of Neutral-1551 (1).jpg\n",
            "Neutral-1551.jpg removed\n",
            "Removing duplicates of Neutral-2107.jpg\n",
            "Neutral-2107 (1).jpg removed\n",
            "Removing duplicates of Neutral-1867 (1).jpg\n",
            "Neutral-1867.jpg removed\n",
            "Removing duplicates of Neutral-2271.jpg\n",
            "Neutral-2271 (1).jpg removed\n",
            "Removing duplicates of Neutral-1899.jpg\n",
            "Neutral-1899 (1).jpg removed\n",
            "Removing duplicates of Neutral-3622.jpg\n",
            "Neutral-3622 (1).jpg removed\n",
            "Removing duplicates of Neutral-1913 (1).jpg\n",
            "Neutral-1913.jpg removed\n",
            "Removing duplicates of Neutral-761.jpg\n",
            "Neutral-761 (1).jpg removed\n",
            "Removing duplicates of Neutral-3635.jpg\n",
            "Neutral-3635 (1).jpg removed\n",
            "Removing duplicates of Neutral-818.jpg\n",
            "Neutral-818 (1).jpg removed\n",
            "Removing duplicates of Neutral-4239.jpg\n",
            "Neutral-4239 (1).jpg removed\n",
            "Removing duplicates of Neutral-414 (1).jpg\n",
            "Neutral-414.jpg removed\n",
            "Removing duplicates of Neutral-3147.jpg\n",
            "Neutral-3147 (1).jpg removed\n"
          ]
        }
      ]
    },
    {
      "cell_type": "markdown",
      "source": [
        "Data Augmentation? (Shifting, Rotating, Brightness, Cropping ...)"
      ],
      "metadata": {
        "id": "QogAgnaPTE0p"
      }
    },
    {
      "cell_type": "code",
      "source": [],
      "metadata": {
        "id": "f_3BSLN8TY98"
      },
      "execution_count": null,
      "outputs": []
    },
    {
      "cell_type": "markdown",
      "source": [
        "**Standardization Check**"
      ],
      "metadata": {
        "id": "LshQya6jIO5i"
      }
    },
    {
      "cell_type": "markdown",
      "source": [
        "https://machinelearningmastery.com/how-to-normalize-center-and-standardize-images-with-the-imagedatagenerator-in-keras/\n",
        "\n",
        "Standardization assumes that the distribution of the data is Gaussian, which we cannot guarantee, so instead of standardization we should use scaling. The scaling will be done at training time after we set up a generator and iterator as shown below:"
      ],
      "metadata": {
        "id": "n5CneHsmLeFA"
      }
    },
    {
      "cell_type": "code",
      "source": [
        "from keras.preprocessing.image import ImageDataGenerator\n",
        "# create generator (1.0/255.0 = 0.003921568627451)\n",
        "datagen = ImageDataGenerator(rescale=1.0/255.0)\n",
        "# prepare an iterators to scale images\n",
        "train_iterator = datagen.flow(X_train, y_train, batch_size=64)\n",
        "test_iterator = datagen.flow(X_test, y_test, batch_size=64)\n",
        "print('Batches train=%d, test=%d' % (len(train_iterator), len(test_iterator)))\n",
        "# confirm the scaling works\n",
        "batchX, batchy = train_iterator.next()\n",
        "print('Batch shape=%s, min=%.3f, max=%.3f' % (batchX.shape, batchX.min(), batchX.max()))"
      ],
      "metadata": {
        "id": "6i9-NSqkVYNu"
      },
      "execution_count": null,
      "outputs": []
    },
    {
      "cell_type": "markdown",
      "source": [
        "**Resizing**"
      ],
      "metadata": {
        "id": "QIQzrBfkLgQ6"
      }
    },
    {
      "cell_type": "markdown",
      "source": [
        "When we build the model, we will add a resizing layer using keras.layers.Resizing to resize the images to 48*48."
      ],
      "metadata": {
        "id": "ucvLhT0xLjpZ"
      }
    }
  ]
}