{
  "cells": [
    {
      "cell_type": "markdown",
      "metadata": {
        "id": "view-in-github",
        "colab_type": "text"
      },
      "source": [
        "<a href=\"https://colab.research.google.com/github/Jade-P/MLGroupProject/blob/Happy--Sohyun/CNN_final.ipynb\" target=\"_parent\"><img src=\"https://colab.research.google.com/assets/colab-badge.svg\" alt=\"Open In Colab\"/></a>"
      ]
    },
    {
      "cell_type": "markdown",
      "metadata": {
        "id": "3AtkE_CfNT2W"
      },
      "source": [
        "#Environment & path Setup "
      ]
    },
    {
      "cell_type": "code",
      "execution_count": 1,
      "metadata": {
        "id": "ril1tJEgNVx6"
      },
      "outputs": [],
      "source": [
        "from pydrive.auth import GoogleAuth\n",
        "from google.colab import drive\n",
        "from pydrive.drive import GoogleDrive\n",
        "from google.colab import auth\n",
        "from oauth2client.client import GoogleCredentials"
      ]
    },
    {
      "cell_type": "code",
      "source": [
        "auth.authenticate_user()\n",
        "gauth = GoogleAuth()\n",
        "gauth.credentials = GoogleCredentials.get_application_default()\n",
        "drive = GoogleDrive(gauth)\n",
        "\n",
        "file_id = '1fr1dJI9LyphQ6Y0Wo_au1ymvUsZnNvXD' \n",
        "\n",
        "\n",
        "download = drive.CreateFile({'id': file_id})\n",
        "\n",
        "\n",
        "# Download the file to a local disc\n",
        "download.GetContentFile('preprocessed.zip')"
      ],
      "metadata": {
        "id": "PHliZQEU14MF"
      },
      "execution_count": 2,
      "outputs": []
    },
    {
      "cell_type": "code",
      "execution_count": 3,
      "metadata": {
        "id": "p4yo5rUJk-st"
      },
      "outputs": [],
      "source": [
        "!unzip -qq preprocessed.zip"
      ]
    },
    {
      "cell_type": "markdown",
      "metadata": {
        "id": "mdQ0gEw6Nl11"
      },
      "source": [
        "#Load Data"
      ]
    },
    {
      "cell_type": "code",
      "execution_count": 4,
      "metadata": {
        "id": "Psc5V2PqNnS1"
      },
      "outputs": [],
      "source": [
        "import numpy as np \n",
        "from tqdm import tqdm\n",
        "import cv2\n",
        "import os\n",
        "import tensorflow as tf\n",
        "import matplotlib.pyplot as plt\n",
        "RANDOM_SEED = 123"
      ]
    },
    {
      "cell_type": "code",
      "execution_count": 5,
      "metadata": {
        "id": "VH3eF_bbNo7L"
      },
      "outputs": [],
      "source": [
        "TRAIN_DIR = ('Training/Training/')\n",
        "TEST_DIR = ('Testing/Testing/')"
      ]
    },
    {
      "cell_type": "code",
      "execution_count": 6,
      "metadata": {
        "id": "scUM63m_NqL7"
      },
      "outputs": [],
      "source": [
        "emotions = ['Angry', 'Fear', 'Happy', 'Neutral', 'Sad', 'Suprise']"
      ]
    },
    {
      "cell_type": "code",
      "execution_count": 7,
      "metadata": {
        "id": "s707Mx08NrX7"
      },
      "outputs": [],
      "source": [
        "def load_data(dir_path, IMG_SIZE):\n",
        "   \n",
        "    X = []\n",
        "    y = []\n",
        "    i = 0\n",
        "    labels = dict()\n",
        "    for path in tqdm(sorted(emotions)):\n",
        "        if not path.startswith('.'):\n",
        "            labels[i] = path\n",
        "            for file in os.listdir(dir_path + path):\n",
        "                if not file.startswith('.'):\n",
        "                    img = cv2.imread(dir_path + path + '/' + file, cv2.IMREAD_GRAYSCALE)\n",
        "                    img = img.astype('float32') / 255 # NORMALIZES PIXELS \n",
        "                    resized = cv2.resize(img, IMG_SIZE, interpolation = cv2.INTER_AREA)\n",
        "                    X.append(resized)\n",
        "                    y.append(i)\n",
        "            i += 1\n",
        "    X = np.array(X)\n",
        "    y = np.array(y)\n",
        "    print(f'{len(X)} images loaded from {dir_path} directory.')\n",
        "    return X, y, labels"
      ]
    },
    {
      "cell_type": "code",
      "execution_count": 8,
      "metadata": {
        "id": "RzR28GqbNsi7"
      },
      "outputs": [],
      "source": [
        "IMG_SIZE= (48, 48)"
      ]
    },
    {
      "cell_type": "code",
      "execution_count": 9,
      "metadata": {
        "colab": {
          "base_uri": "https://localhost:8080/"
        },
        "id": "M083w1OYNttK",
        "outputId": "89e301a6-b69a-4ae5-8a76-2abb53142a11"
      },
      "outputs": [
        {
          "output_type": "stream",
          "name": "stderr",
          "text": [
            "100%|██████████| 6/6 [00:02<00:00,  2.35it/s]\n"
          ]
        },
        {
          "output_type": "stream",
          "name": "stdout",
          "text": [
            "36854 images loaded from Training/Training/ directory.\n"
          ]
        }
      ],
      "source": [
        "X_train, y_train, train_labels = load_data(TRAIN_DIR, IMG_SIZE)"
      ]
    },
    {
      "cell_type": "code",
      "execution_count": 10,
      "metadata": {
        "id": "yMUcU1TINute",
        "colab": {
          "base_uri": "https://localhost:8080/"
        },
        "outputId": "91985260-0d03-4a01-e465-2fa9634158a2"
      },
      "outputs": [
        {
          "output_type": "execute_result",
          "data": {
            "text/plain": [
              "{0: 'Angry', 1: 'Fear', 2: 'Happy', 3: 'Neutral', 4: 'Sad', 5: 'Suprise'}"
            ]
          },
          "metadata": {},
          "execution_count": 10
        }
      ],
      "source": [
        "train_labels"
      ]
    },
    {
      "cell_type": "code",
      "execution_count": 11,
      "metadata": {
        "id": "R_uzhsuJNwBq",
        "colab": {
          "base_uri": "https://localhost:8080/"
        },
        "outputId": "c8355cf4-0b07-4f92-dc44-d6e1332dcd0f"
      },
      "outputs": [
        {
          "output_type": "stream",
          "name": "stderr",
          "text": [
            "100%|██████████| 6/6 [00:00<00:00, 12.87it/s]\n"
          ]
        },
        {
          "output_type": "stream",
          "name": "stdout",
          "text": [
            "7067 images loaded from Testing/Testing/ directory.\n"
          ]
        }
      ],
      "source": [
        "X_test, y_test, test_labels = load_data(TEST_DIR,IMG_SIZE)"
      ]
    },
    {
      "cell_type": "code",
      "execution_count": 12,
      "metadata": {
        "id": "TSMFePuaoMpq",
        "colab": {
          "base_uri": "https://localhost:8080/"
        },
        "outputId": "9884de16-ed53-4afa-d5a5-6afb10349d67"
      },
      "outputs": [
        {
          "output_type": "execute_result",
          "data": {
            "text/plain": [
              "(36854, 48, 48)"
            ]
          },
          "metadata": {},
          "execution_count": 12
        }
      ],
      "source": [
        "X_train.shape"
      ]
    },
    {
      "cell_type": "markdown",
      "metadata": {
        "id": "Ii61wsV8u8k-"
      },
      "source": [
        "#Model Building"
      ]
    },
    {
      "cell_type": "code",
      "execution_count": 13,
      "metadata": {
        "id": "4tQVzDnWvFcD"
      },
      "outputs": [],
      "source": [
        "# load libraries\n",
        "\n",
        "import tensorflow as tf\n",
        "from tensorflow import keras\n",
        "from tensorflow.keras import datasets, layers, models\n",
        "from keras.layers import Dense, Dropout, Activation, Flatten\n",
        "from keras.layers import Conv2D, MaxPooling2D, BatchNormalization\n",
        "from keras.losses import categorical_crossentropy\n",
        "from keras.optimizers import Adam\n",
        "from keras.models import Sequential\n",
        "from keras.layers import Dense, Dropout, Activation\n",
        "\n",
        "# NOTE: the pixels were already normalized from 0-1 values upon loading "
      ]
    },
    {
      "cell_type": "code",
      "execution_count": 14,
      "metadata": {
        "colab": {
          "base_uri": "https://localhost:8080/"
        },
        "id": "1zveFHW60m4v",
        "outputId": "cea29f39-06d6-4119-a0a7-d4f140c3afe9"
      },
      "outputs": [
        {
          "output_type": "execute_result",
          "data": {
            "text/plain": [
              "(36854, 48, 48)"
            ]
          },
          "metadata": {},
          "execution_count": 14
        }
      ],
      "source": [
        "X_train.shape"
      ]
    },
    {
      "cell_type": "code",
      "source": [
        "y_train"
      ],
      "metadata": {
        "colab": {
          "base_uri": "https://localhost:8080/"
        },
        "id": "3Y6Q9z_DNNPr",
        "outputId": "e7bf73ec-9c26-4586-b3e8-8411863d9b21"
      },
      "execution_count": 15,
      "outputs": [
        {
          "output_type": "execute_result",
          "data": {
            "text/plain": [
              "array([0, 0, 0, ..., 5, 5, 5])"
            ]
          },
          "metadata": {},
          "execution_count": 15
        }
      ]
    },
    {
      "cell_type": "code",
      "source": [
        "y_test"
      ],
      "metadata": {
        "colab": {
          "base_uri": "https://localhost:8080/"
        },
        "id": "uU7jWMogNPH6",
        "outputId": "f04524ae-94c3-4a96-9ccd-14b692f16e09"
      },
      "execution_count": 16,
      "outputs": [
        {
          "output_type": "execute_result",
          "data": {
            "text/plain": [
              "array([0, 0, 0, ..., 5, 5, 5])"
            ]
          },
          "metadata": {},
          "execution_count": 16
        }
      ]
    },
    {
      "cell_type": "code",
      "execution_count": 17,
      "metadata": {
        "id": "i22w7PvA3Z13"
      },
      "outputs": [],
      "source": [
        "# Input image dimensions\n",
        "img_rows, img_cols = 48, 48\n",
        "\n",
        "# Channels go last for TensorFlow backend\n",
        "X_train_reshaped = X_train.reshape(X_train.shape[0], img_rows, img_cols, 1)\n",
        "X_test_reshaped = X_test.reshape(X_test.shape[0], img_rows, img_cols, 1)\n",
        "input_shape = (img_rows, img_cols, 1)\n",
        "\n",
        "# one hot encode y_train and y_test\n",
        "from sklearn.preprocessing import OneHotEncoder\n",
        "\n",
        "enc = OneHotEncoder(handle_unknown='ignore')\n",
        "\n",
        "y_train = enc.fit_transform(y_train.reshape(-1, 1))\n",
        "\n",
        "y_test = enc.fit_transform(y_test.reshape(-1, 1))\n",
        "\n",
        "y_train = y_train.toarray()\n",
        "y_test = y_test.toarray()"
      ]
    },
    {
      "cell_type": "code",
      "source": [
        "y_train"
      ],
      "metadata": {
        "colab": {
          "base_uri": "https://localhost:8080/"
        },
        "id": "2ukWhORMNQw5",
        "outputId": "ae308b8c-df5e-416f-f2a6-deded737bff4"
      },
      "execution_count": 18,
      "outputs": [
        {
          "output_type": "execute_result",
          "data": {
            "text/plain": [
              "array([[1., 0., 0., 0., 0., 0.],\n",
              "       [1., 0., 0., 0., 0., 0.],\n",
              "       [1., 0., 0., 0., 0., 0.],\n",
              "       ...,\n",
              "       [0., 0., 0., 0., 0., 1.],\n",
              "       [0., 0., 0., 0., 0., 1.],\n",
              "       [0., 0., 0., 0., 0., 1.]])"
            ]
          },
          "metadata": {},
          "execution_count": 18
        }
      ]
    },
    {
      "cell_type": "code",
      "source": [
        "y_test"
      ],
      "metadata": {
        "colab": {
          "base_uri": "https://localhost:8080/"
        },
        "id": "0Euf17rlNSFX",
        "outputId": "49434413-4ff1-49f7-c708-ebf7116fc08a"
      },
      "execution_count": 19,
      "outputs": [
        {
          "output_type": "execute_result",
          "data": {
            "text/plain": [
              "array([[1., 0., 0., 0., 0., 0.],\n",
              "       [1., 0., 0., 0., 0., 0.],\n",
              "       [1., 0., 0., 0., 0., 0.],\n",
              "       ...,\n",
              "       [0., 0., 0., 0., 0., 1.],\n",
              "       [0., 0., 0., 0., 0., 1.],\n",
              "       [0., 0., 0., 0., 0., 1.]])"
            ]
          },
          "metadata": {},
          "execution_count": 19
        }
      ]
    },
    {
      "cell_type": "code",
      "source": [
        "from sklearn.utils import shuffle\n",
        "\n",
        "X_train, y_train = shuffle(X_train, y_train)"
      ],
      "metadata": {
        "id": "36wcKSRNHFUM"
      },
      "execution_count": 20,
      "outputs": []
    },
    {
      "cell_type": "code",
      "source": [
        "y_train"
      ],
      "metadata": {
        "colab": {
          "base_uri": "https://localhost:8080/"
        },
        "id": "dZIi54ZHHM7A",
        "outputId": "47d852a2-1a48-4f90-d6d0-afef5db9c499"
      },
      "execution_count": 21,
      "outputs": [
        {
          "output_type": "execute_result",
          "data": {
            "text/plain": [
              "array([[0., 0., 1., 0., 0., 0.],\n",
              "       [0., 0., 1., 0., 0., 0.],\n",
              "       [0., 0., 0., 0., 0., 1.],\n",
              "       ...,\n",
              "       [0., 0., 0., 1., 0., 0.],\n",
              "       [0., 0., 0., 1., 0., 0.],\n",
              "       [0., 0., 0., 0., 1., 0.]])"
            ]
          },
          "metadata": {},
          "execution_count": 21
        }
      ]
    },
    {
      "cell_type": "code",
      "source": [
        "# our further customized model:\n",
        "modelc = Sequential()\n",
        "\n",
        "modelc.add(Conv2D(64, kernel_size=(3, 3), activation='relu', input_shape=(48, 48, 1), data_format='channels_last'))\n",
        "modelc.add(Conv2D(64, kernel_size=(3, 3), activation='relu', padding='same'))\n",
        "modelc.add(BatchNormalization())\n",
        "modelc.add(MaxPooling2D(pool_size=(2, 2), strides=(2, 2)))\n",
        "modelc.add(Dropout(0.6))\n",
        "\n",
        "modelc.add(Conv2D(2*64, kernel_size=(3, 3), activation='relu', padding='same'))\n",
        "modelc.add(BatchNormalization())\n",
        "modelc.add(Conv2D(2*64, kernel_size=(3, 3), activation='relu', padding='same'))\n",
        "modelc.add(BatchNormalization())\n",
        "modelc.add(Conv2D(2*64, kernel_size=(3, 3), activation='relu', padding='same'))\n",
        "modelc.add(BatchNormalization())\n",
        "modelc.add(MaxPooling2D(pool_size=(2, 2), strides=(2, 2)))\n",
        "modelc.add(Dropout(0.6))\n",
        "\n",
        "modelc.add(Conv2D(2*2*64, kernel_size=(3, 3), activation='relu', padding='same'))\n",
        "modelc.add(BatchNormalization())\n",
        "modelc.add(Conv2D(2*2*64, kernel_size=(3, 3), activation='relu', padding='same'))\n",
        "modelc.add(BatchNormalization())\n",
        "modelc.add(MaxPooling2D(pool_size=(2, 2), strides=(2, 2)))\n",
        "modelc.add(Dropout(0.5))\n",
        "\n",
        "modelc.add(Conv2D(2*2*2*64, kernel_size=(3, 3), activation='relu', padding='same'))\n",
        "modelc.add(BatchNormalization())\n",
        "modelc.add(Conv2D(2*2*2*64, kernel_size=(3, 3), activation='relu', padding='same'))\n",
        "modelc.add(BatchNormalization())\n",
        "modelc.add(MaxPooling2D(pool_size=(2, 2), strides=(2, 2)))\n",
        "modelc.add(Dropout(0.6))\n",
        "\n",
        "modelc.add(Flatten())\n",
        "\n",
        "modelc.add(Dense(2*2*2*64, activation='relu'))\n",
        "modelc.add(Dropout(0.4))\n",
        "modelc.add(Dense(2*2*64, activation='relu'))\n",
        "modelc.add(Dropout(0.4))\n",
        "modelc.add(Dense(2*64, activation='relu'))\n",
        "modelc.add(Dropout(0.5))\n",
        "\n",
        "modelc.add(Dense(6, activation='softmax')) # gives probability that the input is each of the 6 classes"
      ],
      "metadata": {
        "id": "UQpOcIHtLlw-"
      },
      "execution_count": 48,
      "outputs": []
    },
    {
      "cell_type": "code",
      "source": [
        "modelc.compile(optimizer = 'adam', loss = 'categorical_crossentropy',\n",
        "              metrics=['accuracy'])"
      ],
      "metadata": {
        "id": "2bX3eGPzbDv9"
      },
      "execution_count": 49,
      "outputs": []
    },
    {
      "cell_type": "code",
      "source": [
        "X_len = X_train.shape[0]\n"
      ],
      "metadata": {
        "id": "OUthZ_WR400L"
      },
      "execution_count": 50,
      "outputs": []
    },
    {
      "cell_type": "code",
      "execution_count": 51,
      "metadata": {
        "id": "DcH0d34ONmt4",
        "colab": {
          "base_uri": "https://localhost:8080/"
        },
        "outputId": "6c79febe-28fe-4667-b2a5-c8a1a49715e6"
      },
      "outputs": [
        {
          "output_type": "stream",
          "name": "stdout",
          "text": [
            "Epoch 1/100\n",
            "575/575 [==============================] - 32s 53ms/step - loss: 1.9036 - accuracy: 0.1855 - val_loss: 1.7742 - val_accuracy: 0.2502\n",
            "Epoch 2/100\n",
            "575/575 [==============================] - 30s 52ms/step - loss: 1.7737 - accuracy: 0.2086 - val_loss: 1.7953 - val_accuracy: 0.2529\n",
            "Epoch 3/100\n",
            "575/575 [==============================] - 29s 51ms/step - loss: 1.7074 - accuracy: 0.2674 - val_loss: 2.2090 - val_accuracy: 0.2526\n",
            "Epoch 4/100\n",
            "575/575 [==============================] - 30s 51ms/step - loss: 1.5975 - accuracy: 0.3368 - val_loss: 1.5144 - val_accuracy: 0.3862\n",
            "Epoch 5/100\n",
            "575/575 [==============================] - 29s 51ms/step - loss: 1.5125 - accuracy: 0.3728 - val_loss: 1.3607 - val_accuracy: 0.4494\n",
            "Epoch 6/100\n",
            "575/575 [==============================] - 29s 51ms/step - loss: 1.4507 - accuracy: 0.4017 - val_loss: 1.4886 - val_accuracy: 0.3900\n",
            "Epoch 7/100\n",
            "575/575 [==============================] - 30s 53ms/step - loss: 1.4089 - accuracy: 0.4261 - val_loss: 1.2979 - val_accuracy: 0.4865\n",
            "Epoch 8/100\n",
            "575/575 [==============================] - 29s 51ms/step - loss: 1.3670 - accuracy: 0.4512 - val_loss: 1.3387 - val_accuracy: 0.4861\n",
            "Epoch 9/100\n",
            "575/575 [==============================] - 29s 51ms/step - loss: 1.3372 - accuracy: 0.4716 - val_loss: 1.3391 - val_accuracy: 0.4624\n",
            "Epoch 10/100\n",
            "575/575 [==============================] - 30s 53ms/step - loss: 1.3111 - accuracy: 0.4785 - val_loss: 1.1722 - val_accuracy: 0.5462\n",
            "Epoch 11/100\n",
            "575/575 [==============================] - 31s 53ms/step - loss: 1.2808 - accuracy: 0.4934 - val_loss: 1.2073 - val_accuracy: 0.5151\n",
            "Epoch 12/100\n",
            "575/575 [==============================] - 29s 51ms/step - loss: 1.2621 - accuracy: 0.5031 - val_loss: 1.1850 - val_accuracy: 0.5519\n",
            "Epoch 13/100\n",
            "575/575 [==============================] - 29s 51ms/step - loss: 1.2392 - accuracy: 0.5172 - val_loss: 1.1016 - val_accuracy: 0.5737\n",
            "Epoch 14/100\n",
            "575/575 [==============================] - 29s 51ms/step - loss: 1.2239 - accuracy: 0.5231 - val_loss: 1.1771 - val_accuracy: 0.5524\n",
            "Epoch 15/100\n",
            "575/575 [==============================] - 29s 51ms/step - loss: 1.1962 - accuracy: 0.5381 - val_loss: 1.1762 - val_accuracy: 0.5432\n",
            "Epoch 16/100\n",
            "575/575 [==============================] - 29s 51ms/step - loss: 1.1799 - accuracy: 0.5458 - val_loss: 1.1045 - val_accuracy: 0.5756\n",
            "Epoch 17/100\n",
            "575/575 [==============================] - 30s 52ms/step - loss: 1.1571 - accuracy: 0.5554 - val_loss: 1.0975 - val_accuracy: 0.5768\n",
            "Epoch 18/100\n",
            "575/575 [==============================] - 31s 53ms/step - loss: 1.1392 - accuracy: 0.5651 - val_loss: 1.1023 - val_accuracy: 0.5827\n",
            "Epoch 19/100\n",
            "575/575 [==============================] - 29s 51ms/step - loss: 1.1285 - accuracy: 0.5678 - val_loss: 1.0525 - val_accuracy: 0.6021\n",
            "Epoch 20/100\n",
            "575/575 [==============================] - 29s 51ms/step - loss: 1.1100 - accuracy: 0.5774 - val_loss: 1.1992 - val_accuracy: 0.5335\n",
            "Epoch 21/100\n",
            "575/575 [==============================] - 29s 51ms/step - loss: 1.0910 - accuracy: 0.5845 - val_loss: 1.0793 - val_accuracy: 0.5891\n",
            "Epoch 22/100\n",
            "575/575 [==============================] - 30s 52ms/step - loss: 1.0756 - accuracy: 0.5978 - val_loss: 1.0397 - val_accuracy: 0.6177\n",
            "Epoch 23/100\n",
            "575/575 [==============================] - 29s 51ms/step - loss: 1.0614 - accuracy: 0.5979 - val_loss: 1.0108 - val_accuracy: 0.6167\n",
            "Epoch 24/100\n",
            "575/575 [==============================] - 29s 51ms/step - loss: 1.0488 - accuracy: 0.6053 - val_loss: 1.0516 - val_accuracy: 0.6133\n",
            "Epoch 25/100\n",
            "575/575 [==============================] - 29s 51ms/step - loss: 1.0325 - accuracy: 0.6133 - val_loss: 1.0129 - val_accuracy: 0.6154\n",
            "Epoch 26/100\n",
            "575/575 [==============================] - 29s 51ms/step - loss: 1.0157 - accuracy: 0.6188 - val_loss: 1.0495 - val_accuracy: 0.6041\n",
            "Epoch 27/100\n",
            "575/575 [==============================] - 30s 52ms/step - loss: 1.0084 - accuracy: 0.6219 - val_loss: 1.0066 - val_accuracy: 0.6219\n",
            "Epoch 28/100\n",
            "575/575 [==============================] - 29s 51ms/step - loss: 0.9871 - accuracy: 0.6293 - val_loss: 1.0311 - val_accuracy: 0.6182\n",
            "Epoch 29/100\n",
            "575/575 [==============================] - 29s 51ms/step - loss: 0.9801 - accuracy: 0.6343 - val_loss: 0.9940 - val_accuracy: 0.6276\n",
            "Epoch 30/100\n",
            "575/575 [==============================] - 29s 51ms/step - loss: 0.9713 - accuracy: 0.6366 - val_loss: 0.9875 - val_accuracy: 0.6369\n",
            "Epoch 31/100\n",
            "575/575 [==============================] - 29s 51ms/step - loss: 0.9559 - accuracy: 0.6449 - val_loss: 0.9882 - val_accuracy: 0.6370\n",
            "Epoch 32/100\n",
            "575/575 [==============================] - 30s 52ms/step - loss: 0.9415 - accuracy: 0.6486 - val_loss: 0.9927 - val_accuracy: 0.6341\n",
            "Epoch 33/100\n",
            "575/575 [==============================] - 29s 51ms/step - loss: 0.9341 - accuracy: 0.6512 - val_loss: 0.9855 - val_accuracy: 0.6375\n",
            "Epoch 34/100\n",
            "575/575 [==============================] - 29s 51ms/step - loss: 0.9228 - accuracy: 0.6561 - val_loss: 0.9740 - val_accuracy: 0.6440\n",
            "Epoch 35/100\n",
            "575/575 [==============================] - 30s 53ms/step - loss: 0.9051 - accuracy: 0.6621 - val_loss: 0.9985 - val_accuracy: 0.6336\n",
            "Epoch 36/100\n",
            "575/575 [==============================] - 29s 51ms/step - loss: 0.9030 - accuracy: 0.6623 - val_loss: 0.9956 - val_accuracy: 0.6386\n",
            "Epoch 37/100\n",
            "575/575 [==============================] - 30s 52ms/step - loss: 0.8888 - accuracy: 0.6692 - val_loss: 0.9948 - val_accuracy: 0.6387\n",
            "Epoch 38/100\n",
            "575/575 [==============================] - 31s 53ms/step - loss: 0.8782 - accuracy: 0.6729 - val_loss: 0.9772 - val_accuracy: 0.6424\n",
            "Epoch 39/100\n",
            "575/575 [==============================] - 29s 51ms/step - loss: 0.8682 - accuracy: 0.6777 - val_loss: 0.9861 - val_accuracy: 0.6397\n",
            "Epoch 40/100\n",
            "575/575 [==============================] - 30s 53ms/step - loss: 0.8627 - accuracy: 0.6786 - val_loss: 1.0331 - val_accuracy: 0.6372\n",
            "Epoch 41/100\n",
            "575/575 [==============================] - 29s 51ms/step - loss: 0.8492 - accuracy: 0.6864 - val_loss: 0.9957 - val_accuracy: 0.6434\n",
            "Epoch 42/100\n",
            "575/575 [==============================] - 29s 51ms/step - loss: 0.8401 - accuracy: 0.6908 - val_loss: 1.0006 - val_accuracy: 0.6470\n",
            "Epoch 43/100\n",
            "575/575 [==============================] - 30s 53ms/step - loss: 0.8305 - accuracy: 0.6906 - val_loss: 1.0256 - val_accuracy: 0.6328\n",
            "Epoch 44/100\n",
            "575/575 [==============================] - 29s 51ms/step - loss: 0.8169 - accuracy: 0.6994 - val_loss: 1.0163 - val_accuracy: 0.6407\n",
            "Epoch 45/100\n",
            "575/575 [==============================] - 29s 51ms/step - loss: 0.8089 - accuracy: 0.7007 - val_loss: 1.0040 - val_accuracy: 0.6462\n",
            "Epoch 46/100\n",
            "575/575 [==============================] - 29s 51ms/step - loss: 0.8080 - accuracy: 0.7035 - val_loss: 1.0088 - val_accuracy: 0.6520\n",
            "Epoch 47/100\n",
            "575/575 [==============================] - 29s 51ms/step - loss: 0.8030 - accuracy: 0.7029 - val_loss: 0.9990 - val_accuracy: 0.6509\n",
            "Epoch 48/100\n",
            "575/575 [==============================] - 29s 51ms/step - loss: 0.7890 - accuracy: 0.7102 - val_loss: 1.0105 - val_accuracy: 0.6474\n",
            "Epoch 49/100\n",
            "575/575 [==============================] - 29s 51ms/step - loss: 0.7753 - accuracy: 0.7167 - val_loss: 0.9957 - val_accuracy: 0.6409\n",
            "Epoch 50/100\n",
            "575/575 [==============================] - 29s 51ms/step - loss: 0.7695 - accuracy: 0.7177 - val_loss: 1.0085 - val_accuracy: 0.6495\n",
            "Epoch 51/100\n",
            "575/575 [==============================] - 29s 51ms/step - loss: 0.7662 - accuracy: 0.7199 - val_loss: 1.0450 - val_accuracy: 0.6438\n",
            "Epoch 52/100\n",
            "575/575 [==============================] - 29s 51ms/step - loss: 0.7609 - accuracy: 0.7227 - val_loss: 1.0096 - val_accuracy: 0.6486\n",
            "Epoch 53/100\n",
            "575/575 [==============================] - 29s 51ms/step - loss: 0.7497 - accuracy: 0.7277 - val_loss: 1.0172 - val_accuracy: 0.6491\n",
            "Epoch 54/100\n",
            "575/575 [==============================] - 29s 51ms/step - loss: 0.7375 - accuracy: 0.7300 - val_loss: 1.0202 - val_accuracy: 0.6451\n",
            "Epoch 55/100\n",
            "575/575 [==============================] - 29s 51ms/step - loss: 0.7258 - accuracy: 0.7325 - val_loss: 1.0049 - val_accuracy: 0.6550\n",
            "Epoch 56/100\n",
            "575/575 [==============================] - 30s 51ms/step - loss: 0.7195 - accuracy: 0.7386 - val_loss: 1.0121 - val_accuracy: 0.6576\n",
            "Epoch 57/100\n",
            "575/575 [==============================] - 31s 53ms/step - loss: 0.7025 - accuracy: 0.7450 - val_loss: 1.0544 - val_accuracy: 0.6426\n",
            "Epoch 58/100\n",
            "575/575 [==============================] - 29s 51ms/step - loss: 0.7069 - accuracy: 0.7474 - val_loss: 1.0479 - val_accuracy: 0.6430\n",
            "Epoch 59/100\n",
            "575/575 [==============================] - 29s 51ms/step - loss: 0.6928 - accuracy: 0.7471 - val_loss: 1.0436 - val_accuracy: 0.6561\n",
            "Epoch 60/100\n",
            "575/575 [==============================] - 30s 53ms/step - loss: 0.6908 - accuracy: 0.7499 - val_loss: 1.0169 - val_accuracy: 0.6495\n",
            "Epoch 61/100\n",
            "575/575 [==============================] - 29s 51ms/step - loss: 0.6825 - accuracy: 0.7535 - val_loss: 1.0494 - val_accuracy: 0.6443\n",
            "Epoch 62/100\n",
            "575/575 [==============================] - 30s 53ms/step - loss: 0.6752 - accuracy: 0.7576 - val_loss: 1.0289 - val_accuracy: 0.6535\n",
            "Epoch 63/100\n",
            "575/575 [==============================] - 29s 51ms/step - loss: 0.6572 - accuracy: 0.7627 - val_loss: 1.0306 - val_accuracy: 0.6569\n",
            "Epoch 64/100\n",
            "575/575 [==============================] - 30s 53ms/step - loss: 0.6627 - accuracy: 0.7618 - val_loss: 1.0203 - val_accuracy: 0.6617\n",
            "Epoch 65/100\n",
            "575/575 [==============================] - 30s 53ms/step - loss: 0.6536 - accuracy: 0.7660 - val_loss: 1.0252 - val_accuracy: 0.6601\n",
            "Epoch 66/100\n",
            "575/575 [==============================] - 29s 51ms/step - loss: 0.6405 - accuracy: 0.7685 - val_loss: 1.0290 - val_accuracy: 0.6573\n",
            "Epoch 67/100\n",
            "575/575 [==============================] - 29s 51ms/step - loss: 0.6360 - accuracy: 0.7727 - val_loss: 1.0439 - val_accuracy: 0.6617\n",
            "Epoch 68/100\n",
            "575/575 [==============================] - 30s 53ms/step - loss: 0.6337 - accuracy: 0.7746 - val_loss: 1.0576 - val_accuracy: 0.6641\n",
            "Epoch 69/100\n",
            "575/575 [==============================] - 30s 53ms/step - loss: 0.6197 - accuracy: 0.7806 - val_loss: 1.0785 - val_accuracy: 0.6577\n",
            "Epoch 70/100\n",
            "575/575 [==============================] - 29s 51ms/step - loss: 0.6211 - accuracy: 0.7808 - val_loss: 1.0516 - val_accuracy: 0.6598\n",
            "Epoch 71/100\n",
            "575/575 [==============================] - 29s 51ms/step - loss: 0.6108 - accuracy: 0.7822 - val_loss: 1.1039 - val_accuracy: 0.6595\n",
            "Epoch 72/100\n",
            "575/575 [==============================] - 30s 53ms/step - loss: 0.6023 - accuracy: 0.7871 - val_loss: 1.1057 - val_accuracy: 0.6615\n",
            "Epoch 73/100\n",
            "575/575 [==============================] - 31s 53ms/step - loss: 0.5917 - accuracy: 0.7901 - val_loss: 1.1095 - val_accuracy: 0.6506\n",
            "Epoch 74/100\n",
            "575/575 [==============================] - 29s 51ms/step - loss: 0.5928 - accuracy: 0.7889 - val_loss: 1.0954 - val_accuracy: 0.6594\n",
            "Epoch 75/100\n",
            "575/575 [==============================] - 29s 51ms/step - loss: 0.5869 - accuracy: 0.7916 - val_loss: 1.0450 - val_accuracy: 0.6612\n",
            "Epoch 76/100\n",
            "575/575 [==============================] - 30s 53ms/step - loss: 0.5742 - accuracy: 0.7963 - val_loss: 1.0998 - val_accuracy: 0.6567\n",
            "Epoch 77/100\n",
            "575/575 [==============================] - 30s 53ms/step - loss: 0.5706 - accuracy: 0.7968 - val_loss: 1.0630 - val_accuracy: 0.6631\n",
            "Epoch 78/100\n",
            "575/575 [==============================] - 30s 53ms/step - loss: 0.5593 - accuracy: 0.8042 - val_loss: 1.0992 - val_accuracy: 0.6624\n",
            "Epoch 79/100\n",
            "575/575 [==============================] - 29s 51ms/step - loss: 0.5571 - accuracy: 0.8022 - val_loss: 1.1639 - val_accuracy: 0.6537\n",
            "Epoch 80/100\n",
            "575/575 [==============================] - 30s 51ms/step - loss: 0.5522 - accuracy: 0.8064 - val_loss: 1.0629 - val_accuracy: 0.6642\n",
            "Epoch 81/100\n",
            "575/575 [==============================] - 29s 51ms/step - loss: 0.5423 - accuracy: 0.8098 - val_loss: 1.1078 - val_accuracy: 0.6628\n",
            "Epoch 82/100\n",
            "575/575 [==============================] - 30s 53ms/step - loss: 0.5447 - accuracy: 0.8072 - val_loss: 1.1195 - val_accuracy: 0.6645\n",
            "Epoch 83/100\n",
            "575/575 [==============================] - 29s 51ms/step - loss: 0.5339 - accuracy: 0.8131 - val_loss: 1.1378 - val_accuracy: 0.6570\n",
            "Epoch 84/100\n",
            "575/575 [==============================] - 29s 51ms/step - loss: 0.5294 - accuracy: 0.8170 - val_loss: 1.1339 - val_accuracy: 0.6595\n",
            "Epoch 85/100\n",
            "575/575 [==============================] - 29s 51ms/step - loss: 0.5186 - accuracy: 0.8194 - val_loss: 1.2091 - val_accuracy: 0.6542\n",
            "Epoch 86/100\n",
            "575/575 [==============================] - 29s 51ms/step - loss: 0.5219 - accuracy: 0.8189 - val_loss: 1.1107 - val_accuracy: 0.6686\n",
            "Epoch 87/100\n",
            "575/575 [==============================] - 30s 53ms/step - loss: 0.5165 - accuracy: 0.8205 - val_loss: 1.1509 - val_accuracy: 0.6578\n",
            "Epoch 88/100\n",
            "575/575 [==============================] - 31s 53ms/step - loss: 0.5029 - accuracy: 0.8234 - val_loss: 1.1193 - val_accuracy: 0.6621\n",
            "Epoch 89/100\n",
            "575/575 [==============================] - 30s 53ms/step - loss: 0.5052 - accuracy: 0.8270 - val_loss: 1.1622 - val_accuracy: 0.6631\n",
            "Epoch 90/100\n",
            "575/575 [==============================] - 29s 51ms/step - loss: 0.5005 - accuracy: 0.8247 - val_loss: 1.1647 - val_accuracy: 0.6607\n",
            "Epoch 91/100\n",
            "575/575 [==============================] - 29s 51ms/step - loss: 0.4898 - accuracy: 0.8306 - val_loss: 1.1344 - val_accuracy: 0.6571\n",
            "Epoch 92/100\n",
            "575/575 [==============================] - 29s 51ms/step - loss: 0.4898 - accuracy: 0.8333 - val_loss: 1.1701 - val_accuracy: 0.6661\n",
            "Epoch 93/100\n",
            "575/575 [==============================] - 30s 53ms/step - loss: 0.4823 - accuracy: 0.8332 - val_loss: 1.1462 - val_accuracy: 0.6665\n",
            "Epoch 94/100\n",
            "575/575 [==============================] - 30s 51ms/step - loss: 0.4742 - accuracy: 0.8378 - val_loss: 1.1350 - val_accuracy: 0.6656\n",
            "Epoch 95/100\n",
            "575/575 [==============================] - 30s 52ms/step - loss: 0.4752 - accuracy: 0.8339 - val_loss: 1.1684 - val_accuracy: 0.6642\n",
            "Epoch 96/100\n",
            "575/575 [==============================] - 30s 52ms/step - loss: 0.4647 - accuracy: 0.8428 - val_loss: 1.1627 - val_accuracy: 0.6678\n",
            "Epoch 97/100\n",
            "575/575 [==============================] - 30s 53ms/step - loss: 0.4619 - accuracy: 0.8404 - val_loss: 1.2250 - val_accuracy: 0.6627\n",
            "Epoch 98/100\n",
            "575/575 [==============================] - 31s 53ms/step - loss: 0.4607 - accuracy: 0.8430 - val_loss: 1.2191 - val_accuracy: 0.6566\n",
            "Epoch 99/100\n",
            "575/575 [==============================] - 30s 51ms/step - loss: 0.4565 - accuracy: 0.8462 - val_loss: 1.1512 - val_accuracy: 0.6574\n",
            "Epoch 100/100\n",
            "575/575 [==============================] - 30s 51ms/step - loss: 0.4508 - accuracy: 0.8464 - val_loss: 1.2081 - val_accuracy: 0.6554\n"
          ]
        }
      ],
      "source": [
        "historyc = modelc.fit(X_train, y_train, epochs=100, batch_size = 64, steps_per_epoch = X_len/64, validation_data=(X_test, y_test), workers=16)"
      ]
    },
    {
      "cell_type": "code",
      "source": [
        "# save model to Google Drive\n",
        "from google.colab import drive\n",
        "drive.mount('/content/drive')\n",
        "\n",
        "modelc.save('/content/drive/MyDrive/ECS171/CNN_final')"
      ],
      "metadata": {
        "id": "SOhRRPIwbnN_",
        "colab": {
          "base_uri": "https://localhost:8080/"
        },
        "outputId": "99d4ac40-0d2f-4408-b3a5-2735abbe8ab7"
      },
      "execution_count": 52,
      "outputs": [
        {
          "output_type": "stream",
          "name": "stdout",
          "text": [
            "Mounted at /content/drive\n"
          ]
        },
        {
          "output_type": "stream",
          "name": "stderr",
          "text": [
            "WARNING:absl:Found untraced functions such as _jit_compiled_convolution_op, _jit_compiled_convolution_op, _jit_compiled_convolution_op, _jit_compiled_convolution_op, _jit_compiled_convolution_op while saving (showing 5 of 9). These functions will not be directly callable after loading.\n"
          ]
        }
      ]
    },
    {
      "cell_type": "code",
      "source": [
        "test_loss, test_acc = modelc.evaluate(X_test,  y_test, verbose=2)\n",
        "print(test_acc)"
      ],
      "metadata": {
        "colab": {
          "base_uri": "https://localhost:8080/"
        },
        "id": "tIhsEe8EpcVg",
        "outputId": "f518b74f-5129-4b21-8252-a3e4bce466d8"
      },
      "execution_count": 53,
      "outputs": [
        {
          "output_type": "stream",
          "name": "stdout",
          "text": [
            "221/221 - 2s - loss: 1.2081 - accuracy: 0.6554 - 2s/epoch - 10ms/step\n",
            "0.6554408073425293\n"
          ]
        }
      ]
    },
    {
      "cell_type": "code",
      "source": [
        "plt.plot(historyc.history['accuracy'], label='accuracy')\n",
        "plt.plot(historyc.history['val_accuracy'], label = 'val_accuracy')\n",
        "plt.xlabel('Epoch')\n",
        "plt.ylabel('Accuracy')\n",
        "plt.legend(loc='lower right')\n"
      ],
      "metadata": {
        "id": "kEEhAx3MbNdY",
        "colab": {
          "base_uri": "https://localhost:8080/",
          "height": 297
        },
        "outputId": "94fdf1d6-b9bf-4f79-8f9a-3d799778d659"
      },
      "execution_count": 54,
      "outputs": [
        {
          "output_type": "execute_result",
          "data": {
            "text/plain": [
              "<matplotlib.legend.Legend at 0x7f38d65ff160>"
            ]
          },
          "metadata": {},
          "execution_count": 54
        },
        {
          "output_type": "display_data",
          "data": {
            "text/plain": [
              "<Figure size 432x288 with 1 Axes>"
            ],
            "image/png": "[encoded data removed]"
          },
          "metadata": {
            "needs_background": "light"
          }
        }
      ]
    },
    {
      "cell_type": "code",
      "source": [
        "plt.plot(historyc.history['loss'], label='loss')\n",
        "plt.plot(historyc.history['val_loss'], label = 'val_loss')\n",
        "plt.xlabel('Epoch')\n",
        "plt.ylabel('Loss')\n",
        "plt.legend(loc='upper right')"
      ],
      "metadata": {
        "colab": {
          "base_uri": "https://localhost:8080/",
          "height": 297
        },
        "id": "HOqzvfUxredk",
        "outputId": "d82b9500-ca9b-4ad0-d33b-6b3e1a36a13b"
      },
      "execution_count": 55,
      "outputs": [
        {
          "output_type": "execute_result",
          "data": {
            "text/plain": [
              "<matplotlib.legend.Legend at 0x7f39301ae2b0>"
            ]
          },
          "metadata": {},
          "execution_count": 55
        },
        {
          "output_type": "display_data",
          "data": {
            "text/plain": [
              "<Figure size 432x288 with 1 Axes>"
            ],
            "image/png": "[encoded data removed]"
          },
          "metadata": {
            "needs_background": "light"
          }
        }
      ]
    },
    {
      "cell_type": "markdown",
      "metadata": {
        "id": "l4rNRD31MqQ8"
      },
      "source": [
        "#Sources"
      ]
    },
    {
      "cell_type": "markdown",
      "metadata": {
        "id": "tOK0Kj79CpIy"
      },
      "source": [
        "https://www.kaggle.com/code/basel99/facial-recognition"
      ]
    },
    {
      "cell_type": "markdown",
      "metadata": {
        "id": "iZD32M-LKmG-"
      },
      "source": [
        "https://www.tensorflow.org/tutorials/images/cnn"
      ]
    },
    {
      "cell_type": "markdown",
      "metadata": {
        "id": "zB8jXAvKKoZW"
      },
      "source": [
        "https://medium.com/themlblog/how-to-do-facial-emotion-recognition-using-a-cnn-b7bbae79cd8f"
      ]
    },
    {
      "cell_type": "markdown",
      "source": [
        "https://stackoverflow.com/questions/55776436/keras-cnn-model-is-not-learning\n"
      ],
      "metadata": {
        "id": "KoRO-BaSY89A"
      }
    },
    {
      "cell_type": "markdown",
      "metadata": {
        "id": "36sle8dOKrIU"
      },
      "source": [
        "https://medium.com/@ml_kid/how-to-save-our-model-to-google-drive-and-reuse-it-2c1028058cb2"
      ]
    }
  ],
  "metadata": {
    "colab": {
      "provenance": [],
      "include_colab_link": true
    },
    "gpuClass": "standard",
    "kernelspec": {
      "display_name": "Python 3",
      "name": "python3"
    },
    "language_info": {
      "name": "python"
    },
    "accelerator": "GPU"
  },
  "nbformat": 4,
  "nbformat_minor": 0
}