{
  "nbformat": 4,
  "nbformat_minor": 0,
  "metadata": {
    "colab": {
      "provenance": [],
      "authorship_tag": "ABX9TyOPIl4zsOf7nbRaUUrw2qTZ",
      "include_colab_link": true
    },
    "kernelspec": {
      "name": "python3",
      "display_name": "Python 3"
    },
    "language_info": {
      "name": "python"
    }
  },
  "cells": [
    {
      "cell_type": "markdown",
      "metadata": {
        "id": "view-in-github",
        "colab_type": "text"
      },
      "source": [
        "<a href=\"https://colab.research.google.com/github/Jade-P/MLGroupProject/blob/Angry--Arandi/Live_Feed_Face_Detection.ipynb\" target=\"_parent\"><img src=\"https://colab.research.google.com/assets/colab-badge.svg\" alt=\"Open In Colab\"/></a>"
      ]
    },
    {
      "cell_type": "markdown",
      "source": [
        "# Video Capture"
      ],
      "metadata": {
        "id": "pp8hNUwxnc4V"
      }
    },
    {
      "cell_type": "markdown",
      "source": [
        "This code will only work on jupyter notebook because google colab does not have the capacity to run a live feed and apply an algorithm. "
      ],
      "metadata": {
        "id": "I9sBt91gm4_g"
      }
    },
    {
      "cell_type": "markdown",
      "source": [
        "**Download modelc.h5 and haarcascade_frontalface_default.xml locally then add path to each file when prompted.**"
      ],
      "metadata": {
        "id": "QugPmH4Gq-71"
      }
    },
    {
      "cell_type": "code",
      "source": [
        "#importing necessary packages\n",
        "import cv2\n",
        "import numpy as np\n",
        "\n",
        "\n",
        "\n",
        "#Use the following data if you have the model in the same file\n",
        "#from tensorflow.keras.utils import img_to_array\n",
        "\n",
        "#Use this if you are loading the model into notebook \n",
        "from tensorflow.keras.preprocessing.image import img_to_array\n",
        "\n",
        "\n",
        "#Naming Window\n",
        "cv2.namedWindow(\"Face Detect\")\n",
        "\n",
        "#Load Model function\n",
        "from tensorflow.keras.models import load_model\n",
        "\n",
        "\n",
        "\n",
        "#apply path of modelc FOUND IN GITHUB REPOSITORY, DOWNLOAD LOCALLY\n",
        "path = \"/modelc.h5\"\n",
        "model = load_model(path)"
      ],
      "metadata": {
        "id": "jk8z5GAV9ZGC"
      },
      "execution_count": null,
      "outputs": []
    },
    {
      "cell_type": "code",
      "source": [
        "#This will help ensure that you have the corect model \n",
        "model.summary()"
      ],
      "metadata": {
        "id": "ZVIYn_5wl-pa"
      },
      "execution_count": null,
      "outputs": []
    },
    {
      "cell_type": "code",
      "source": [
        "#intializing Classifier \n",
        "\n",
        "#apply path of haarcascade_frontalface_default.xml FOUND IN GITHUB REPOSITORY, DOWNLOAD LOCALLY\n",
        "path_ ='/haarcascade_frontalface_default.xml'\n",
        "face_cascade = cv2.CascadeClassifier(path_)"
      ],
      "metadata": {
        "id": "vQRJV3qgmBhZ"
      },
      "execution_count": null,
      "outputs": []
    },
    {
      "cell_type": "code",
      "source": [
        "#Labels for the square to output\n",
        "emotion_labels = ['Angry', 'Fear', 'Happy', 'Neutral', 'Sad', 'Suprise']\n",
        "\n",
        "#This is initializing the video capture\n",
        "# '0' is getting the videocapture from your local machine \n",
        "cap = cv2.VideoCapture(0)\n",
        "\n",
        "while(True):\n",
        "    #this is getting each frame\n",
        "    ret,frame = cap.read()\n",
        "    labels = []\n",
        "    #converting to gray scale \n",
        "    gray = cv2.cvtColor(frame, cv2.COLOR_BGR2GRAY)\n",
        "    #finding the faces from the classifier \n",
        "    faces =face_cascade.detectMultiScale(gray, 1.1, 4)\n",
        "    #the following will apply to a found face \n",
        "    for (x,y,w,h) in faces:\n",
        "        #preprocessing data\n",
        "        color = (0, 255, 0)# this is BGR\n",
        "        stroke = 2 #how thick the line is \n",
        "        cv2.rectangle(frame, (x,y),(x+w, y+h), color , stroke) #draws the rectangle\n",
        "        roi_gray = gray[y:y+h, x:x+w] #getting cordinates of faces\n",
        "        roi_gray = cv2.resize(roi_gray, (48,48), interpolation = cv2.INTER_AREA) #converting becasue the model needs a 48x48 image\n",
        "        \n",
        "        #recognize --- add Deep Learning model \n",
        "        if np.sum([roi_gray])!= 0: #insuring that a face is there\n",
        "            roi = roi_gray.astype('float')/255.0  \n",
        "            roi = img_to_array(roi)\n",
        "            roi = np.expand_dims(roi, axis=0)\n",
        "            \n",
        "            #adding model\n",
        "            classifier = model\n",
        "            prediction = classifier.predict(roi)[0] #applying model\n",
        "            label = emotion_labels[prediction.argmax()] #labeling model \n",
        "            label_pos = (x,y-10) #where the label will be \n",
        "            cv2.putText(frame, label, label_pos, cv2.FONT_HERSHEY_SIMPLEX,1,(0,0,255),stroke) #outputting labels to model\n",
        "        else:\n",
        "            #If no face is there\n",
        "            cv2.putText(frame, \"Can't Detect Emotion\", (30,80), cv2.FONT_HERSHEY_SIMPLEX,1,(0,0,255),stroke)\n",
        "    #Shows the found lables and frame \n",
        "    cv2.imshow('Emotion Detector', frame)\n",
        "    #displays the resulting frame, and when user presses 'q' the feed will end\n",
        "    if cv2.waitKey(1) & 0xFF == ord('q'):\n",
        "        break\n",
        "#Ending capture\n",
        "cap.release\n",
        "cv2.destroyAllWindows()\n",
        "exit()"
      ],
      "metadata": {
        "id": "UhD0-V86mDn6"
      },
      "execution_count": null,
      "outputs": []
    }
  ]
}