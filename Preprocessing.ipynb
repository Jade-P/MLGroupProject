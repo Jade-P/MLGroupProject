{
  "nbformat": 4,
  "nbformat_minor": 0,
  "metadata": {
    "colab": {
      "provenance": [],
      "include_colab_link": true
    },
    "kernelspec": {
      "name": "python3",
      "display_name": "Python 3"
    },
    "language_info": {
      "name": "python"
    }
  },
  "cells": [
    {
      "cell_type": "markdown",
      "metadata": {
        "id": "view-in-github",
        "colab_type": "text"
      },
      "source": [
        "<a href=\"https://colab.research.google.com/github/Jade-P/MLGroupProject/blob/Happy--Sohyun/Preprocessing.ipynb\" target=\"_parent\"><img src=\"https://colab.research.google.com/assets/colab-badge.svg\" alt=\"Open In Colab\"/></a>"
      ]
    },
    {
      "cell_type": "markdown",
      "source": [
        "##Environment & path Setup "
      ],
      "metadata": {
        "id": "3AtkE_CfNT2W"
      }
    },
    {
      "cell_type": "markdown",
      "source": [
        "Add our shared drive (ECS 171) as shortcut to MyDrive by right-clicking on ECS171 in Google Drive and clicking on Add Shortcut to Drive"
      ],
      "metadata": {
        "id": "qkkHviZ7x4ah"
      }
    },
    {
      "cell_type": "code",
      "source": [
        "from google.colab import drive\n",
        "drive.mount('/content/drive')"
      ],
      "metadata": {
        "colab": {
          "base_uri": "https://localhost:8080/"
        },
        "id": "ril1tJEgNVx6",
        "outputId": "d96c2bc0-45bf-43b4-e56b-7e9e3685ce6f"
      },
      "execution_count": null,
      "outputs": [
        {
          "output_type": "stream",
          "name": "stdout",
          "text": [
            "Mounted at /content/drive\n"
          ]
        }
      ]
    },
    {
      "cell_type": "markdown",
      "source": [
        "Check current directory"
      ],
      "metadata": {
        "id": "Eeh8DLhXNdeC"
      }
    },
    {
      "cell_type": "code",
      "source": [
        "pwd"
      ],
      "metadata": {
        "colab": {
          "base_uri": "https://localhost:8080/",
          "height": 35
        },
        "id": "_L7XuFl4NeVq",
        "outputId": "b385b8f6-fa87-4cec-e067-633dd9487991"
      },
      "execution_count": null,
      "outputs": [
        {
          "output_type": "execute_result",
          "data": {
            "text/plain": [
              "'/content'"
            ],
            "application/vnd.google.colaboratory.intrinsic+json": {
              "type": "string"
            }
          },
          "metadata": {},
          "execution_count": 2
        }
      ]
    },
    {
      "cell_type": "markdown",
      "source": [
        "Change directory"
      ],
      "metadata": {
        "id": "2-yhu6GANfob"
      }
    },
    {
      "cell_type": "code",
      "source": [
        "%cd '/content/drive/MyDrive/ECS171/emotionDataSet'"
      ],
      "metadata": {
        "colab": {
          "base_uri": "https://localhost:8080/"
        },
        "id": "UYSeTv0LNgv8",
        "outputId": "c890093b-309f-429f-9e7c-ba41ddac7da8"
      },
      "execution_count": null,
      "outputs": [
        {
          "output_type": "stream",
          "name": "stdout",
          "text": [
            "/content/drive/.shortcut-targets-by-id/1Z5iKjOa4METq6Gspzm97KWYkNG2sG5Wo/ECS171/emotionDataSet\n"
          ]
        }
      ]
    },
    {
      "cell_type": "code",
      "source": [
        "pwd"
      ],
      "metadata": {
        "colab": {
          "base_uri": "https://localhost:8080/",
          "height": 35
        },
        "id": "30Khv7chNjE8",
        "outputId": "1c461826-9cba-4e08-cc67-e1ec9aed637b"
      },
      "execution_count": null,
      "outputs": [
        {
          "output_type": "execute_result",
          "data": {
            "text/plain": [
              "'/content/drive/.shortcut-targets-by-id/1Z5iKjOa4METq6Gspzm97KWYkNG2sG5Wo/ECS171/emotionDataSet'"
            ],
            "application/vnd.google.colaboratory.intrinsic+json": {
              "type": "string"
            }
          },
          "metadata": {},
          "execution_count": 4
        }
      ]
    },
    {
      "cell_type": "markdown",
      "source": [
        "##Load Data"
      ],
      "metadata": {
        "id": "mdQ0gEw6Nl11"
      }
    },
    {
      "cell_type": "code",
      "source": [
        "import numpy as np \n",
        "from tqdm import tqdm\n",
        "import cv2\n",
        "import os\n",
        "import tensorflow as tf\n",
        "import tensorflow_hub as hub\n",
        "import matplotlib.pyplot as plt\n",
        "from sklearn.preprocessing import LabelBinarizer\n",
        "from sklearn.model_selection import train_test_split\n",
        "from sklearn.metrics import accuracy_score, confusion_matrix\n",
        "import itertools\n",
        "import plotly.graph_objs as go\n",
        "from plotly.offline import init_notebook_mode, iplot\n",
        "from plotly import tools\n",
        "from keras.layers import Dense, Dropout, Flatten, Conv2D, MaxPool2D\n",
        "from keras.preprocessing.image import ImageDataGenerator\n",
        "from keras.applications.vgg16 import VGG16, preprocess_input\n",
        "from keras import layers\n",
        "from keras.models import Model, Sequential\n",
        "from keras.optimizers import Adam, RMSprop\n",
        "from keras.callbacks import EarlyStopping\n",
        "from keras.preprocessing.image import ImageDataGenerator\n",
        "init_notebook_mode(connected=True)\n",
        "RANDOM_SEED = 123"
      ],
      "metadata": {
        "colab": {
          "base_uri": "https://localhost:8080/",
          "height": 17
        },
        "id": "Psc5V2PqNnS1",
        "outputId": "48a54355-10a5-49ee-8a2d-456551022ceb"
      },
      "execution_count": null,
      "outputs": [
        {
          "output_type": "display_data",
          "data": {
            "text/html": [
              "        <script type=\"text/javascript\">\n",
              "        window.PlotlyConfig = {MathJaxConfig: 'local'};\n",
              "        if (window.MathJax) {MathJax.Hub.Config({SVG: {font: \"STIX-Web\"}});}\n",
              "        if (typeof require !== 'undefined') {\n",
              "        require.undef(\"plotly\");\n",
              "        requirejs.config({\n",
              "            paths: {\n",
              "                'plotly': ['https://cdn.plot.ly/plotly-2.8.3.min']\n",
              "            }\n",
              "        });\n",
              "        require(['plotly'], function(Plotly) {\n",
              "            window._Plotly = Plotly;\n",
              "        });\n",
              "        }\n",
              "        </script>\n",
              "        "
            ]
          },
          "metadata": {}
        }
      ]
    },
    {
      "cell_type": "code",
      "source": [
        "TRAIN_DIR = ('Training/Training/')\n",
        "TEST_DIR = ('Testing/Testing/')"
      ],
      "metadata": {
        "id": "VH3eF_bbNo7L"
      },
      "execution_count": null,
      "outputs": []
    },
    {
      "cell_type": "code",
      "source": [
        "emotions = ['Angry', 'Fear', 'Happy', 'Neutral', 'Sad', 'Suprise']"
      ],
      "metadata": {
        "id": "scUM63m_NqL7"
      },
      "execution_count": null,
      "outputs": []
    },
    {
      "cell_type": "code",
      "source": [
        "def load_data(dir_path, IMG_SIZE):\n",
        "   \n",
        "    X = []\n",
        "    y = []\n",
        "    i = 0\n",
        "    labels = dict()\n",
        "    for path in tqdm(sorted(emotions)):\n",
        "        if not path.startswith('.'):\n",
        "            labels[i] = path\n",
        "            for file in os.listdir(dir_path + path):\n",
        "                if not file.startswith('.'):\n",
        "                    img = cv2.imread(dir_path + path + '/' + file)\n",
        "                    img = img.astype('float32') / 255\n",
        "                    resized = cv2.resize(img, IMG_SIZE, interpolation = cv2.INTER_AREA)\n",
        "                    X.append(resized)\n",
        "                    y.append(i)\n",
        "            i += 1\n",
        "    X = np.array(X)\n",
        "    y = np.array(y)\n",
        "    print(f'{len(X)} images loaded from {dir_path} directory.')\n",
        "    return X, y, labels"
      ],
      "metadata": {
        "id": "s707Mx08NrX7"
      },
      "execution_count": null,
      "outputs": []
    },
    {
      "cell_type": "code",
      "source": [
        "IMG_SIZE= (48, 48)"
      ],
      "metadata": {
        "id": "RzR28GqbNsi7"
      },
      "execution_count": null,
      "outputs": []
    },
    {
      "cell_type": "code",
      "source": [
        "X_train, y_train, train_labels = load_data(TRAIN_DIR, IMG_SIZE)"
      ],
      "metadata": {
        "colab": {
          "base_uri": "https://localhost:8080/"
        },
        "id": "M083w1OYNttK",
        "outputId": "31a5c95b-3d23-4c1f-f867-ede22613492a"
      },
      "execution_count": null,
      "outputs": [
        {
          "output_type": "stream",
          "name": "stderr",
          "text": [
            "100%|██████████| 6/6 [09:37<00:00, 96.33s/it]\n"
          ]
        },
        {
          "output_type": "stream",
          "name": "stdout",
          "text": [
            "28721 images loaded from Training/Training/ directory.\n"
          ]
        }
      ]
    },
    {
      "cell_type": "code",
      "source": [
        "train_labels"
      ],
      "metadata": {
        "colab": {
          "base_uri": "https://localhost:8080/"
        },
        "id": "yMUcU1TINute",
        "outputId": "43f6dee0-2f89-4b6f-cd91-a2c0903ad87a"
      },
      "execution_count": null,
      "outputs": [
        {
          "output_type": "execute_result",
          "data": {
            "text/plain": [
              "{0: 'Angry', 1: 'Fear', 2: 'Happy', 3: 'Neutral', 4: 'Sad', 5: 'Suprise'}"
            ]
          },
          "metadata": {},
          "execution_count": 11
        }
      ]
    },
    {
      "cell_type": "code",
      "source": [
        "X_test, y_test, test_labels = load_data(TEST_DIR,IMG_SIZE)"
      ],
      "metadata": {
        "colab": {
          "base_uri": "https://localhost:8080/"
        },
        "id": "R_uzhsuJNwBq",
        "outputId": "d515d9cc-8afc-4331-a595-73fdf19e2580"
      },
      "execution_count": null,
      "outputs": [
        {
          "output_type": "stream",
          "name": "stderr",
          "text": [
            "100%|██████████| 6/6 [02:05<00:00, 20.99s/it]"
          ]
        },
        {
          "output_type": "stream",
          "name": "stdout",
          "text": [
            "7129 images loaded from Testing/Testing/ directory.\n"
          ]
        },
        {
          "output_type": "stream",
          "name": "stderr",
          "text": [
            "\n"
          ]
        }
      ]
    },
    {
      "cell_type": "markdown",
      "source": [
        "##Data exploration"
      ],
      "metadata": {
        "id": "bf-EFWyMR_gb"
      }
    },
    {
      "cell_type": "markdown",
      "source": [
        "Number of images for each class"
      ],
      "metadata": {
        "id": "nSrpfhWySB5R"
      }
    },
    {
      "cell_type": "code",
      "source": [
        "import pandas as pd\n",
        "\n",
        "_, train_count = np.unique(y_train,return_counts=True)\n",
        "_, test_count = np.unique(y_test,return_counts=True)\n",
        "\n",
        "df = pd.DataFrame(data = (train_count,test_count))\n",
        "df = df.T\n",
        "df['Name'] = emotions\n",
        "data = df.rename(columns={0: \"train\", 1: \"test\", \"Name\" : \"emotion\"})\n",
        "data"
      ],
      "metadata": {
        "id": "LSn9usivT0b1",
        "colab": {
          "base_uri": "https://localhost:8080/",
          "height": 237
        },
        "outputId": "fa15ac52-32a4-407d-d607-df0d12e2fe8a"
      },
      "execution_count": null,
      "outputs": [
        {
          "output_type": "execute_result",
          "data": {
            "text/plain": [
              "   train  test  emotion\n",
              "0   4056   976    Angry\n",
              "1   4127  1034     Fear\n",
              "2   7235  1774    Happy\n",
              "3   5242  1267  Neutral\n",
              "4   4870  1247      Sad\n",
              "5   3191   831  Suprise"
            ],
            "text/html": [
              "\n",
              "  <div id=\"df-144c0b44-013a-4765-9b32-3ec3d65299a0\">\n",
              "    <div class=\"colab-df-container\">\n",
              "      <div>\n",
              "<style scoped>\n",
              "    .dataframe tbody tr th:only-of-type {\n",
              "        vertical-align: middle;\n",
              "    }\n",
              "\n",
              "    .dataframe tbody tr th {\n",
              "        vertical-align: top;\n",
              "    }\n",
              "\n",
              "    .dataframe thead th {\n",
              "        text-align: right;\n",
              "    }\n",
              "</style>\n",
              "<table border=\"1\" class=\"dataframe\">\n",
              "  <thead>\n",
              "    <tr style=\"text-align: right;\">\n",
              "      <th></th>\n",
              "      <th>train</th>\n",
              "      <th>test</th>\n",
              "      <th>emotion</th>\n",
              "    </tr>\n",
              "  </thead>\n",
              "  <tbody>\n",
              "    <tr>\n",
              "      <th>0</th>\n",
              "      <td>4056</td>\n",
              "      <td>976</td>\n",
              "      <td>Angry</td>\n",
              "    </tr>\n",
              "    <tr>\n",
              "      <th>1</th>\n",
              "      <td>4127</td>\n",
              "      <td>1034</td>\n",
              "      <td>Fear</td>\n",
              "    </tr>\n",
              "    <tr>\n",
              "      <th>2</th>\n",
              "      <td>7235</td>\n",
              "      <td>1774</td>\n",
              "      <td>Happy</td>\n",
              "    </tr>\n",
              "    <tr>\n",
              "      <th>3</th>\n",
              "      <td>5242</td>\n",
              "      <td>1267</td>\n",
              "      <td>Neutral</td>\n",
              "    </tr>\n",
              "    <tr>\n",
              "      <th>4</th>\n",
              "      <td>4870</td>\n",
              "      <td>1247</td>\n",
              "      <td>Sad</td>\n",
              "    </tr>\n",
              "    <tr>\n",
              "      <th>5</th>\n",
              "      <td>3191</td>\n",
              "      <td>831</td>\n",
              "      <td>Suprise</td>\n",
              "    </tr>\n",
              "  </tbody>\n",
              "</table>\n",
              "</div>\n",
              "      <button class=\"colab-df-convert\" onclick=\"convertToInteractive('df-144c0b44-013a-4765-9b32-3ec3d65299a0')\"\n",
              "              title=\"Convert this dataframe to an interactive table.\"\n",
              "              style=\"display:none;\">\n",
              "        \n",
              "  <svg xmlns=\"http://www.w3.org/2000/svg\" height=\"24px\"viewBox=\"0 0 24 24\"\n",
              "       width=\"24px\">\n",
              "    <path d=\"M0 0h24v24H0V0z\" fill=\"none\"/>\n",
              "    <path d=\"M18.56 5.44l.94 2.06.94-2.06 2.06-.94-2.06-.94-.94-2.06-.94 2.06-2.06.94zm-11 1L8.5 8.5l.94-2.06 2.06-.94-2.06-.94L8.5 2.5l-.94 2.06-2.06.94zm10 10l.94 2.06.94-2.06 2.06-.94-2.06-.94-.94-2.06-.94 2.06-2.06.94z\"/><path d=\"M17.41 7.96l-1.37-1.37c-.4-.4-.92-.59-1.43-.59-.52 0-1.04.2-1.43.59L10.3 9.45l-7.72 7.72c-.78.78-.78 2.05 0 2.83L4 21.41c.39.39.9.59 1.41.59.51 0 1.02-.2 1.41-.59l7.78-7.78 2.81-2.81c.8-.78.8-2.07 0-2.86zM5.41 20L4 18.59l7.72-7.72 1.47 1.35L5.41 20z\"/>\n",
              "  </svg>\n",
              "      </button>\n",
              "      \n",
              "  <style>\n",
              "    .colab-df-container {\n",
              "      display:flex;\n",
              "      flex-wrap:wrap;\n",
              "      gap: 12px;\n",
              "    }\n",
              "\n",
              "    .colab-df-convert {\n",
              "      background-color: #E8F0FE;\n",
              "      border: none;\n",
              "      border-radius: 50%;\n",
              "      cursor: pointer;\n",
              "      display: none;\n",
              "      fill: #1967D2;\n",
              "      height: 32px;\n",
              "      padding: 0 0 0 0;\n",
              "      width: 32px;\n",
              "    }\n",
              "\n",
              "    .colab-df-convert:hover {\n",
              "      background-color: #E2EBFA;\n",
              "      box-shadow: 0px 1px 2px rgba(60, 64, 67, 0.3), 0px 1px 3px 1px rgba(60, 64, 67, 0.15);\n",
              "      fill: #174EA6;\n",
              "    }\n",
              "\n",
              "    [theme=dark] .colab-df-convert {\n",
              "      background-color: #3B4455;\n",
              "      fill: #D2E3FC;\n",
              "    }\n",
              "\n",
              "    [theme=dark] .colab-df-convert:hover {\n",
              "      background-color: #434B5C;\n",
              "      box-shadow: 0px 1px 3px 1px rgba(0, 0, 0, 0.15);\n",
              "      filter: drop-shadow(0px 1px 2px rgba(0, 0, 0, 0.3));\n",
              "      fill: #FFFFFF;\n",
              "    }\n",
              "  </style>\n",
              "\n",
              "      <script>\n",
              "        const buttonEl =\n",
              "          document.querySelector('#df-144c0b44-013a-4765-9b32-3ec3d65299a0 button.colab-df-convert');\n",
              "        buttonEl.style.display =\n",
              "          google.colab.kernel.accessAllowed ? 'block' : 'none';\n",
              "\n",
              "        async function convertToInteractive(key) {\n",
              "          const element = document.querySelector('#df-144c0b44-013a-4765-9b32-3ec3d65299a0');\n",
              "          const dataTable =\n",
              "            await google.colab.kernel.invokeFunction('convertToInteractive',\n",
              "                                                     [key], {});\n",
              "          if (!dataTable) return;\n",
              "\n",
              "          const docLinkHtml = 'Like what you see? Visit the ' +\n",
              "            '<a target=\"_blank\" href=https://colab.research.google.com/notebooks/data_table.ipynb>data table notebook</a>'\n",
              "            + ' to learn more about interactive tables.';\n",
              "          element.innerHTML = '';\n",
              "          dataTable['output_type'] = 'display_data';\n",
              "          await google.colab.output.renderOutput(dataTable, element);\n",
              "          const docLink = document.createElement('div');\n",
              "          docLink.innerHTML = docLinkHtml;\n",
              "          element.appendChild(docLink);\n",
              "        }\n",
              "      </script>\n",
              "    </div>\n",
              "  </div>\n",
              "  "
            ]
          },
          "metadata": {},
          "execution_count": 13
        }
      ]
    },
    {
      "cell_type": "code",
      "source": [
        "plt.pie(train_count,\n",
        "       explode=(0,0,0,0,0,0),\n",
        "       labels=emotions,\n",
        "       autopct = '%1.1f%%')\n",
        "plt.axis('equal')\n",
        "plt.title(\"Proportion of train data\")\n",
        "plt.show()"
      ],
      "metadata": {
        "id": "DtRuNBIST1lm",
        "colab": {
          "base_uri": "https://localhost:8080/",
          "height": 264
        },
        "outputId": "024e648b-fc91-4a3a-ddbe-4ad306486fba"
      },
      "execution_count": null,
      "outputs": [
        {
          "output_type": "display_data",
          "data": {
            "text/plain": [
              "<Figure size 432x288 with 1 Axes>"
            ],
            "image/png": "[encoded data removed]"
          },
          "metadata": {}
        }
      ]
    },
    {
      "cell_type": "code",
      "source": [
        "import seaborn as sns\n",
        "\n",
        "plt.style.use('seaborn-white')\n",
        "fig, ax = plt.subplots(1,2, figsize=(16,5))\n",
        "sns.barplot(data[\"train\"], data[\"emotion\"], ax=ax[0])\n",
        "ax[0].set_title(\"Distribution of a train data\")\n",
        "sns.barplot(data[\"test\"], data[\"emotion\"], ax=ax[1])\n",
        "ax[1].set_title(\"Distribution of a test data\")\n",
        "plt.show()"
      ],
      "metadata": {
        "colab": {
          "base_uri": "https://localhost:8080/",
          "height": 510
        },
        "id": "8Y9GUsqbT39S",
        "outputId": "b7d2f018-d076-427d-e681-48c787a27d72"
      },
      "execution_count": null,
      "outputs": [
        {
          "output_type": "stream",
          "name": "stderr",
          "text": [
            "/usr/local/lib/python3.7/dist-packages/seaborn/_decorators.py:43: FutureWarning:\n",
            "\n",
            "Pass the following variables as keyword args: x, y. From version 0.12, the only valid positional argument will be `data`, and passing other arguments without an explicit keyword will result in an error or misinterpretation.\n",
            "\n",
            "/usr/local/lib/python3.7/dist-packages/seaborn/_decorators.py:43: FutureWarning:\n",
            "\n",
            "Pass the following variables as keyword args: x, y. From version 0.12, the only valid positional argument will be `data`, and passing other arguments without an explicit keyword will result in an error or misinterpretation.\n",
            "\n"
          ]
        },
        {
          "output_type": "display_data",
          "data": {
            "text/plain": [
              "<Figure size 1152x360 with 2 Axes>"
            ],
            "image/png": "[encoded data removed]"
          },
          "metadata": {}
        }
      ]
    },
    {
      "cell_type": "markdown",
      "source": [
        "Size of Images (Or the structures)"
      ],
      "metadata": {
        "id": "cDdbwNsSSKLw"
      }
    },
    {
      "cell_type": "markdown",
      "source": [
        "Standardization check"
      ],
      "metadata": {
        "id": "rW5-vl22STLG"
      }
    },
    {
      "cell_type": "markdown",
      "source": [
        "Plot samples of data _Arandi"
      ],
      "metadata": {
        "id": "lKAmBMPASi2k"
      }
    },
    {
      "cell_type": "markdown",
      "source": [
        "##Data preprocessing"
      ],
      "metadata": {
        "id": "skbt37DtS5Hl"
      }
    },
    {
      "cell_type": "markdown",
      "source": [
        "##Removing Duplicates"
      ],
      "metadata": {
        "id": "mNnr8QeGS8PQ"
      }
    },
    {
      "cell_type": "code",
      "source": [
        "import cv2  \n",
        "from skimage.metrics import structural_similarity\n",
        "\n",
        "image_list = []\n",
        "\n",
        "path = TRAIN_DIR + '/Happy'\n",
        "\n",
        "for f in os.listdir(path):\n",
        "  image_list.append(f)\n",
        "\n",
        "img_size = list(map(lambda x: os.path.getsize(path + '/' + x), image_list))\n",
        "\n",
        "# Find Same Photos\n",
        "img_data = pd.DataFrame({'filename':image_list, 'size':img_size})\n",
        "\n",
        "print('number of images :', len(img_data))"
      ],
      "metadata": {
        "colab": {
          "base_uri": "https://localhost:8080/"
        },
        "id": "vRaOWoQJWypp",
        "outputId": "1017d668-3c1e-4930-a222-ff359f7ca5eb"
      },
      "execution_count": null,
      "outputs": [
        {
          "output_type": "stream",
          "name": "stdout",
          "text": [
            "number of images : 7235\n"
          ]
        }
      ]
    },
    {
      "cell_type": "code",
      "source": [
        "img_data"
      ],
      "metadata": {
        "colab": {
          "base_uri": "https://localhost:8080/",
          "height": 424
        },
        "id": "EZrAH7uka60l",
        "outputId": "173dd284-6752-4c57-f632-51ab0b3a6c41"
      },
      "execution_count": null,
      "outputs": [
        {
          "output_type": "execute_result",
          "data": {
            "text/plain": [
              "            filename  size\n",
              "0      Happy-961.jpg  1297\n",
              "1     Happy-6746.jpg  1460\n",
              "2     Happy-6855.jpg  1558\n",
              "3     Happy-6200.jpg  1417\n",
              "4     Happy-6514.jpg  1538\n",
              "...              ...   ...\n",
              "7230  Happy-1573.jpg  1637\n",
              "7231  Happy-2209.jpg  1572\n",
              "7232   Happy-167.jpg  1620\n",
              "7233   Happy-137.jpg  1509\n",
              "7234  Happy-1707.jpg  1757\n",
              "\n",
              "[7235 rows x 2 columns]"
            ],
            "text/html": [
              "\n",
              "  <div id=\"df-7233a955-0079-48ae-a9e7-0c7e8ade30e2\">\n",
              "    <div class=\"colab-df-container\">\n",
              "      <div>\n",
              "<style scoped>\n",
              "    .dataframe tbody tr th:only-of-type {\n",
              "        vertical-align: middle;\n",
              "    }\n",
              "\n",
              "    .dataframe tbody tr th {\n",
              "        vertical-align: top;\n",
              "    }\n",
              "\n",
              "    .dataframe thead th {\n",
              "        text-align: right;\n",
              "    }\n",
              "</style>\n",
              "<table border=\"1\" class=\"dataframe\">\n",
              "  <thead>\n",
              "    <tr style=\"text-align: right;\">\n",
              "      <th></th>\n",
              "      <th>filename</th>\n",
              "      <th>size</th>\n",
              "    </tr>\n",
              "  </thead>\n",
              "  <tbody>\n",
              "    <tr>\n",
              "      <th>0</th>\n",
              "      <td>Happy-961.jpg</td>\n",
              "      <td>1297</td>\n",
              "    </tr>\n",
              "    <tr>\n",
              "      <th>1</th>\n",
              "      <td>Happy-6746.jpg</td>\n",
              "      <td>1460</td>\n",
              "    </tr>\n",
              "    <tr>\n",
              "      <th>2</th>\n",
              "      <td>Happy-6855.jpg</td>\n",
              "      <td>1558</td>\n",
              "    </tr>\n",
              "    <tr>\n",
              "      <th>3</th>\n",
              "      <td>Happy-6200.jpg</td>\n",
              "      <td>1417</td>\n",
              "    </tr>\n",
              "    <tr>\n",
              "      <th>4</th>\n",
              "      <td>Happy-6514.jpg</td>\n",
              "      <td>1538</td>\n",
              "    </tr>\n",
              "    <tr>\n",
              "      <th>...</th>\n",
              "      <td>...</td>\n",
              "      <td>...</td>\n",
              "    </tr>\n",
              "    <tr>\n",
              "      <th>7230</th>\n",
              "      <td>Happy-1573.jpg</td>\n",
              "      <td>1637</td>\n",
              "    </tr>\n",
              "    <tr>\n",
              "      <th>7231</th>\n",
              "      <td>Happy-2209.jpg</td>\n",
              "      <td>1572</td>\n",
              "    </tr>\n",
              "    <tr>\n",
              "      <th>7232</th>\n",
              "      <td>Happy-167.jpg</td>\n",
              "      <td>1620</td>\n",
              "    </tr>\n",
              "    <tr>\n",
              "      <th>7233</th>\n",
              "      <td>Happy-137.jpg</td>\n",
              "      <td>1509</td>\n",
              "    </tr>\n",
              "    <tr>\n",
              "      <th>7234</th>\n",
              "      <td>Happy-1707.jpg</td>\n",
              "      <td>1757</td>\n",
              "    </tr>\n",
              "  </tbody>\n",
              "</table>\n",
              "<p>7235 rows × 2 columns</p>\n",
              "</div>\n",
              "      <button class=\"colab-df-convert\" onclick=\"convertToInteractive('df-7233a955-0079-48ae-a9e7-0c7e8ade30e2')\"\n",
              "              title=\"Convert this dataframe to an interactive table.\"\n",
              "              style=\"display:none;\">\n",
              "        \n",
              "  <svg xmlns=\"http://www.w3.org/2000/svg\" height=\"24px\"viewBox=\"0 0 24 24\"\n",
              "       width=\"24px\">\n",
              "    <path d=\"M0 0h24v24H0V0z\" fill=\"none\"/>\n",
              "    <path d=\"M18.56 5.44l.94 2.06.94-2.06 2.06-.94-2.06-.94-.94-2.06-.94 2.06-2.06.94zm-11 1L8.5 8.5l.94-2.06 2.06-.94-2.06-.94L8.5 2.5l-.94 2.06-2.06.94zm10 10l.94 2.06.94-2.06 2.06-.94-2.06-.94-.94-2.06-.94 2.06-2.06.94z\"/><path d=\"M17.41 7.96l-1.37-1.37c-.4-.4-.92-.59-1.43-.59-.52 0-1.04.2-1.43.59L10.3 9.45l-7.72 7.72c-.78.78-.78 2.05 0 2.83L4 21.41c.39.39.9.59 1.41.59.51 0 1.02-.2 1.41-.59l7.78-7.78 2.81-2.81c.8-.78.8-2.07 0-2.86zM5.41 20L4 18.59l7.72-7.72 1.47 1.35L5.41 20z\"/>\n",
              "  </svg>\n",
              "      </button>\n",
              "      \n",
              "  <style>\n",
              "    .colab-df-container {\n",
              "      display:flex;\n",
              "      flex-wrap:wrap;\n",
              "      gap: 12px;\n",
              "    }\n",
              "\n",
              "    .colab-df-convert {\n",
              "      background-color: #E8F0FE;\n",
              "      border: none;\n",
              "      border-radius: 50%;\n",
              "      cursor: pointer;\n",
              "      display: none;\n",
              "      fill: #1967D2;\n",
              "      height: 32px;\n",
              "      padding: 0 0 0 0;\n",
              "      width: 32px;\n",
              "    }\n",
              "\n",
              "    .colab-df-convert:hover {\n",
              "      background-color: #E2EBFA;\n",
              "      box-shadow: 0px 1px 2px rgba(60, 64, 67, 0.3), 0px 1px 3px 1px rgba(60, 64, 67, 0.15);\n",
              "      fill: #174EA6;\n",
              "    }\n",
              "\n",
              "    [theme=dark] .colab-df-convert {\n",
              "      background-color: #3B4455;\n",
              "      fill: #D2E3FC;\n",
              "    }\n",
              "\n",
              "    [theme=dark] .colab-df-convert:hover {\n",
              "      background-color: #434B5C;\n",
              "      box-shadow: 0px 1px 3px 1px rgba(0, 0, 0, 0.15);\n",
              "      filter: drop-shadow(0px 1px 2px rgba(0, 0, 0, 0.3));\n",
              "      fill: #FFFFFF;\n",
              "    }\n",
              "  </style>\n",
              "\n",
              "      <script>\n",
              "        const buttonEl =\n",
              "          document.querySelector('#df-7233a955-0079-48ae-a9e7-0c7e8ade30e2 button.colab-df-convert');\n",
              "        buttonEl.style.display =\n",
              "          google.colab.kernel.accessAllowed ? 'block' : 'none';\n",
              "\n",
              "        async function convertToInteractive(key) {\n",
              "          const element = document.querySelector('#df-7233a955-0079-48ae-a9e7-0c7e8ade30e2');\n",
              "          const dataTable =\n",
              "            await google.colab.kernel.invokeFunction('convertToInteractive',\n",
              "                                                     [key], {});\n",
              "          if (!dataTable) return;\n",
              "\n",
              "          const docLinkHtml = 'Like what you see? Visit the ' +\n",
              "            '<a target=\"_blank\" href=https://colab.research.google.com/notebooks/data_table.ipynb>data table notebook</a>'\n",
              "            + ' to learn more about interactive tables.';\n",
              "          element.innerHTML = '';\n",
              "          dataTable['output_type'] = 'display_data';\n",
              "          await google.colab.output.renderOutput(dataTable, element);\n",
              "          const docLink = document.createElement('div');\n",
              "          docLink.innerHTML = docLinkHtml;\n",
              "          element.appendChild(docLink);\n",
              "        }\n",
              "      </script>\n",
              "    </div>\n",
              "  </div>\n",
              "  "
            ]
          },
          "metadata": {},
          "execution_count": 22
        }
      ]
    },
    {
      "cell_type": "code",
      "source": [
        "# Photo Value Counts\n",
        "filename_cnts = pd.DataFrame({'filename':img_data['filename'].value_counts().index, 'fn_counts':img_data['filename'].value_counts().values})   \n",
        "imgsize_cnts = pd.DataFrame({'size':img_data['size'].value_counts().index, 'size_counts':img_data['size'].value_counts().values})   \n",
        "\n",
        "img_data = pd.merge(img_data, filename_cnts, how = 'left', on = 'filename')\n",
        "img_data = pd.merge(img_data, imgsize_cnts, how = 'left', on = 'size')\n",
        "\n",
        "img_data.sample(2)"
      ],
      "metadata": {
        "colab": {
          "base_uri": "https://localhost:8080/",
          "height": 112
        },
        "id": "k_UjmwD4a8xj",
        "outputId": "d2b4623b-b9f9-413f-cdaf-341d4e4e7f63"
      },
      "execution_count": null,
      "outputs": [
        {
          "output_type": "execute_result",
          "data": {
            "text/plain": [
              "            filename  size  fn_counts  size_counts\n",
              "1603  Happy-6722.jpg  1907          1            4\n",
              "4148  Happy-3125.jpg  1644          1           20"
            ],
            "text/html": [
              "\n",
              "  <div id=\"df-0a0d4ba9-e784-41c3-98d6-6c113fa5d34d\">\n",
              "    <div class=\"colab-df-container\">\n",
              "      <div>\n",
              "<style scoped>\n",
              "    .dataframe tbody tr th:only-of-type {\n",
              "        vertical-align: middle;\n",
              "    }\n",
              "\n",
              "    .dataframe tbody tr th {\n",
              "        vertical-align: top;\n",
              "    }\n",
              "\n",
              "    .dataframe thead th {\n",
              "        text-align: right;\n",
              "    }\n",
              "</style>\n",
              "<table border=\"1\" class=\"dataframe\">\n",
              "  <thead>\n",
              "    <tr style=\"text-align: right;\">\n",
              "      <th></th>\n",
              "      <th>filename</th>\n",
              "      <th>size</th>\n",
              "      <th>fn_counts</th>\n",
              "      <th>size_counts</th>\n",
              "    </tr>\n",
              "  </thead>\n",
              "  <tbody>\n",
              "    <tr>\n",
              "      <th>1603</th>\n",
              "      <td>Happy-6722.jpg</td>\n",
              "      <td>1907</td>\n",
              "      <td>1</td>\n",
              "      <td>4</td>\n",
              "    </tr>\n",
              "    <tr>\n",
              "      <th>4148</th>\n",
              "      <td>Happy-3125.jpg</td>\n",
              "      <td>1644</td>\n",
              "      <td>1</td>\n",
              "      <td>20</td>\n",
              "    </tr>\n",
              "  </tbody>\n",
              "</table>\n",
              "</div>\n",
              "      <button class=\"colab-df-convert\" onclick=\"convertToInteractive('df-0a0d4ba9-e784-41c3-98d6-6c113fa5d34d')\"\n",
              "              title=\"Convert this dataframe to an interactive table.\"\n",
              "              style=\"display:none;\">\n",
              "        \n",
              "  <svg xmlns=\"http://www.w3.org/2000/svg\" height=\"24px\"viewBox=\"0 0 24 24\"\n",
              "       width=\"24px\">\n",
              "    <path d=\"M0 0h24v24H0V0z\" fill=\"none\"/>\n",
              "    <path d=\"M18.56 5.44l.94 2.06.94-2.06 2.06-.94-2.06-.94-.94-2.06-.94 2.06-2.06.94zm-11 1L8.5 8.5l.94-2.06 2.06-.94-2.06-.94L8.5 2.5l-.94 2.06-2.06.94zm10 10l.94 2.06.94-2.06 2.06-.94-2.06-.94-.94-2.06-.94 2.06-2.06.94z\"/><path d=\"M17.41 7.96l-1.37-1.37c-.4-.4-.92-.59-1.43-.59-.52 0-1.04.2-1.43.59L10.3 9.45l-7.72 7.72c-.78.78-.78 2.05 0 2.83L4 21.41c.39.39.9.59 1.41.59.51 0 1.02-.2 1.41-.59l7.78-7.78 2.81-2.81c.8-.78.8-2.07 0-2.86zM5.41 20L4 18.59l7.72-7.72 1.47 1.35L5.41 20z\"/>\n",
              "  </svg>\n",
              "      </button>\n",
              "      \n",
              "  <style>\n",
              "    .colab-df-container {\n",
              "      display:flex;\n",
              "      flex-wrap:wrap;\n",
              "      gap: 12px;\n",
              "    }\n",
              "\n",
              "    .colab-df-convert {\n",
              "      background-color: #E8F0FE;\n",
              "      border: none;\n",
              "      border-radius: 50%;\n",
              "      cursor: pointer;\n",
              "      display: none;\n",
              "      fill: #1967D2;\n",
              "      height: 32px;\n",
              "      padding: 0 0 0 0;\n",
              "      width: 32px;\n",
              "    }\n",
              "\n",
              "    .colab-df-convert:hover {\n",
              "      background-color: #E2EBFA;\n",
              "      box-shadow: 0px 1px 2px rgba(60, 64, 67, 0.3), 0px 1px 3px 1px rgba(60, 64, 67, 0.15);\n",
              "      fill: #174EA6;\n",
              "    }\n",
              "\n",
              "    [theme=dark] .colab-df-convert {\n",
              "      background-color: #3B4455;\n",
              "      fill: #D2E3FC;\n",
              "    }\n",
              "\n",
              "    [theme=dark] .colab-df-convert:hover {\n",
              "      background-color: #434B5C;\n",
              "      box-shadow: 0px 1px 3px 1px rgba(0, 0, 0, 0.15);\n",
              "      filter: drop-shadow(0px 1px 2px rgba(0, 0, 0, 0.3));\n",
              "      fill: #FFFFFF;\n",
              "    }\n",
              "  </style>\n",
              "\n",
              "      <script>\n",
              "        const buttonEl =\n",
              "          document.querySelector('#df-0a0d4ba9-e784-41c3-98d6-6c113fa5d34d button.colab-df-convert');\n",
              "        buttonEl.style.display =\n",
              "          google.colab.kernel.accessAllowed ? 'block' : 'none';\n",
              "\n",
              "        async function convertToInteractive(key) {\n",
              "          const element = document.querySelector('#df-0a0d4ba9-e784-41c3-98d6-6c113fa5d34d');\n",
              "          const dataTable =\n",
              "            await google.colab.kernel.invokeFunction('convertToInteractive',\n",
              "                                                     [key], {});\n",
              "          if (!dataTable) return;\n",
              "\n",
              "          const docLinkHtml = 'Like what you see? Visit the ' +\n",
              "            '<a target=\"_blank\" href=https://colab.research.google.com/notebooks/data_table.ipynb>data table notebook</a>'\n",
              "            + ' to learn more about interactive tables.';\n",
              "          element.innerHTML = '';\n",
              "          dataTable['output_type'] = 'display_data';\n",
              "          await google.colab.output.renderOutput(dataTable, element);\n",
              "          const docLink = document.createElement('div');\n",
              "          docLink.innerHTML = docLinkHtml;\n",
              "          element.appendChild(docLink);\n",
              "        }\n",
              "      </script>\n",
              "    </div>\n",
              "  </div>\n",
              "  "
            ]
          },
          "metadata": {},
          "execution_count": 23
        }
      ]
    },
    {
      "cell_type": "code",
      "source": [
        "SimilarSizeData = imgsize_cnts[imgsize_cnts['size_counts'] > 1]"
      ],
      "metadata": {
        "id": "KtYp0r9TbCLz"
      },
      "execution_count": null,
      "outputs": []
    },
    {
      "cell_type": "markdown",
      "source": [
        "Use structural similarity to compare similarity of images"
      ],
      "metadata": {
        "id": "4LEQ-H3tK8Td"
      }
    },
    {
      "cell_type": "code",
      "source": [
        "def CompareImage(imageA, imageB):\n",
        "\n",
        "    # Grayscale\n",
        "    grayA = cv2.cvtColor(imageA, cv2.COLOR_BGR2GRAY)\n",
        "    grayB = cv2.cvtColor(imageB, cv2.COLOR_BGR2GRAY)\n",
        "    \n",
        "    # Check Image structure\n",
        "    if len(grayA)==len(grayB):\n",
        "        (score, diff) = structural_similarity(grayA, grayB, full=True)\n",
        "\n",
        "    return score"
      ],
      "metadata": {
        "id": "nUbpZn4qbDgx"
      },
      "execution_count": null,
      "outputs": []
    },
    {
      "cell_type": "code",
      "source": [
        "delete = dict()"
      ],
      "metadata": {
        "id": "mQEg7Agob0tu"
      },
      "execution_count": null,
      "outputs": []
    },
    {
      "cell_type": "code",
      "source": [
        "for i in range(len(SimilarSizeData)):\n",
        "\n",
        "    temp = img_data[img_data['size']==SimilarSizeData['size'][i]].reset_index(drop = True).sort_values(['filename'])\n",
        "\n",
        "    candidates = []\n",
        "\n",
        "    for j in range(len(temp) - 1):\n",
        "      filenameA = temp['filename'][j]\n",
        "      compared = False\n",
        "\n",
        "      for key in delete:\n",
        "        if (filenameA in delete[key]):\n",
        "          compared = True\n",
        "          break\n",
        "      \n",
        "      if compared:\n",
        "        continue\n",
        "\n",
        "      for k in range(j+1, len(temp)):\n",
        "        filenameB = temp['filename'][k]\n",
        "        \n",
        "        imageA = cv2.imread(path+'/'+filenameA)\n",
        "        imageB = cv2.imread(path+'/'+filenameB)\n",
        "\n",
        "        score = CompareImage(imageA, imageB)\n",
        "        \n",
        "        if (score == 1 or score > 0.6):\n",
        "          if filenameA not in delete:\n",
        "            delete[filenameA] = [filenameB]\n",
        "          else:\n",
        "            delete[filenameA].append(filenameB)\n",
        "          if (score < 1):\n",
        "            print(filenameA + \", \" + filenameB)\n",
        "            print(\"score: \" + str(score))\n",
        "          "
      ],
      "metadata": {
        "colab": {
          "base_uri": "https://localhost:8080/"
        },
        "id": "InaA5jowbE-J",
        "outputId": "76739f46-03fb-402c-8599-a530b8c7983a"
      },
      "execution_count": null,
      "outputs": [
        {
          "output_type": "stream",
          "name": "stdout",
          "text": [
            "Happy-6680.jpg, Happy-2461.jpg\n",
            "score: 0.7168389603349193\n"
          ]
        }
      ]
    },
    {
      "cell_type": "markdown",
      "source": [
        "Similar images"
      ],
      "metadata": {
        "id": "1z98qyS8LLDI"
      }
    },
    {
      "cell_type": "code",
      "source": [
        "plt.figure(0, figsize=(5,3))\n",
        "ax = plt.subplot(1,2,1)\n",
        "ax.set_title('Happy-6680.jpg')\n",
        "img1 = cv2.imread(path+\"/\"+ 'Happy-6680.jpg')\n",
        "plt.imshow(img1,cmap=\"gray\")\n",
        "\n",
        "ax = plt.subplot(1,2,2)\n",
        "ax.set_title('Happy-2461.jpg')\n",
        "img2 = cv2.imread(path+\"/\"+ 'Happy-2461.jpg')\n",
        "plt.imshow(img2,cmap=\"gray\")"
      ],
      "metadata": {
        "colab": {
          "base_uri": "https://localhost:8080/",
          "height": 204
        },
        "id": "OIShDg-HmnVp",
        "outputId": "f0396e62-32df-4ef5-d35b-7e9494ea6949"
      },
      "execution_count": null,
      "outputs": [
        {
          "output_type": "execute_result",
          "data": {
            "text/plain": [
              "<matplotlib.image.AxesImage at 0x7f39a9a5f310>"
            ]
          },
          "metadata": {},
          "execution_count": 81
        },
        {
          "output_type": "display_data",
          "data": {
            "text/plain": [
              "<Figure size 360x216 with 2 Axes>"
            ],
            "image/png": "[encoded data removed]"
          },
          "metadata": {}
        }
      ]
    },
    {
      "cell_type": "code",
      "source": [
        "total = [len(value) for key, value in delete.items()]\n",
        "print(str(sum(total)) + \" duplicates found\")"
      ],
      "metadata": {
        "colab": {
          "base_uri": "https://localhost:8080/"
        },
        "id": "25oVDdY1ngid",
        "outputId": "9fdb92c2-46bf-4dee-bfe8-5679c804d0ac"
      },
      "execution_count": null,
      "outputs": [
        {
          "output_type": "stream",
          "name": "stdout",
          "text": [
            "149 duplicates found\n"
          ]
        }
      ]
    },
    {
      "cell_type": "markdown",
      "source": [
        "Plotting some duplicates to confirm they are the same"
      ],
      "metadata": {
        "id": "gdVZC_c5LOVP"
      }
    },
    {
      "cell_type": "code",
      "source": [
        "plt.figure(0, figsize=(8,4))\n",
        "cpt = 0\n",
        "\n",
        "n = 8\n",
        "\n",
        "for key in delete:\n",
        "  if (n == 0):\n",
        "    break\n",
        "\n",
        "  cpt += 1\n",
        "  ax = plt.subplot(4,6,cpt)\n",
        "  ax.set_title(key)\n",
        "  img = cv2.imread(path+\"/\"+ key)\n",
        "  plt.tick_params(labelleft=False,labelbottom=False)\n",
        "  plt.imshow(img,cmap=\"gray\")\n",
        "\n",
        "  for file in delete[key]:\n",
        "    cpt += 1\n",
        "    ax = plt.subplot(4,6,cpt)\n",
        "    ax.set_title(file)\n",
        "\n",
        "    img = cv2.imread(path+\"/\"+ file)\n",
        "    plt.tick_params(labelleft=False,labelbottom=False)\n",
        "    plt.imshow(img,cmap=\"gray\")\n",
        "    pass\n",
        "  \n",
        "  if (cpt % 3 != 0):\n",
        "    cpt +=1\n",
        "  n -= 1\n",
        "\n",
        "plt.tight_layout()\n",
        "plt.show()"
      ],
      "metadata": {
        "colab": {
          "base_uri": "https://localhost:8080/",
          "height": 297
        },
        "id": "uwHZ-_TMfU8b",
        "outputId": "fbe105fe-ba55-4c4f-ac30-572c35f41bd6"
      },
      "execution_count": null,
      "outputs": [
        {
          "output_type": "display_data",
          "data": {
            "text/plain": [
              "<Figure size 576x288 with 17 Axes>"
            ],
            "image/png": "[encoded data removed]"
          },
          "metadata": {}
        }
      ]
    },
    {
      "cell_type": "code",
      "source": [
        "orig_list = image_list\n",
        "\n",
        "print(\"original image number: \" + str(len(orig_list)))"
      ],
      "metadata": {
        "colab": {
          "base_uri": "https://localhost:8080/"
        },
        "id": "5ltczonX4dfD",
        "outputId": "4877c6c3-330d-450b-b8c3-5d322a26fa7b"
      },
      "execution_count": null,
      "outputs": [
        {
          "output_type": "stream",
          "name": "stdout",
          "text": [
            "original image number: 7235\n"
          ]
        }
      ]
    },
    {
      "cell_type": "code",
      "source": [
        "for key in delete:\n",
        "  for val in delete[key]:\n",
        "    image_list.remove(val)\n",
        "\n",
        "print(\"updated images number: \" + str(len(image_list)))"
      ],
      "metadata": {
        "colab": {
          "base_uri": "https://localhost:8080/"
        },
        "id": "3_aZj2Xp3z0d",
        "outputId": "f0b38ea5-3cf2-41df-d8f0-23a47b593b4f"
      },
      "execution_count": null,
      "outputs": [
        {
          "output_type": "stream",
          "name": "stdout",
          "text": [
            "updated images number: 7086\n"
          ]
        }
      ]
    },
    {
      "cell_type": "code",
      "source": [
        "pwd"
      ],
      "metadata": {
        "colab": {
          "base_uri": "https://localhost:8080/",
          "height": 35
        },
        "id": "Q62_qGgjJ6an",
        "outputId": "7179a74b-3045-4c60-86fa-ef46b4a1bd06"
      },
      "execution_count": null,
      "outputs": [
        {
          "output_type": "execute_result",
          "data": {
            "text/plain": [
              "'/content/drive/.shortcut-targets-by-id/1Z5iKjOa4METq6Gspzm97KWYkNG2sG5Wo/ECS171/emotionDataSet/Training/Training'"
            ],
            "application/vnd.google.colaboratory.intrinsic+json": {
              "type": "string"
            }
          },
          "metadata": {},
          "execution_count": 120
        }
      ]
    },
    {
      "cell_type": "code",
      "source": [
        "os.chdir(os.getcwd() + '/Happy')"
      ],
      "metadata": {
        "id": "0AvuUl_1KFMB"
      },
      "execution_count": null,
      "outputs": []
    },
    {
      "cell_type": "markdown",
      "source": [
        "Remove images"
      ],
      "metadata": {
        "id": "q0TAgn87NiU4"
      }
    },
    {
      "cell_type": "code",
      "source": [
        "for key in delete:\n",
        "  print(\"Removing duplicates of \" + key)\n",
        "  for val in delete[key]:\n",
        "    print(val + \" removed\")\n",
        "    os.remove(val)"
      ],
      "metadata": {
        "colab": {
          "base_uri": "https://localhost:8080/"
        },
        "id": "acZfCMM72Dnt",
        "outputId": "320ec389-0b6d-4191-a4f6-ba354b3c0bea"
      },
      "execution_count": null,
      "outputs": [
        {
          "output_type": "stream",
          "name": "stdout",
          "text": [
            "Removing duplicates of Happy-6272.jpg\n",
            "Happy-140.jpg removed\n",
            "Removing duplicates of Happy-5268.jpg\n",
            "Happy-3568.jpg removed\n",
            "Removing duplicates of Happy-998.jpg\n",
            "Happy-2223.jpg removed\n",
            "Happy-2223 (1).jpg removed\n",
            "Removing duplicates of Happy-6468.jpg\n",
            "Happy-6243.jpg removed\n",
            "Removing duplicates of Happy-6214.jpg\n",
            "Happy-223.jpg removed\n",
            "Removing duplicates of Happy-7167.jpg\n",
            "Happy-7167 (1).jpg removed\n",
            "Removing duplicates of Happy-822.jpg\n",
            "Happy-313.jpg removed\n",
            "Removing duplicates of Happy-7107.jpg\n",
            "Happy-5489.jpg removed\n",
            "Removing duplicates of Happy-4107.jpg\n",
            "Happy-2538.jpg removed\n",
            "Removing duplicates of Happy-4095.jpg\n",
            "Happy-2378.jpg removed\n",
            "Removing duplicates of Happy-3371.jpg\n",
            "Happy-2342.jpg removed\n",
            "Removing duplicates of Happy-3907.jpg\n",
            "Happy-173.jpg removed\n",
            "Removing duplicates of Happy-2760.jpg\n",
            "Happy-598.jpg removed\n",
            "Removing duplicates of Happy-307.jpg\n",
            "Happy-4403.jpg removed\n",
            "Happy-2818.jpg removed\n",
            "Removing duplicates of Happy-5770.jpg\n",
            "Happy-5770 (1).jpg removed\n",
            "Removing duplicates of Happy-6723 (1).jpg\n",
            "Happy-6723.jpg removed\n",
            "Removing duplicates of Happy-6045.jpg\n",
            "Happy-6045 (1).jpg removed\n",
            "Removing duplicates of Happy-3730.jpg\n",
            "Happy-1685.jpg removed\n",
            "Removing duplicates of Happy-3795.jpg\n",
            "Happy-1864.jpg removed\n",
            "Removing duplicates of Happy-6950.jpg\n",
            "Happy-4959.jpg removed\n",
            "Removing duplicates of Happy-4751.jpg\n",
            "Happy-1861.jpg removed\n",
            "Removing duplicates of Happy-4956.jpg\n",
            "Happy-3665.jpg removed\n",
            "Removing duplicates of Happy-876.jpg\n",
            "Happy-5820.jpg removed\n",
            "Removing duplicates of Happy-7214.jpg\n",
            "Happy-6469.jpg removed\n",
            "Removing duplicates of Happy-924.jpg\n",
            "Happy-6030.jpg removed\n",
            "Removing duplicates of Happy-1686.jpg\n",
            "Happy-252.jpg removed\n",
            "Removing duplicates of Happy-84.jpg\n",
            "Happy-5317.jpg removed\n",
            "Removing duplicates of Happy-4652.jpg\n",
            "Happy-4652 (1).jpg removed\n",
            "Removing duplicates of Happy-964.jpg\n",
            "Happy-5925.jpg removed\n",
            "Removing duplicates of Happy-6790.jpg\n",
            "Happy-1286.jpg removed\n",
            "Removing duplicates of Happy-5595.jpg\n",
            "Happy-172.jpg removed\n",
            "Removing duplicates of Happy-2786.jpg\n",
            "Happy-4384.jpg removed\n",
            "Happy-4989.jpg removed\n",
            "Removing duplicates of Happy-6292 (1).jpg\n",
            "Happy-6292.jpg removed\n",
            "Removing duplicates of Happy-5750.jpg\n",
            "Happy-4441.jpg removed\n",
            "Removing duplicates of Happy-3351.jpg\n",
            "Happy-522.jpg removed\n",
            "Removing duplicates of Happy-3037.jpg\n",
            "Happy-1207.jpg removed\n",
            "Removing duplicates of Happy-5706.jpg\n",
            "Happy-4429.jpg removed\n",
            "Removing duplicates of Happy-843.jpg\n",
            "Happy-4634.jpg removed\n",
            "Removing duplicates of Happy-6716.jpg\n",
            "Happy-2674.jpg removed\n",
            "Happy-6007.jpg removed\n",
            "Removing duplicates of Happy-6663.jpg\n",
            "Happy-3210.jpg removed\n",
            "Removing duplicates of Happy-4340.jpg\n",
            "Happy-4716.jpg removed\n",
            "Removing duplicates of Happy-1735.jpg\n",
            "Happy-1489.jpg removed\n",
            "Removing duplicates of Happy-827.jpg\n",
            "Happy-3052.jpg removed\n",
            "Removing duplicates of Happy-3781.jpg\n",
            "Happy-3256.jpg removed\n",
            "Removing duplicates of Happy-1206.jpg\n",
            "Happy-2050.jpg removed\n",
            "Happy-1934.jpg removed\n",
            "Removing duplicates of Happy-4134.jpg\n",
            "Happy-4134 (1).jpg removed\n",
            "Removing duplicates of Happy-6509.jpg\n",
            "Happy-6037.jpg removed\n",
            "Removing duplicates of Happy-6238.jpg\n",
            "Happy-5366.jpg removed\n",
            "Removing duplicates of Happy-296.jpg\n",
            "Happy-268.jpg removed\n",
            "Removing duplicates of Happy-3883.jpg\n",
            "Happy-3883 (1).jpg removed\n",
            "Removing duplicates of Happy-6454.jpg\n",
            "Happy-3535.jpg removed\n",
            "Removing duplicates of Happy-6550.jpg\n",
            "Happy-3114.jpg removed\n",
            "Removing duplicates of Happy-4675.jpg\n",
            "Happy-1367.jpg removed\n",
            "Removing duplicates of Happy-1307.jpg\n",
            "Happy-1435.jpg removed\n",
            "Removing duplicates of Happy-5671.jpg\n",
            "Happy-23.jpg removed\n",
            "Removing duplicates of Happy-488.jpg\n",
            "Happy-1143.jpg removed\n",
            "Removing duplicates of Happy-305.jpg\n",
            "Happy-305 (1).jpg removed\n",
            "Removing duplicates of Happy-5182.jpg\n",
            "Happy-1305.jpg removed\n",
            "Removing duplicates of Happy-3705.jpg\n",
            "Happy-5859.jpg removed\n",
            "Removing duplicates of Happy-1568.jpg\n",
            "Happy-1576.jpg removed\n",
            "Removing duplicates of Happy-4596.jpg\n",
            "Happy-16.jpg removed\n",
            "Removing duplicates of Happy-4409.jpg\n",
            "Happy-1673.jpg removed\n",
            "Removing duplicates of Happy-1816.jpg\n",
            "Happy-1882.jpg removed\n",
            "Removing duplicates of Happy-6467.jpg\n",
            "Happy-53.jpg removed\n",
            "Removing duplicates of Happy-7036.jpg\n",
            "Happy-687.jpg removed\n",
            "Removing duplicates of Happy-2457.jpg\n",
            "Happy-2236.jpg removed\n",
            "Removing duplicates of Happy-3729.jpg\n",
            "Happy-3365.jpg removed\n",
            "Removing duplicates of Happy-6516.jpg\n",
            "Happy-501.jpg removed\n",
            "Removing duplicates of Happy-6695.jpg\n",
            "Happy-4338.jpg removed\n",
            "Removing duplicates of Happy-6553.jpg\n",
            "Happy-5436.jpg removed\n",
            "Removing duplicates of Happy-6923.jpg\n",
            "Happy-2739.jpg removed\n",
            "Removing duplicates of Happy-1509.jpg\n",
            "Happy-1469.jpg removed\n",
            "Removing duplicates of Happy-833.jpg\n",
            "Happy-2720.jpg removed\n",
            "Removing duplicates of Happy-861.jpg\n",
            "Happy-4924.jpg removed\n",
            "Removing duplicates of Happy-139 (1).jpg\n",
            "Happy-139.jpg removed\n",
            "Removing duplicates of Happy-1917.jpg\n",
            "Happy-1238.jpg removed\n",
            "Removing duplicates of Happy-4607.jpg\n",
            "Happy-322.jpg removed\n",
            "Removing duplicates of Happy-902.jpg\n",
            "Happy-6707.jpg removed\n",
            "Removing duplicates of Happy-6068.jpg\n",
            "Happy-13.jpg removed\n",
            "Removing duplicates of Happy-6586.jpg\n",
            "Happy-1383.jpg removed\n",
            "Removing duplicates of Happy-7.jpg\n",
            "Happy-4800.jpg removed\n",
            "Removing duplicates of Happy-6444.jpg\n",
            "Happy-1324.jpg removed\n",
            "Removing duplicates of Happy-3301.jpg\n",
            "Happy-3301 (1).jpg removed\n",
            "Removing duplicates of Happy-5153.jpg\n",
            "Happy-5084.jpg removed\n",
            "Removing duplicates of Happy-3234.jpg\n",
            "Happy-3440.jpg removed\n",
            "Removing duplicates of Happy-6951.jpg\n",
            "Happy-5383.jpg removed\n",
            "Removing duplicates of Happy-649.jpg\n",
            "Happy-6610.jpg removed\n",
            "Removing duplicates of Happy-1516 (1).jpg\n",
            "Happy-1516.jpg removed\n",
            "Removing duplicates of Happy-1762.jpg\n",
            "Happy-4330.jpg removed\n",
            "Removing duplicates of Happy-6684.jpg\n",
            "Happy-2804.jpg removed\n",
            "Removing duplicates of Happy-6515.jpg\n",
            "Happy-5258.jpg removed\n",
            "Removing duplicates of Happy-5079.jpg\n",
            "Happy-4709.jpg removed\n",
            "Removing duplicates of Happy-853.jpg\n",
            "Happy-3283.jpg removed\n",
            "Removing duplicates of Happy-7137.jpg\n",
            "Happy-1692.jpg removed\n",
            "Removing duplicates of Happy-3212.jpg\n",
            "Happy-5298.jpg removed\n",
            "Removing duplicates of Happy-5271.jpg\n",
            "Happy-2930.jpg removed\n",
            "Removing duplicates of Happy-886.jpg\n",
            "Happy-1498.jpg removed\n",
            "Removing duplicates of Happy-3031.jpg\n",
            "Happy-2140.jpg removed\n",
            "Removing duplicates of Happy-3601.jpg\n",
            "Happy-1929.jpg removed\n",
            "Removing duplicates of Happy-2983.jpg\n",
            "Happy-3777.jpg removed\n",
            "Removing duplicates of Happy-6868.jpg\n",
            "Happy-2727.jpg removed\n",
            "Removing duplicates of Happy-5969.jpg\n",
            "Happy-5969 (1).jpg removed\n",
            "Removing duplicates of Happy-3736.jpg\n",
            "Happy-478.jpg removed\n",
            "Removing duplicates of Happy-6976.jpg\n",
            "Happy-4551.jpg removed\n",
            "Happy-5443.jpg removed\n",
            "Removing duplicates of Happy-5345.jpg\n",
            "Happy-1565.jpg removed\n",
            "Removing duplicates of Happy-3815.jpg\n",
            "Happy-1639.jpg removed\n",
            "Removing duplicates of Happy-6318.jpg\n",
            "Happy-6839.jpg removed\n",
            "Removing duplicates of Happy-2974.jpg\n",
            "Happy-2974 (1).jpg removed\n",
            "Removing duplicates of Happy-2986.jpg\n",
            "Happy-2248.jpg removed\n",
            "Removing duplicates of Happy-3938.jpg\n",
            "Happy-4814.jpg removed\n",
            "Removing duplicates of Happy-6279 (1).jpg\n",
            "Happy-6279.jpg removed\n",
            "Happy-400.jpg removed\n",
            "Removing duplicates of Happy-6382.jpg\n",
            "Happy-341.jpg removed\n",
            "Removing duplicates of Happy-762.jpg\n",
            "Happy-486.jpg removed\n",
            "Removing duplicates of Happy-5240.jpg\n",
            "Happy-2510.jpg removed\n",
            "Removing duplicates of Happy-887.jpg\n",
            "Happy-887 (1).jpg removed\n",
            "Removing duplicates of Happy-2765.jpg\n",
            "Happy-600.jpg removed\n",
            "Removing duplicates of Happy-6760.jpg\n",
            "Happy-2927.jpg removed\n",
            "Removing duplicates of Happy-5303.jpg\n",
            "Happy-1979.jpg removed\n",
            "Removing duplicates of Happy-6795.jpg\n",
            "Happy-3412.jpg removed\n",
            "Removing duplicates of Happy-1371.jpg\n",
            "Happy-5707.jpg removed\n",
            "Removing duplicates of Happy-3467 (1).jpg\n",
            "Happy-3467.jpg removed\n",
            "Removing duplicates of Happy-4115.jpg\n",
            "Happy-2719.jpg removed\n",
            "Removing duplicates of Happy-300.jpg\n",
            "Happy-2292.jpg removed\n",
            "Removing duplicates of Happy-6557.jpg\n",
            "Happy-4798.jpg removed\n",
            "Removing duplicates of Happy-4594.jpg\n",
            "Happy-4158.jpg removed\n",
            "Removing duplicates of Happy-5868.jpg\n",
            "Happy-2364.jpg removed\n",
            "Removing duplicates of Happy-7136.jpg\n",
            "Happy-2640.jpg removed\n",
            "Removing duplicates of Happy-523.jpg\n",
            "Happy-2325.jpg removed\n",
            "Removing duplicates of Happy-894.jpg\n",
            "Happy-3498.jpg removed\n",
            "Removing duplicates of Happy-279.jpg\n",
            "Happy-437.jpg removed\n",
            "Removing duplicates of Happy-709.jpg\n",
            "Happy-1412.jpg removed\n",
            "Removing duplicates of Happy-7169.jpg\n",
            "Happy-1108.jpg removed\n",
            "Removing duplicates of Happy-900.jpg\n",
            "Happy-889.jpg removed\n",
            "Happy-2539.jpg removed\n",
            "Removing duplicates of Happy-5016 (1).jpg\n",
            "Happy-5016.jpg removed\n",
            "Happy-2623.jpg removed\n",
            "Removing duplicates of Happy-1306.jpg\n",
            "Happy-1015.jpg removed\n",
            "Removing duplicates of Happy-6495.jpg\n",
            "Happy-684.jpg removed\n",
            "Removing duplicates of Happy-7164.jpg\n",
            "Happy-5736.jpg removed\n",
            "Removing duplicates of Happy-4308.jpg\n",
            "Happy-4308 (1).jpg removed\n",
            "Removing duplicates of Happy-805.jpg\n",
            "Happy-5158.jpg removed\n",
            "Removing duplicates of Happy-6680.jpg\n",
            "Happy-2461.jpg removed\n"
          ]
        }
      ]
    },
    {
      "cell_type": "markdown",
      "source": [
        "##Removing outliers"
      ],
      "metadata": {
        "id": "P1yfb8_mTatR"
      }
    },
    {
      "cell_type": "code",
      "source": [],
      "metadata": {
        "id": "kwxJzX_jS6zP"
      },
      "execution_count": null,
      "outputs": []
    },
    {
      "cell_type": "markdown",
      "source": [
        "##Grayscaling"
      ],
      "metadata": {
        "id": "8POO9EwDTCQm"
      }
    },
    {
      "cell_type": "code",
      "source": [],
      "metadata": {
        "id": "TgTHpqHbTEGh"
      },
      "execution_count": null,
      "outputs": []
    },
    {
      "cell_type": "markdown",
      "source": [
        "Data Augmentation? (Shifting, Rotating, Brightness, Cropping ...)"
      ],
      "metadata": {
        "id": "QogAgnaPTE0p"
      }
    },
    {
      "cell_type": "code",
      "source": [],
      "metadata": {
        "id": "f_3BSLN8TY98"
      },
      "execution_count": null,
      "outputs": []
    },
    {
      "cell_type": "markdown",
      "source": [
        "##Encoding Classes"
      ],
      "metadata": {
        "id": "tNc2NkFh3vHO"
      }
    },
    {
      "cell_type": "code",
      "source": [
        "type(y_train)"
      ],
      "metadata": {
        "colab": {
          "base_uri": "https://localhost:8080/"
        },
        "id": "mY1yHtIc3vzw",
        "outputId": "a1f14c26-7a9b-495a-ab6f-e4009d8c2fb0"
      },
      "execution_count": null,
      "outputs": [
        {
          "output_type": "execute_result",
          "data": {
            "text/plain": [
              "numpy.ndarray"
            ]
          },
          "metadata": {},
          "execution_count": 129
        }
      ]
    },
    {
      "cell_type": "code",
      "source": [
        "from keras.utils.np_utils import to_categorical\n",
        "\n",
        "Y_train = to_categorical(y_train, num_classes=6)\n",
        "Y_train"
      ],
      "metadata": {
        "colab": {
          "base_uri": "https://localhost:8080/"
        },
        "id": "KT3YjHtkLoZb",
        "outputId": "c0ff46e7-964c-4aab-d339-6c6f39571fb0"
      },
      "execution_count": null,
      "outputs": [
        {
          "output_type": "execute_result",
          "data": {
            "text/plain": [
              "array([[1., 0., 0., 0., 0., 0.],\n",
              "       [1., 0., 0., 0., 0., 0.],\n",
              "       [1., 0., 0., 0., 0., 0.],\n",
              "       ...,\n",
              "       [0., 0., 0., 0., 0., 1.],\n",
              "       [0., 0., 0., 0., 0., 1.],\n",
              "       [0., 0., 0., 0., 0., 1.]], dtype=float32)"
            ]
          },
          "metadata": {},
          "execution_count": 131
        }
      ]
    },
    {
      "cell_type": "code",
      "source": [],
      "metadata": {
        "id": "z7GzaqBiL0El"
      },
      "execution_count": null,
      "outputs": []
    },
    {
      "cell_type": "markdown",
      "source": [
        "##Sources"
      ],
      "metadata": {
        "id": "l4rNRD31MqQ8"
      }
    },
    {
      "cell_type": "code",
      "source": [],
      "metadata": {
        "id": "47gdsPEfMqv6"
      },
      "execution_count": null,
      "outputs": []
    },
    {
      "cell_type": "markdown",
      "source": [
        "Loading data & encoding: https://www.kaggle.com/code/basel99/facial-recognition"
      ],
      "metadata": {
        "id": "lS3p_wofMrNY"
      }
    },
    {
      "cell_type": "markdown",
      "source": [],
      "metadata": {
        "id": "FdmMJZevM5ym"
      }
    },
    {
      "cell_type": "code",
      "source": [],
      "metadata": {
        "id": "SkHX-FecMtts"
      },
      "execution_count": null,
      "outputs": []
    }
  ]
}