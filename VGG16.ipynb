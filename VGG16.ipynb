{
  "cells": [
    {
      "cell_type": "markdown",
      "metadata": {
        "id": "view-in-github",
        "colab_type": "text"
      },
      "source": [
        "<a href=\"https://colab.research.google.com/github/Jade-P/MLGroupProject/blob/Happy--Sohyun/VGG16.ipynb\" target=\"_parent\"><img src=\"https://colab.research.google.com/assets/colab-badge.svg\" alt=\"Open In Colab\"/></a>"
      ]
    },
    {
      "cell_type": "markdown",
      "metadata": {
        "id": "3AtkE_CfNT2W"
      },
      "source": [
        "#Environment & path Setup "
      ]
    },
    {
      "cell_type": "code",
      "execution_count": 1,
      "metadata": {
        "id": "ril1tJEgNVx6"
      },
      "outputs": [],
      "source": [
        "from pydrive.auth import GoogleAuth\n",
        "from google.colab import drive\n",
        "from pydrive.drive import GoogleDrive\n",
        "from google.colab import auth\n",
        "from oauth2client.client import GoogleCredentials"
      ]
    },
    {
      "cell_type": "code",
      "execution_count": 2,
      "metadata": {
        "id": "p4yo5rUJk-st"
      },
      "outputs": [],
      "source": [
        "auth.authenticate_user()\n",
        "gauth = GoogleAuth()\n",
        "gauth.credentials = GoogleCredentials.get_application_default()\n",
        "drive = GoogleDrive(gauth)\n",
        "\n",
        "file_id = '1fr1dJI9LyphQ6Y0Wo_au1ymvUsZnNvXD' \n",
        "\n",
        "\n",
        "download = drive.CreateFile({'id': file_id})\n",
        "\n",
        "\n",
        "# Download the file to a local disc\n",
        "download.GetContentFile('preprocessed.zip')"
      ]
    },
    {
      "cell_type": "code",
      "source": [
        "!unzip -qq preprocessed.zip"
      ],
      "metadata": {
        "id": "ly_GMG7HVg2x"
      },
      "execution_count": 3,
      "outputs": []
    },
    {
      "cell_type": "markdown",
      "metadata": {
        "id": "mdQ0gEw6Nl11"
      },
      "source": [
        "#Load Data"
      ]
    },
    {
      "cell_type": "code",
      "execution_count": 4,
      "metadata": {
        "id": "Psc5V2PqNnS1"
      },
      "outputs": [],
      "source": [
        "import numpy as np \n",
        "from tqdm import tqdm\n",
        "import cv2\n",
        "import os\n",
        "import tensorflow as tf\n",
        "import matplotlib.pyplot as plt\n",
        "RANDOM_SEED = 123"
      ]
    },
    {
      "cell_type": "code",
      "execution_count": 5,
      "metadata": {
        "id": "VH3eF_bbNo7L"
      },
      "outputs": [],
      "source": [
        "TRAIN_DIR = ('Training/Training/')\n",
        "TEST_DIR = ('Testing/Testing/')"
      ]
    },
    {
      "cell_type": "code",
      "execution_count": 6,
      "metadata": {
        "id": "scUM63m_NqL7"
      },
      "outputs": [],
      "source": [
        "emotions = ['Angry', 'Fear', 'Happy', 'Neutral', 'Sad', 'Suprise']"
      ]
    },
    {
      "cell_type": "code",
      "execution_count": 7,
      "metadata": {
        "id": "s707Mx08NrX7"
      },
      "outputs": [],
      "source": [
        "def load_data(dir_path, IMG_SIZE):\n",
        "   \n",
        "    X = []\n",
        "    y = []\n",
        "    i = 0\n",
        "    labels = dict()\n",
        "    for path in tqdm(sorted(emotions)):\n",
        "        if not path.startswith('.'):\n",
        "            labels[i] = path\n",
        "            for file in os.listdir(dir_path + path):\n",
        "                if not file.startswith('.'):\n",
        "                    img = cv2.imread(dir_path + path + '/' + file, cv2.IMREAD_GRAYSCALE)\n",
        "                    img = img.astype('float32') / 255\n",
        "                    resized = cv2.resize(img, IMG_SIZE, interpolation = cv2.INTER_AREA)\n",
        "                    X.append(resized)\n",
        "                    y.append(i)\n",
        "            i += 1\n",
        "    X = np.array(X)\n",
        "    y = np.array(y)\n",
        "    print(f'{len(X)} images loaded from {dir_path} directory.')\n",
        "    return X, y, labels"
      ]
    },
    {
      "cell_type": "code",
      "execution_count": 8,
      "metadata": {
        "id": "RzR28GqbNsi7"
      },
      "outputs": [],
      "source": [
        "IMG_SIZE= (48, 48)"
      ]
    },
    {
      "cell_type": "code",
      "execution_count": 9,
      "metadata": {
        "colab": {
          "base_uri": "https://localhost:8080/"
        },
        "id": "M083w1OYNttK",
        "outputId": "4a91cbfe-4dca-42b3-e3bd-3ad3c39b095d"
      },
      "outputs": [
        {
          "output_type": "stream",
          "name": "stderr",
          "text": [
            "100%|██████████| 6/6 [00:03<00:00,  1.69it/s]\n"
          ]
        },
        {
          "output_type": "stream",
          "name": "stdout",
          "text": [
            "36854 images loaded from Training/Training/ directory.\n"
          ]
        }
      ],
      "source": [
        "X_train, y_train, train_labels = load_data(TRAIN_DIR, IMG_SIZE)"
      ]
    },
    {
      "cell_type": "code",
      "execution_count": 10,
      "metadata": {
        "colab": {
          "base_uri": "https://localhost:8080/"
        },
        "id": "yMUcU1TINute",
        "outputId": "abb4c1d9-894b-4c59-f9da-e06c126b9cb1"
      },
      "outputs": [
        {
          "output_type": "execute_result",
          "data": {
            "text/plain": [
              "{0: 'Angry', 1: 'Fear', 2: 'Happy', 3: 'Neutral', 4: 'Sad', 5: 'Suprise'}"
            ]
          },
          "metadata": {},
          "execution_count": 10
        }
      ],
      "source": [
        "train_labels"
      ]
    },
    {
      "cell_type": "code",
      "execution_count": 11,
      "metadata": {
        "colab": {
          "base_uri": "https://localhost:8080/"
        },
        "id": "R_uzhsuJNwBq",
        "outputId": "f27b20bf-110a-44c0-d54d-ddc719f3df94"
      },
      "outputs": [
        {
          "output_type": "stream",
          "name": "stderr",
          "text": [
            "100%|██████████| 6/6 [00:00<00:00, 13.15it/s]"
          ]
        },
        {
          "output_type": "stream",
          "name": "stdout",
          "text": [
            "7067 images loaded from Testing/Testing/ directory.\n"
          ]
        },
        {
          "output_type": "stream",
          "name": "stderr",
          "text": [
            "\n"
          ]
        }
      ],
      "source": [
        "X_test, y_test, test_labels = load_data(TEST_DIR,IMG_SIZE)"
      ]
    },
    {
      "cell_type": "code",
      "execution_count": 12,
      "metadata": {
        "colab": {
          "base_uri": "https://localhost:8080/"
        },
        "id": "TSMFePuaoMpq",
        "outputId": "809c6571-c160-4f1d-bed5-e3ed42c63b68"
      },
      "outputs": [
        {
          "output_type": "execute_result",
          "data": {
            "text/plain": [
              "(36854, 48, 48)"
            ]
          },
          "metadata": {},
          "execution_count": 12
        }
      ],
      "source": [
        "X_train.shape"
      ]
    },
    {
      "cell_type": "markdown",
      "source": [
        "#Model Building"
      ],
      "metadata": {
        "id": "cYXl65MmPHzR"
      }
    },
    {
      "cell_type": "code",
      "source": [
        "from sklearn.utils import shuffle\n",
        "\n",
        "X_train, y_train = shuffle(X_train, y_train)"
      ],
      "metadata": {
        "id": "UQHMHrkwVqs3"
      },
      "execution_count": 17,
      "outputs": []
    },
    {
      "cell_type": "code",
      "source": [
        "from keras.utils import to_categorical\n",
        "\n",
        "Y_train = to_categorical(y_train, num_classes=6)\n",
        "Y_train.shape"
      ],
      "metadata": {
        "colab": {
          "base_uri": "https://localhost:8080/"
        },
        "id": "JrU8CVjmWxSM",
        "outputId": "6f82606a-00f5-4e79-f5b8-6b3e22aaa258"
      },
      "execution_count": 19,
      "outputs": [
        {
          "output_type": "execute_result",
          "data": {
            "text/plain": [
              "(36854, 6)"
            ]
          },
          "metadata": {},
          "execution_count": 19
        }
      ]
    },
    {
      "cell_type": "code",
      "source": [
        "Y_test = to_categorical(y_test, num_classes=6)\n",
        "Y_test.shape"
      ],
      "metadata": {
        "colab": {
          "base_uri": "https://localhost:8080/"
        },
        "id": "mgpH_MxZPVay",
        "outputId": "9ac712a2-4450-4996-ea87-0d6e68127b6e"
      },
      "execution_count": 20,
      "outputs": [
        {
          "output_type": "execute_result",
          "data": {
            "text/plain": [
              "(7067, 6)"
            ]
          },
          "metadata": {},
          "execution_count": 20
        }
      ]
    },
    {
      "cell_type": "code",
      "source": [
        "from keras.applications.vgg19 import VGG19\n",
        "\n",
        "base_model = VGG19(\n",
        "        weights=None,\n",
        "        include_top=False, \n",
        "        input_shape=IMG_SIZE + (1,)\n",
        "    )\n",
        "\n",
        "base_model.summary()"
      ],
      "metadata": {
        "colab": {
          "base_uri": "https://localhost:8080/"
        },
        "id": "fmRaqtQQPaI0",
        "outputId": "3492580a-ecbf-4ddc-ea21-cc2d53a73bab"
      },
      "execution_count": 56,
      "outputs": [
        {
          "output_type": "stream",
          "name": "stdout",
          "text": [
            "Model: \"vgg19\"\n",
            "_________________________________________________________________\n",
            " Layer (type)                Output Shape              Param #   \n",
            "=================================================================\n",
            " input_4 (InputLayer)        [(None, 48, 48, 1)]       0         \n",
            "                                                                 \n",
            " block1_conv1 (Conv2D)       (None, 48, 48, 64)        640       \n",
            "                                                                 \n",
            " block1_conv2 (Conv2D)       (None, 48, 48, 64)        36928     \n",
            "                                                                 \n",
            " block1_pool (MaxPooling2D)  (None, 24, 24, 64)        0         \n",
            "                                                                 \n",
            " block2_conv1 (Conv2D)       (None, 24, 24, 128)       73856     \n",
            "                                                                 \n",
            " block2_conv2 (Conv2D)       (None, 24, 24, 128)       147584    \n",
            "                                                                 \n",
            " block2_pool (MaxPooling2D)  (None, 12, 12, 128)       0         \n",
            "                                                                 \n",
            " block3_conv1 (Conv2D)       (None, 12, 12, 256)       295168    \n",
            "                                                                 \n",
            " block3_conv2 (Conv2D)       (None, 12, 12, 256)       590080    \n",
            "                                                                 \n",
            " block3_conv3 (Conv2D)       (None, 12, 12, 256)       590080    \n",
            "                                                                 \n",
            " block3_conv4 (Conv2D)       (None, 12, 12, 256)       590080    \n",
            "                                                                 \n",
            " block3_pool (MaxPooling2D)  (None, 6, 6, 256)         0         \n",
            "                                                                 \n",
            " block4_conv1 (Conv2D)       (None, 6, 6, 512)         1180160   \n",
            "                                                                 \n",
            " block4_conv2 (Conv2D)       (None, 6, 6, 512)         2359808   \n",
            "                                                                 \n",
            " block4_conv3 (Conv2D)       (None, 6, 6, 512)         2359808   \n",
            "                                                                 \n",
            " block4_conv4 (Conv2D)       (None, 6, 6, 512)         2359808   \n",
            "                                                                 \n",
            " block4_pool (MaxPooling2D)  (None, 3, 3, 512)         0         \n",
            "                                                                 \n",
            " block5_conv1 (Conv2D)       (None, 3, 3, 512)         2359808   \n",
            "                                                                 \n",
            " block5_conv2 (Conv2D)       (None, 3, 3, 512)         2359808   \n",
            "                                                                 \n",
            " block5_conv3 (Conv2D)       (None, 3, 3, 512)         2359808   \n",
            "                                                                 \n",
            " block5_conv4 (Conv2D)       (None, 3, 3, 512)         2359808   \n",
            "                                                                 \n",
            " block5_pool (MaxPooling2D)  (None, 1, 1, 512)         0         \n",
            "                                                                 \n",
            "=================================================================\n",
            "Total params: 20,023,232\n",
            "Trainable params: 20,023,232\n",
            "Non-trainable params: 0\n",
            "_________________________________________________________________\n"
          ]
        }
      ]
    },
    {
      "cell_type": "code",
      "source": [
        "from keras.layers import Dense, Dropout, Flatten, Conv2D, MaxPool2D\n",
        "from keras.preprocessing.image import ImageDataGenerator\n",
        "from keras.applications.vgg16 import VGG16, preprocess_input\n",
        "from keras import layers\n",
        "from keras.models import Model, Sequential\n",
        "from keras.optimizers import Adam, RMSprop\n",
        "from keras.callbacks import EarlyStopping\n",
        "from keras.preprocessing.image import ImageDataGenerator"
      ],
      "metadata": {
        "id": "zRk0CCrfPks0"
      },
      "execution_count": 57,
      "outputs": []
    },
    {
      "cell_type": "code",
      "source": [
        "NUM_CLASSES = 6\n",
        "\n",
        "model = Sequential()\n",
        "model.add(base_model)\n",
        "model.add(Flatten())\n",
        "model.add(Dense(1000, activation=\"relu\"))\n",
        "model.add(Dropout(0.1))\n",
        "model.add(Dense(NUM_CLASSES, activation=\"softmax\"))"
      ],
      "metadata": {
        "id": "Lc3uVo6CPb1X"
      },
      "execution_count": 58,
      "outputs": []
    },
    {
      "cell_type": "code",
      "source": [
        "def deep_model(model, X_train, Y_train, epochs, batch_size, validation_data):\n",
        "   \n",
        "    model.compile(\n",
        "    loss='categorical_crossentropy',\n",
        "    optimizer=RMSprop(learning_rate=1e-4),\n",
        "    metrics=['accuracy'])\n",
        "    \n",
        "    history = model.fit(X_train\n",
        "                       , Y_train\n",
        "                       , epochs=epochs\n",
        "                       , batch_size=batch_size\n",
        "                       , validation_data=(validation_data)\n",
        "                       , verbose=1\n",
        "                       , workers=16\n",
        "                       , steps_per_epoch=len(X_train) // batch_size + 1)\n",
        "    return history"
      ],
      "metadata": {
        "id": "6nT3GVRVPePV"
      },
      "execution_count": 59,
      "outputs": []
    },
    {
      "cell_type": "code",
      "source": [
        "X_train.shape"
      ],
      "metadata": {
        "colab": {
          "base_uri": "https://localhost:8080/"
        },
        "id": "nr6iEkbORDeZ",
        "outputId": "9f52c888-a51a-4648-abfd-220e8c18452b"
      },
      "execution_count": 60,
      "outputs": [
        {
          "output_type": "execute_result",
          "data": {
            "text/plain": [
              "(36854, 48, 48)"
            ]
          },
          "metadata": {},
          "execution_count": 60
        }
      ]
    },
    {
      "cell_type": "code",
      "source": [
        "epochs = 20\n",
        "batch_size = 64\n",
        "\n",
        "history = deep_model(model, X_train, Y_train, epochs, batch_size, validation_data=(X_test, Y_test))"
      ],
      "metadata": {
        "id": "h6cHjce2Pp_I",
        "colab": {
          "base_uri": "https://localhost:8080/"
        },
        "outputId": "46509ec2-c709-4488-a9e3-9f2241949ab5"
      },
      "execution_count": 61,
      "outputs": [
        {
          "output_type": "stream",
          "name": "stdout",
          "text": [
            "Epoch 1/20\n",
            "576/576 [==============================] - 50s 84ms/step - loss: 1.7620 - accuracy: 0.2139 - val_loss: 1.6468 - val_accuracy: 0.3049\n",
            "Epoch 2/20\n",
            "576/576 [==============================] - 48s 83ms/step - loss: 1.5841 - accuracy: 0.3393 - val_loss: 1.4232 - val_accuracy: 0.4268\n",
            "Epoch 3/20\n",
            "576/576 [==============================] - 48s 84ms/step - loss: 1.4270 - accuracy: 0.4129 - val_loss: 1.2984 - val_accuracy: 0.4866\n",
            "Epoch 4/20\n",
            "576/576 [==============================] - 48s 84ms/step - loss: 1.3038 - accuracy: 0.4698 - val_loss: 1.2099 - val_accuracy: 0.5186\n",
            "Epoch 5/20\n",
            "576/576 [==============================] - 48s 84ms/step - loss: 1.2164 - accuracy: 0.5091 - val_loss: 1.1912 - val_accuracy: 0.5264\n",
            "Epoch 6/20\n",
            "576/576 [==============================] - 48s 84ms/step - loss: 1.1472 - accuracy: 0.5385 - val_loss: 1.1666 - val_accuracy: 0.5318\n",
            "Epoch 7/20\n",
            "576/576 [==============================] - 48s 84ms/step - loss: 1.0708 - accuracy: 0.5765 - val_loss: 1.1168 - val_accuracy: 0.5739\n",
            "Epoch 8/20\n",
            "576/576 [==============================] - 48s 84ms/step - loss: 1.0040 - accuracy: 0.6074 - val_loss: 1.1000 - val_accuracy: 0.5841\n",
            "Epoch 9/20\n",
            "576/576 [==============================] - 48s 84ms/step - loss: 0.9256 - accuracy: 0.6406 - val_loss: 1.0785 - val_accuracy: 0.5997\n",
            "Epoch 10/20\n",
            "576/576 [==============================] - 48s 84ms/step - loss: 0.8451 - accuracy: 0.6759 - val_loss: 1.1861 - val_accuracy: 0.5959\n",
            "Epoch 11/20\n",
            "576/576 [==============================] - 48s 84ms/step - loss: 0.7605 - accuracy: 0.7129 - val_loss: 1.2163 - val_accuracy: 0.5871\n",
            "Epoch 12/20\n",
            "576/576 [==============================] - 48s 84ms/step - loss: 0.6693 - accuracy: 0.7486 - val_loss: 1.2568 - val_accuracy: 0.6087\n",
            "Epoch 13/20\n",
            "576/576 [==============================] - 48s 84ms/step - loss: 0.5850 - accuracy: 0.7838 - val_loss: 1.2353 - val_accuracy: 0.6140\n",
            "Epoch 14/20\n",
            "576/576 [==============================] - 48s 84ms/step - loss: 0.5032 - accuracy: 0.8181 - val_loss: 1.2872 - val_accuracy: 0.6083\n",
            "Epoch 15/20\n",
            "576/576 [==============================] - 48s 84ms/step - loss: 0.4295 - accuracy: 0.8447 - val_loss: 1.6376 - val_accuracy: 0.6154\n",
            "Epoch 16/20\n",
            "576/576 [==============================] - 48s 84ms/step - loss: 0.3804 - accuracy: 0.8653 - val_loss: 1.7320 - val_accuracy: 0.6044\n",
            "Epoch 17/20\n",
            "576/576 [==============================] - 48s 84ms/step - loss: 0.3267 - accuracy: 0.8871 - val_loss: 2.2382 - val_accuracy: 0.5953\n",
            "Epoch 18/20\n",
            "576/576 [==============================] - 48s 83ms/step - loss: 0.2919 - accuracy: 0.8987 - val_loss: 1.6954 - val_accuracy: 0.6179\n",
            "Epoch 19/20\n",
            "576/576 [==============================] - 48s 84ms/step - loss: 0.2591 - accuracy: 0.9113 - val_loss: 1.7124 - val_accuracy: 0.6034\n",
            "Epoch 20/20\n",
            "576/576 [==============================] - 48s 83ms/step - loss: 0.2379 - accuracy: 0.9204 - val_loss: 1.9572 - val_accuracy: 0.5936\n"
          ]
        }
      ]
    },
    {
      "cell_type": "code",
      "source": [
        "test_loss, test_acc = model.evaluate(X_test,  Y_test, verbose=2)\n",
        "print(test_acc)"
      ],
      "metadata": {
        "id": "XE6XxDotV1fj",
        "colab": {
          "base_uri": "https://localhost:8080/"
        },
        "outputId": "fc7eb1b8-bccb-44e3-df5b-26380972a76d"
      },
      "execution_count": 62,
      "outputs": [
        {
          "output_type": "stream",
          "name": "stdout",
          "text": [
            "221/221 - 3s - loss: 1.9572 - accuracy: 0.5936 - 3s/epoch - 15ms/step\n",
            "0.5936040878295898\n"
          ]
        }
      ]
    },
    {
      "cell_type": "code",
      "source": [
        "plt.plot(history.history['accuracy'], label='accuracy')\n",
        "plt.plot(history.history['val_accuracy'], label = 'val_accuracy')\n",
        "plt.xlabel('Epoch')\n",
        "plt.ylabel('Accuracy')\n",
        "plt.legend(loc='lower right')\n"
      ],
      "metadata": {
        "id": "0yrvG9ikV1xo",
        "colab": {
          "base_uri": "https://localhost:8080/",
          "height": 297
        },
        "outputId": "d8199f3e-1c9f-4165-88ca-35eb4f4ca25a"
      },
      "execution_count": 63,
      "outputs": [
        {
          "output_type": "execute_result",
          "data": {
            "text/plain": [
              "<matplotlib.legend.Legend at 0x7f7b39ccd430>"
            ]
          },
          "metadata": {},
          "execution_count": 63
        },
        {
          "output_type": "display_data",
          "data": {
            "text/plain": [
              "<Figure size 432x288 with 1 Axes>"
            ],
            "image/png": "[encoded data removed]"
          },
          "metadata": {
            "needs_background": "light"
          }
        }
      ]
    },
    {
      "cell_type": "code",
      "source": [
        "plt.plot(history.history['loss'], label='loss')\n",
        "plt.plot(history.history['val_loss'], label = 'val_loss')\n",
        "plt.xlabel('Epoch')\n",
        "plt.ylabel('Loss')\n",
        "plt.legend(loc='upper right')\n",
        "\n",
        "test_loss, test_acc = model.evaluate(X_test,  Y_test, verbose=2)\n",
        "print(test_acc)"
      ],
      "metadata": {
        "colab": {
          "base_uri": "https://localhost:8080/",
          "height": 315
        },
        "id": "-Wjj0XfSPr6i",
        "outputId": "68bdb375-50e7-4136-bc97-8820b007bb99"
      },
      "execution_count": 64,
      "outputs": [
        {
          "output_type": "stream",
          "name": "stdout",
          "text": [
            "221/221 - 3s - loss: 1.9572 - accuracy: 0.5936 - 3s/epoch - 15ms/step\n",
            "0.5936040878295898\n"
          ]
        },
        {
          "output_type": "display_data",
          "data": {
            "text/plain": [
              "<Figure size 432x288 with 1 Axes>"
            ],
            "image/png": "[encoded data removed]"
          },
          "metadata": {
            "needs_background": "light"
          }
        }
      ]
    },
    {
      "cell_type": "markdown",
      "metadata": {
        "id": "l4rNRD31MqQ8"
      },
      "source": [
        "#Sources"
      ]
    },
    {
      "cell_type": "markdown",
      "metadata": {
        "id": "tOK0Kj79CpIy"
      },
      "source": [
        "https://www.kaggle.com/code/basel99/facial-recognition"
      ]
    }
  ],
  "metadata": {
    "colab": {
      "provenance": [],
      "include_colab_link": true
    },
    "kernelspec": {
      "display_name": "Python 3",
      "name": "python3"
    },
    "language_info": {
      "name": "python"
    },
    "accelerator": "GPU",
    "gpuClass": "standard"
  },
  "nbformat": 4,
  "nbformat_minor": 0
}